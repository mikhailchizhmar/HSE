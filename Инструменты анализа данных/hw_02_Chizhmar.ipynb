{
 "cells": [
  {
   "cell_type": "markdown",
   "metadata": {},
   "source": [
    "# Задание 1\n",
    "\n",
    "\n",
    "Дано: [Сайт Библио-Глобуса](https://www.biblio-globus.ru)\n",
    "\n",
    "Мможно еще использовать вместо него [сайт Читай-Города](https://www.chitai-gorod.ru)\n",
    "\n",
    "\n",
    "Задание: средствами парсинга (beautiful soup, selenium) ответить на список вопросов ниже\n",
    "\n",
    "\n",
    "1) Какова в среднем длина (в страницах) книги из категории классическая литература в ассортименте магазина?\n",
    "\n",
    "2) Какое у этих книг распределение цен? (попробуйте нарисовать [гистограмму](https://matplotlib.org/stable/api/_as_gen/matplotlib.pyplot.hist.html)\n",
    "\n",
    "3) Как соотносятся средние цены книг по Python, Машинному обучению и C++ ? (поясните, как именно вы доставали такие книги :), то есть \"я буду доставать книги вот так, потому что...\")\n"
   ]
  },
  {
   "cell_type": "markdown",
   "metadata": {},
   "source": [
    "### 1. Какова в среднем длина (в страницах) книги из категории классическая литература в ассортименте магазина?"
   ]
  },
  {
   "cell_type": "code",
   "execution_count": 135,
   "metadata": {},
   "outputs": [],
   "source": [
    "from bs4 import BeautifulSoup\n",
    "import time\n",
    "import requests\n",
    "import matplotlib.pyplot as plt\n",
    "import numpy as np\n",
    "import random\n",
    "from tqdm import tqdm"
   ]
  },
  {
   "cell_type": "code",
   "execution_count": 38,
   "metadata": {},
   "outputs": [
    {
     "name": "stderr",
     "output_type": "stream",
     "text": [
      "100%|████████████████████████████████████████████████████████████████████████████████| 249/249 [27:08<00:00,  6.54s/it]\n"
     ]
    }
   ],
   "source": [
    "headers = {\n",
    "    \"User-Agent\": \"Mozilla/5.0 (Windows NT 10.0; Win64; x64) AppleWebKit/537.36 (KHTML, like Gecko) Chrome/100.0.0.0 Safari/537.36\"\n",
    "}\n",
    "\n",
    "book_links = []\n",
    "\n",
    "for i in tqdm(range(1, 250)):\n",
    "    url = f\"https://www.biblio-globus.ru/catalog/category?id=226&page={i}\"\n",
    "    response = requests.get(url, headers=headers)\n",
    "    time.sleep(1 + 2 * random.random())\n",
    "    soup = BeautifulSoup(response.text, 'html.parser')\n",
    "    \n",
    "    books = soup.find_all(\"a\", class_=\"img_link\")\n",
    "    for book in books:\n",
    "        link = book['href']\n",
    "        full_link = \"https://www.biblio-globus.ru\" + link\n",
    "        book_links.append(full_link)"
   ]
  },
  {
   "cell_type": "code",
   "execution_count": 136,
   "metadata": {},
   "outputs": [
    {
     "name": "stderr",
     "output_type": "stream",
     "text": [
      "100%|████████████████████████████████████████████████████████████████████████████| 2985/2985 [2:17:50<00:00,  2.77s/it]\n"
     ]
    }
   ],
   "source": [
    "pages = []\n",
    "prices = []\n",
    "\n",
    "for link in tqdm(book_links):\n",
    "    response = requests.get(link, headers=headers)\n",
    "    time.sleep(3 * random.random())\n",
    "    book_soup = BeautifulSoup(response.text, 'html.parser')\n",
    "    pages_element = book_soup.find('td', string=\"Количество страниц:\").find_next_sibling('td')\n",
    "    if pages_element:\n",
    "        pages.append(pages_element.text.strip())\n",
    "\n",
    "    prices_element = book_soup.find('span', class_=\"price_with_discount\")\n",
    "    if prices_element:\n",
    "        prices.append(prices_element.text.strip())\n",
    "    else:\n",
    "        prices_element_reserve = book_soup.find('span', class_=\"price_new\")\n",
    "        if prices_element_reserve:\n",
    "            prices.append(prices_element_reserve.text.strip())\n",
    "            # print(\"pages:\", pages)\n",
    "    # print(\"prices:\", prices)"
   ]
  },
  {
   "cell_type": "code",
   "execution_count": 141,
   "metadata": {},
   "outputs": [],
   "source": [
    "for i in range(len(pages)):\n",
    "    while not pages[i].isdigit():\n",
    "        pages[i] = pages[i][:-1]\n",
    "    pages[i] = int(pages[i])"
   ]
  },
  {
   "cell_type": "code",
   "execution_count": 142,
   "metadata": {},
   "outputs": [
    {
     "data": {
      "text/plain": [
       "456"
      ]
     },
     "execution_count": 142,
     "metadata": {},
     "output_type": "execute_result"
    }
   ],
   "source": [
    "round(np.mean(pages))"
   ]
  },
  {
   "cell_type": "markdown",
   "metadata": {},
   "source": [
    "### 2. Какое у этих книг распределение цен? (попробуйте нарисовать гистограмму)"
   ]
  },
  {
   "cell_type": "code",
   "execution_count": 151,
   "metadata": {},
   "outputs": [],
   "source": [
    "p = prices.copy()"
   ]
  },
  {
   "cell_type": "code",
   "execution_count": 152,
   "metadata": {},
   "outputs": [],
   "source": [
    "for i in range(len(p)):\n",
    "    p[i] = int(p[i][:-2])"
   ]
  },
  {
   "cell_type": "code",
   "execution_count": 162,
   "metadata": {},
   "outputs": [
    {
     "data": {
      "image/png": "[encoded data removed]",
      "text/plain": [
       "<Figure size 640x480 with 1 Axes>"
      ]
     },
     "metadata": {},
     "output_type": "display_data"
    }
   ],
   "source": [
    "plt.hist(p, range=[0, 4500]);\n",
    "# смещенное распределение"
   ]
  },
  {
   "cell_type": "markdown",
   "metadata": {},
   "source": [
    "### 3. Как соотносятся средние цены книг по Python, Машинному обучению и C++ ? (поясните, как именно вы доставали такие книги :), то есть \"я буду доставать книги вот так, потому что...\")"
   ]
  },
  {
   "cell_type": "markdown",
   "metadata": {},
   "source": [
    "Я буду доставать книги с помощью библиотеки requests, потому что так быстрее, чем при использовании selenium"
   ]
  },
  {
   "cell_type": "code",
   "execution_count": 97,
   "metadata": {},
   "outputs": [],
   "source": [
    "def get_prices(query):\n",
    "    prices = []\n",
    "    for i in tqdm(range(1, 11)):\n",
    "        url = f\"https://www.biblio-globus.ru/search?query={query}&page={i}\"\n",
    "        response = requests.get(url, headers=headers)\n",
    "        time.sleep(1 + 2 * random.random())\n",
    "        soup = BeautifulSoup(response.text, 'html.parser')\n",
    "        \n",
    "        price = soup.find_all(\"span\", class_=\"price_item_new\")\n",
    "    \n",
    "        for el in price:\n",
    "            prices.append(int(el.text.strip()[:-2]))\n",
    "\n",
    "    return prices"
   ]
  },
  {
   "cell_type": "code",
   "execution_count": 98,
   "metadata": {},
   "outputs": [
    {
     "name": "stderr",
     "output_type": "stream",
     "text": [
      "100%|██████████████████████████████████████████████████████████████████████████████████| 10/10 [00:34<00:00,  3.47s/it]\n",
      "100%|██████████████████████████████████████████████████████████████████████████████████| 10/10 [00:37<00:00,  3.75s/it]\n",
      "100%|██████████████████████████████████████████████████████████████████████████████████| 10/10 [00:36<00:00,  3.61s/it]\n"
     ]
    }
   ],
   "source": [
    "python_prices = get_prices(\"Python\")\n",
    "cpp_prices = get_prices(\"C%2b%2b\")\n",
    "ML_prices = get_prices(\"Машинное+обучение\")"
   ]
  },
  {
   "cell_type": "code",
   "execution_count": 133,
   "metadata": {},
   "outputs": [
    {
     "data": {
      "image/png": "[encoded data removed]",
      "text/plain": [
       "<Figure size 640x480 with 1 Axes>"
      ]
     },
     "metadata": {},
     "output_type": "display_data"
    }
   ],
   "source": [
    "plt.bar([\"Python\", \"C++\", \"ML\"], [np.mean(python_prices), np.mean(cpp_prices), np.mean(ML_prices)], color=[\"red\", \"blue\", \"green\"])\n",
    "plt.title(\"Mean price of books\")\n",
    "plt.ylim([0, 2000]);"
   ]
  },
  {
   "cell_type": "markdown",
   "metadata": {},
   "source": [
    "# Задание 2 про перевод из camel_case'a в snake_case\n",
    "\n",
    "Дано произвольное название, написанное в camelCase, перевести его в snake_case"
   ]
  },
  {
   "cell_type": "code",
   "execution_count": 134,
   "metadata": {},
   "outputs": [
    {
     "data": {
      "text/plain": [
       "'camel_case_var'"
      ]
     },
     "execution_count": 134,
     "metadata": {},
     "output_type": "execute_result"
    }
   ],
   "source": [
    "import re\n",
    "v = 'camelCaseVar'\n",
    "\n",
    "re.sub(r'(?<!^)(?=[A-Z])', '_', v).lower()"
   ]
  },
  {
   "cell_type": "markdown",
   "metadata": {},
   "source": [
    "## Задание 3, Про время \n",
    "\n",
    "Вовочка подготовил одно очень важное письмо, но везде указал неправильное время. \n",
    "Поэтому нужно заменить все вхождения времени на строку (TBD). Время — это строка вида HH:MM:SS или HH:MM, в которой HH — число от 00 до 23, а MM и SS — число от 00 до 59.\n",
    "\n",
    "Ввод:\n",
    "\n",
    "    Уважаемые! Если вы к 09:00 не вернёте \n",
    "    чемодан, то уже в 09:00:01 я за себя не отвечаю. \n",
    "    PS. С отношением 25:50 всё нормально!\n",
    "    \n",
    "Вывод:\n",
    "\n",
    "    Уважаемые! Если вы к (TBD) не вернёте \n",
    "    чемодан, то уже в (TBD) я за себя не отвечаю. \n",
    "    PS. С отношением 25:50 всё нормально!"
   ]
  },
  {
   "cell_type": "code",
   "execution_count": 164,
   "metadata": {},
   "outputs": [
    {
     "name": "stdout",
     "output_type": "stream",
     "text": [
      "Уважаемые! Если вы к (TBD) не вернёте \n",
      "чемодан, то уже в (TBD) я за себя не отвечаю. \n",
      "PS. С отношением 25:50 всё нормально!\n"
     ]
    }
   ],
   "source": [
    "inp = \"\"\"Уважаемые! Если вы к 09:00 не вернёте \n",
    "чемодан, то уже в 09:00:01 я за себя не отвечаю. \n",
    "PS. С отношением 25:50 всё нормально!\"\"\"\n",
    "\n",
    "pattern = r'\\b([01]\\d|2[0-3]):[0-5]\\d(:[0-5]\\d)?\\b'\n",
    "result = re.sub(pattern, '(TBD)', inp)\n",
    "print(result)"
   ]
  },
  {
   "cell_type": "markdown",
   "metadata": {},
   "source": [
    "# Задание 4 Про отчетность \n",
    "\n",
    "Владимиру потребовалось срочно запутать финансовую документацию. Но так, чтобы это было обратимо. \n",
    "Он не придумал ничего лучше, чем заменить каждое целое число (непрерывную последовательность цифр) на его куб. Помогите ему.\n",
    "\n",
    "Ввод:\n",
    "\n",
    "    Было закуплено 12 единиц техники \n",
    "    по 410.37 рублей.\n",
    "    \n",
    "Вывод:\n",
    "\n",
    "    Было закуплено 1728 единиц техники \n",
    "    по 68921000.50653 рублей."
   ]
  },
  {
   "cell_type": "code",
   "execution_count": 4,
   "metadata": {},
   "outputs": [
    {
     "data": {
      "text/plain": [
       "'seven ate nine'"
      ]
     },
     "execution_count": 4,
     "metadata": {},
     "output_type": "execute_result"
    }
   ],
   "source": [
    "# Для решения вероятно в функцию sub надо будет пихать другую функцию. Пример \"как это делать\"\n",
    "\n",
    "import re\n",
    "\n",
    "def convert_func(matchobj):\n",
    "    m =  matchobj.group(0)\n",
    "    map = {'7': 'seven',\n",
    "           '8': 'eight',\n",
    "           '9': 'nine'}\n",
    "    return map[m]\n",
    "\n",
    "line = \"7 ate 9\"\n",
    "new_line =  re.sub(\"[7-9]\", convert_func, line)\n",
    "\n",
    "new_line"
   ]
  },
  {
   "cell_type": "code",
   "execution_count": 171,
   "metadata": {},
   "outputs": [
    {
     "name": "stdout",
     "output_type": "stream",
     "text": [
      "Было закуплено 1728 единиц техники \n",
      "по 68921000.50653 рублей.\n"
     ]
    }
   ],
   "source": [
    "def cube(match):\n",
    "    num = int(match.group(0))\n",
    "    return str(num ** 3)\n",
    "\n",
    "input = \"\"\"Было закуплено 12 единиц техники \n",
    "по 410.37 рублей.\"\"\"\n",
    "output = re.sub(r'\\d+', cube, input)\n",
    "print(output)"
   ]
  }
 ],
 "metadata": {
  "kernelspec": {
   "display_name": "Python 3 (ipykernel)",
   "language": "python",
   "name": "python3"
  },
  "language_info": {
   "codemirror_mode": {
    "name": "ipython",
    "version": 3
   },
   "file_extension": ".py",
   "mimetype": "text/x-python",
   "name": "python",
   "nbconvert_exporter": "python",
   "pygments_lexer": "ipython3",
   "version": "3.12.3"
  }
 },
 "nbformat": 4,
 "nbformat_minor": 4
}
