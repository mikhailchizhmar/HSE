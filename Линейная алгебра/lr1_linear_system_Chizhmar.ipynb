{
 "cells": [
  {
   "cell_type": "markdown",
   "metadata": {
    "id": "XycF4DIeSGcI"
   },
   "source": [
    "# Линейная алгебра. Лабораторная работа 1, осень 2023"
   ]
  },
  {
   "cell_type": "markdown",
   "metadata": {
    "id": "7Gxvx5TESSlO"
   },
   "source": [
    "В этой лабораторной работе вы познакомитесь со средой Jupyter Notebook и библиотеками numpy и scipy."
   ]
  },
  {
   "cell_type": "markdown",
   "metadata": {
    "id": "CFfMtvTiSaah"
   },
   "source": [
    "## Часть 1. Библиотеки(10 баллов)\n",
    "\n",
    "> Блок с отступами\n",
    "\n"
   ]
  },
  {
   "cell_type": "markdown",
   "metadata": {
    "id": "kuxibm_sSwrv"
   },
   "source": [
    "В этой лабораторной работе вам понадобятся три библиотеки:\n",
    "\n",
    "---\n",
    "\n",
    "\n",
    "\n",
    "---\n",
    "\n",
    "\n",
    "\n",
    "- `numpy` - основная библиотека для работы с многомерными массивами и матрицами, а также для выполнения операций линейной алгебры. Она предоставляет высокопроизводительные структуры данных и функции для работы с числовыми массивами;\n",
    "- `sympy`, - это библиотека символьной математики для Python. Она предоставляет инструменты для символьных вычислений, включая символьное дифференцирование, интегрирование, алгебру и т. д. SymPy позволяет работать с математическими выражениями такими, как символьные переменные, уравнения и функции, в отличие от NumPy, который работает в основном с числовыми массивами.\n",
    "- `matplotlib` - библиотека для отрисовки графиков\n",
    "\n",
    "Подключить их можно следующим образом:"
   ]
  },
  {
   "cell_type": "code",
   "execution_count": 3,
   "metadata": {
    "id": "k1t26Wcy46Rn"
   },
   "outputs": [],
   "source": [
    "# Запустите этот код\n",
    "from typing import List, Union\n",
    "\n",
    "import numpy as np\n",
    "import sympy as sp\n",
    "import matplotlib.pyplot as plt"
   ]
  },
  {
   "cell_type": "code",
   "execution_count": 4,
   "metadata": {
    "id": "BGN4eoDN46Ro"
   },
   "outputs": [],
   "source": [
    "m = np.array([\n",
    "    [1, 2, 3, 4],\n",
    "    [0, 0, 0 ,0],\n",
    "    [5, 6, 7, 7]\n",
    "])"
   ]
  },
  {
   "cell_type": "markdown",
   "metadata": {
    "id": "GLft9KTDvpHg"
   },
   "source": [
    "Обратите внимание, что матрица заполняется *по строкам*.\n",
    "- `np.array(obj, dtype, ...)` - преобразование из списка, кортежа, генератора, другого массива, ...\n",
    "    - `obj` - объект, который нужно преобразовать\n",
    "    - `dtype` - тип элемента массива\n",
    "\n",
    "Есть и много других конструкторов матриц. Например, единичная матрица размера $n\\times n$ создаётся с помощью функции `numpy.eye(n)` или при помощи функции `sympy.eye(n)`, некоторые функции numpy аналогичны функциям sympy.\n",
    "Попробуйте проверить это утверждение на практике, посмотрите, чем отличаются стандартные функции двух библиотек и в чем отличие функций для работы с матрицами."
   ]
  },
  {
   "cell_type": "code",
   "execution_count": 7,
   "metadata": {
    "colab": {
     "base_uri": "https://localhost:8080/"
    },
    "id": "WPT3lC_F46Rp",
    "outputId": "c1f6316c-7d1c-4932-ef10-4ff41abcd26b"
   },
   "outputs": [
    {
     "data": {
      "text/plain": [
       "array([False,  True, False])"
      ]
     },
     "execution_count": 7,
     "metadata": {},
     "output_type": "execute_result"
    }
   ],
   "source": [
    "np.all(m == 0, axis=1)\n",
    "#Показывает, все ли значения вдоль оси (0 -  в столбце, 1 - в строке) имеют значения True"
   ]
  },
  {
   "cell_type": "code",
   "execution_count": 8,
   "metadata": {
    "colab": {
     "base_uri": "https://localhost:8080/"
    },
    "id": "ByPQy6LlxYhj",
    "outputId": "60ad84b2-d4b8-4a37-8be4-f92e87297439"
   },
   "outputs": [
    {
     "data": {
      "text/plain": [
       "array([  0,   1,   4,   9,  16,  25,  36,  49,  64,  81, 100, 121, 144])"
      ]
     },
     "execution_count": 8,
     "metadata": {},
     "output_type": "execute_result"
    }
   ],
   "source": [
    "# преобразование из генератора списка, создает вектор\n",
    "np.array([x**2 for x in range(13)])"
   ]
  },
  {
   "cell_type": "code",
   "execution_count": 9,
   "metadata": {
    "id": "QUMtCJWX46Rq"
   },
   "outputs": [],
   "source": [
    "M = np.array([\n",
    "    [1, 2, 3],\n",
    "    [4, 5, 6],\n",
    "    [7, 8, 9]\n",
    "])"
   ]
  },
  {
   "cell_type": "markdown",
   "metadata": {
    "id": "bmduhxZ72S5c"
   },
   "source": [
    "Зачастую бывает нужно получить доступ к подматрицам данной матрицы, и numpy предоставляет множество удобных средств, как это сделать (называется slicing):\n",
    "- элемент с номером `(i,j)`: `A[i,j]`\n",
    "- i-я строка матрицы: `A[i,:]`\n",
    "- j-й столбец матрицы: `A[:,j]`\n",
    "\n",
    "    \n",
    "- срез не копирует часть массива, а создает новое представление `view`, через которое можно как считывать, так и записывать значения элементов части исходного массива(в данном случае матрицы - двумерного массива)\n",
    "\n",
    "\n",
    "**Внимание!** Оба варианта, и `A[i,:]`, и `A[:,j]` дают не строку или столбец, а одномерный вектор. Если вы хотите получить вектор-строку или вектор-столбец соответственно, используйте вот такой синтаксис: `A[i:i+1,:]`, и `A[:,j:j+1]`\n",
    "- строки с нулевой по i-ю: `A[:i+1,:]`\n",
    "- столбцы с j-го по последний: `A[:,j:]`\n",
    "- строки с i-й по k-ю: `A[i:k,:]`\n",
    "\n",
    "В некоторых случаях нужно получить доступ к (прямоугольной) подматрице, элементы которой находятся на пересечении строк из списка `rows` и столбцов `columns`. В этом случае `A[rows, columns]` даст не то, что вы ожидаете (можете попробовать это сделать сами и увидеть, что получится; только возьмите `rows` и `columns` одного размера). Справиться с этой задачей позволяет код `A[np.ix_(rows, columns)]`."
   ]
  },
  {
   "cell_type": "code",
   "execution_count": 10,
   "metadata": {
    "id": "FkLYQya746Rs"
   },
   "outputs": [],
   "source": [
    "i = 0\n",
    "j = 1\n",
    "M[[i, i + j]] = M[[i + j, i]]"
   ]
  },
  {
   "cell_type": "code",
   "execution_count": 11,
   "metadata": {
    "colab": {
     "base_uri": "https://localhost:8080/"
    },
    "id": "CqUYeG5O46Rr",
    "outputId": "bed68811-1058-42fd-a339-d9db11ec7aab"
   },
   "outputs": [
    {
     "data": {
      "text/plain": [
       "array([[4, 5, 6],\n",
       "       [1, 2, 3]])"
      ]
     },
     "execution_count": 11,
     "metadata": {},
     "output_type": "execute_result"
    }
   ],
   "source": [
    "M[[i, i + j]]"
   ]
  },
  {
   "cell_type": "code",
   "execution_count": 12,
   "metadata": {
    "colab": {
     "base_uri": "https://localhost:8080/"
    },
    "id": "vG9SLW5t46Rt",
    "outputId": "2c52061c-dce6-4894-a183-372c456be359"
   },
   "outputs": [
    {
     "data": {
      "text/plain": [
       "array([[4, 5, 6],\n",
       "       [1, 2, 3],\n",
       "       [7, 8, 9]])"
      ]
     },
     "execution_count": 12,
     "metadata": {},
     "output_type": "execute_result"
    }
   ],
   "source": [
    "M"
   ]
  },
  {
   "cell_type": "code",
   "execution_count": 13,
   "metadata": {
    "id": "_CDlGVBI46Rt",
    "outputId": "92bcd587-f362-49b8-a2f0-265f500a10b5"
   },
   "outputs": [
    {
     "data": {
      "text/plain": [
       "array([[1, 2, 3],\n",
       "       [4, 5, 6]])"
      ]
     },
     "execution_count": 13,
     "metadata": {},
     "output_type": "execute_result"
    }
   ],
   "source": [
    "M[[i + j, i]]"
   ]
  },
  {
   "cell_type": "markdown",
   "metadata": {
    "id": "xSJQe2NuL_o9"
   },
   "source": [
    "*Умножение матриц* производится с помощью оператора `np.dot()` или оператора `@`. Есть варианты написания: `A.dot(B)`, `np.dot(A, B)`, `A @ B`.\n",
    "\n",
    "Обычные знаки арифметических действий (`+`, `-`, `*`) зарезервированы для поэлементных операций. Например, `A * B` &mdash; это матрица, элементами которой являются произведения $A_{ij}B_{ij}$. Помимо этих есть и множество других поэлементных операций. Например, `numpy.exp(A)` &mdash; это матрица, элементами которой являются экспоненты элементов матрицы `A`."
   ]
  },
  {
   "cell_type": "markdown",
   "metadata": {
    "id": "xbvF4GDQMECG"
   },
   "source": [
    "Чтобы получить матрицу, *транспонированную* к матрице `A`, напишите просто `A.T`.\n",
    "\n",
    "В некоторых случаях бывает нужно создавать *случайные матрицы*: например, при проведении экспериментов или для инициализации итеративных методов. Средства для этого предоставляет пакет [numpy.random](https://docs.scipy.org/doc/numpy/reference/routines.random.html). Так, `np.random.rand(m,n)` &mdash; это матрица $m\\times n$, элементы которой независимо выбраны из равномерного распределения на интервале `[0;1)`. Задание на интерес, есть ли аналогичная функция в `sympy`, если есть, то какая?"
   ]
  },
  {
   "cell_type": "markdown",
   "metadata": {
    "id": "XuE8Kq_kMRrr"
   },
   "source": [
    "Для *решения систем линейных уравнений* в пакете `sympy.matrices` есть множество методов, рассмотрение которых выходит за пределы курса линейной алгебры. Мы вам пока предлагаем пользоваться функцией [sympy.matrices.matrices.MatrixBase.solve()](https://docs.sympy.org/latest/modules/matrices/matrices.html#sympy.matrices.matrices.MatrixBase.solve), функция может использовать несколько различных методов, которые перечислены по этой справочной ссылке API. В зависимости от характера матрицы тот или иной метод может быть более эффективным. По умолчанию будет использоваться метод исключения Гаусса-Жордана.\n",
    "\n",
    "Указание метода в решении эквивалентно использованию специализированной решающей функции. Например, используя solve совместно с method=`LU` вызовает `LUsolve()`."
   ]
  },
  {
   "cell_type": "markdown",
   "metadata": {
    "id": "nT9QuCroO07T"
   },
   "source": [
    "Полезные ссылки:\n",
    "\n",
    "[ссылка на документацию библиотеки sympy](https://www.sympy.org/en/index.html)\n",
    "\n",
    "[ссылка на пакет sympy.matrices](https://docs.sympy.org/latest/guides/solving/solve-matrix-equation.html)"
   ]
  },
  {
   "cell_type": "markdown",
   "metadata": {
    "id": "0LuyBm28PfkL"
   },
   "source": [
    "**Перейдем к заданиям**"
   ]
  },
  {
   "cell_type": "markdown",
   "metadata": {
    "id": "viE-ZTRZPu5E"
   },
   "source": [
    "В качестве первого задания мы попросим вас отыскать соответствующие функции в библиотеке и сделать следующее:\n",
    "\n",
    "- создайте нулевую матрицу $Z$ размера $3\\times4$;\n",
    "\n",
    "- создайте диагональную матрицу $5\\times5$ с диагональными элементами 1, 2, 3, 4 и 5;\n",
    "\n",
    "- найдите её след (не силою мысли, а с помощью библиотечных функций, конечно);\n",
    "\n",
    "- найдите обратную к ней матрицу;\n",
    "\n",
    "- сгенерируйте случайную матрицу $X$ размера $4\\times5$;\n",
    "\n",
    "- найдите определитель подматрицы матрицы $X$, расположенной на пересечении 2 и 3 строки и 1 и 2 столбца; считаем, что строки и столбцы нумеруются с единицы (используйте slicing!). Такой определитель называется **минором** матрицы $X$;\n",
    "\n",
    "- найдите произведение $X^TX$.\n",
    "\n",
    "Пожалуйста, каждый пункт делайте в новом блоке и не забывайте распечатывать результаты. Задания необходимо сделать как с помощью `numpy`, так и с помощью\n",
    "`sympy`."
   ]
  },
  {
   "cell_type": "code",
   "execution_count": 25,
   "metadata": {
    "id": "9MSMHVfjQbE_"
   },
   "outputs": [
    {
     "data": {
      "text/plain": [
       "array([[0., 0., 0., 0.],\n",
       "       [0., 0., 0., 0.],\n",
       "       [0., 0., 0., 0.]])"
      ]
     },
     "execution_count": 25,
     "metadata": {},
     "output_type": "execute_result"
    }
   ],
   "source": [
    "Z_np = np.zeros((3, 4))\n",
    "Z_np"
   ]
  },
  {
   "cell_type": "code",
   "execution_count": 26,
   "metadata": {},
   "outputs": [
    {
     "data": {
      "text/latex": [
       "$\\displaystyle \\left[\\begin{matrix}0 & 0 & 0 & 0\\\\0 & 0 & 0 & 0\\\\0 & 0 & 0 & 0\\end{matrix}\\right]$"
      ],
      "text/plain": [
       "⎡0  0  0  0⎤\n",
       "⎢          ⎥\n",
       "⎢0  0  0  0⎥\n",
       "⎢          ⎥\n",
       "⎣0  0  0  0⎦"
      ]
     },
     "execution_count": 26,
     "metadata": {},
     "output_type": "execute_result"
    }
   ],
   "source": [
    "Z_sp = sp.zeros(3, 4)\n",
    "Z_sp"
   ]
  },
  {
   "cell_type": "code",
   "execution_count": 24,
   "metadata": {
    "id": "llIzJmV3QokK"
   },
   "outputs": [
    {
     "data": {
      "text/plain": [
       "array([[1, 0, 0, 0, 0],\n",
       "       [0, 2, 0, 0, 0],\n",
       "       [0, 0, 3, 0, 0],\n",
       "       [0, 0, 0, 4, 0],\n",
       "       [0, 0, 0, 0, 5]])"
      ]
     },
     "execution_count": 24,
     "metadata": {},
     "output_type": "execute_result"
    }
   ],
   "source": [
    "D_np = np.diag([1, 2, 3, 4, 5])\n",
    "D_np"
   ]
  },
  {
   "cell_type": "code",
   "execution_count": 29,
   "metadata": {
    "id": "yuWutybgQopl"
   },
   "outputs": [
    {
     "data": {
      "text/latex": [
       "$\\displaystyle \\left[\\begin{matrix}1 & 0 & 0 & 0 & 0\\\\0 & 2 & 0 & 0 & 0\\\\0 & 0 & 3 & 0 & 0\\\\0 & 0 & 0 & 4 & 0\\\\0 & 0 & 0 & 0 & 5\\end{matrix}\\right]$"
      ],
      "text/plain": [
       "⎡1  0  0  0  0⎤\n",
       "⎢             ⎥\n",
       "⎢0  2  0  0  0⎥\n",
       "⎢             ⎥\n",
       "⎢0  0  3  0  0⎥\n",
       "⎢             ⎥\n",
       "⎢0  0  0  4  0⎥\n",
       "⎢             ⎥\n",
       "⎣0  0  0  0  5⎦"
      ]
     },
     "execution_count": 29,
     "metadata": {},
     "output_type": "execute_result"
    }
   ],
   "source": [
    "D_sp = sp.diag(1, 2, 3, 4, 5)\n",
    "D_sp"
   ]
  },
  {
   "cell_type": "code",
   "execution_count": 30,
   "metadata": {},
   "outputs": [
    {
     "data": {
      "text/plain": [
       "15"
      ]
     },
     "execution_count": 30,
     "metadata": {},
     "output_type": "execute_result"
    }
   ],
   "source": [
    "trace_np = np.trace(D_np)\n",
    "trace_np"
   ]
  },
  {
   "cell_type": "code",
   "execution_count": 31,
   "metadata": {},
   "outputs": [
    {
     "data": {
      "image/png": "[encoded data removed]",
      "text/latex": [
       "$\\displaystyle 15$"
      ],
      "text/plain": [
       "15"
      ]
     },
     "execution_count": 31,
     "metadata": {},
     "output_type": "execute_result"
    }
   ],
   "source": [
    "trace_sp = D_sp.trace()\n",
    "trace_sp"
   ]
  },
  {
   "cell_type": "code",
   "execution_count": 33,
   "metadata": {},
   "outputs": [
    {
     "data": {
      "text/plain": [
       "array([[1.  , 0.  , 0.  , 0.  , 0.  ],\n",
       "       [0.  , 0.5 , 0.  , 0.  , 0.  ],\n",
       "       [0.  , 0.  , 0.33, 0.  , 0.  ],\n",
       "       [0.  , 0.  , 0.  , 0.25, 0.  ],\n",
       "       [0.  , 0.  , 0.  , 0.  , 0.2 ]])"
      ]
     },
     "execution_count": 33,
     "metadata": {},
     "output_type": "execute_result"
    }
   ],
   "source": [
    "D_inv_np = np.round(np.linalg.inv(D_np), 2)\n",
    "D_inv_np"
   ]
  },
  {
   "cell_type": "code",
   "execution_count": 37,
   "metadata": {},
   "outputs": [
    {
     "data": {
      "text/latex": [
       "$\\displaystyle \\left[\\begin{matrix}1 & 0 & 0 & 0 & 0\\\\0 & \\frac{1}{2} & 0 & 0 & 0\\\\0 & 0 & \\frac{1}{3} & 0 & 0\\\\0 & 0 & 0 & \\frac{1}{4} & 0\\\\0 & 0 & 0 & 0 & \\frac{1}{5}\\end{matrix}\\right]$"
      ],
      "text/plain": [
       "⎡1   0    0    0    0 ⎤\n",
       "⎢                     ⎥\n",
       "⎢0  1/2   0    0    0 ⎥\n",
       "⎢                     ⎥\n",
       "⎢0   0   1/3   0    0 ⎥\n",
       "⎢                     ⎥\n",
       "⎢0   0    0   1/4   0 ⎥\n",
       "⎢                     ⎥\n",
       "⎣0   0    0    0   1/5⎦"
      ]
     },
     "execution_count": 37,
     "metadata": {},
     "output_type": "execute_result"
    }
   ],
   "source": [
    "D_inv_sp = D_sp.inv()\n",
    "D_inv_sp"
   ]
  },
  {
   "cell_type": "code",
   "execution_count": 40,
   "metadata": {},
   "outputs": [
    {
     "data": {
      "text/plain": [
       "array([[0.  , 0.31, 0.84, 0.4 , 0.08],\n",
       "       [0.04, 0.34, 0.59, 0.93, 0.71],\n",
       "       [0.38, 0.28, 0.16, 0.36, 0.9 ],\n",
       "       [0.15, 0.81, 0.4 , 0.42, 0.38]])"
      ]
     },
     "execution_count": 40,
     "metadata": {},
     "output_type": "execute_result"
    }
   ],
   "source": [
    "X_np = np.round(np.random.rand(4, 5), 2)\n",
    "X_np"
   ]
  },
  {
   "cell_type": "code",
   "execution_count": 49,
   "metadata": {},
   "outputs": [
    {
     "data": {
      "text/latex": [
       "$\\displaystyle \\left[\\begin{matrix}0.98 & 0.12 & 0.99 & 0.49 & 0.14\\\\0.9 & 0.57 & 0.48 & 0.39 & 0.29\\\\0.73 & 0.69 & 0.93 & 0.68 & 0.13\\\\0.73 & 0.84 & 0.19 & 0.72 & 0.62\\end{matrix}\\right]$"
      ],
      "text/plain": [
       "⎡0.98  0.12  0.99  0.49  0.14⎤\n",
       "⎢                            ⎥\n",
       "⎢0.9   0.57  0.48  0.39  0.29⎥\n",
       "⎢                            ⎥\n",
       "⎢0.73  0.69  0.93  0.68  0.13⎥\n",
       "⎢                            ⎥\n",
       "⎣0.73  0.84  0.19  0.72  0.62⎦"
      ]
     },
     "execution_count": 49,
     "metadata": {},
     "output_type": "execute_result"
    }
   ],
   "source": [
    "# sp.randMatrix(4, 5, min=0, max=1)  # только целые числа\n",
    "import random\n",
    "X_sp = sp.Matrix([[round(random.random(), 2) for _ in range(5)] for _ in range(4)])\n",
    "X_sp"
   ]
  },
  {
   "cell_type": "code",
   "execution_count": 56,
   "metadata": {},
   "outputs": [
    {
     "data": {
      "image/png": "[encoded data removed]",
      "text/latex": [
       "$\\displaystyle -0.118$"
      ],
      "text/plain": [
       "-0.11800000000000002"
      ]
     },
     "execution_count": 56,
     "metadata": {},
     "output_type": "execute_result"
    }
   ],
   "source": [
    "minor_np = np.linalg.det(X_np[1:3, 0:2])\n",
    "minor_np"
   ]
  },
  {
   "cell_type": "code",
   "execution_count": 57,
   "metadata": {
    "id": "QcA6WFx2SCla"
   },
   "outputs": [
    {
     "data": {
      "image/png": "[encoded data removed]",
      "text/latex": [
       "$\\displaystyle 0.2049$"
      ],
      "text/plain": [
       "0.204900000000000"
      ]
     },
     "execution_count": 57,
     "metadata": {},
     "output_type": "execute_result"
    }
   ],
   "source": [
    "minor_sp = X_sp[1:3, 0:2].det()\n",
    "minor_sp"
   ]
  },
  {
   "cell_type": "code",
   "execution_count": 58,
   "metadata": {},
   "outputs": [
    {
     "data": {
      "text/plain": [
       "array([[0.1685, 0.2415, 0.1444, 0.237 , 0.4274],\n",
       "       [0.2415, 0.9462, 0.8298, 0.8812, 0.826 ],\n",
       "       [0.1444, 0.8298, 1.2393, 1.1103, 0.7821],\n",
       "       [0.237 , 0.8812, 1.1103, 1.3309, 1.1759],\n",
       "       [0.4274, 0.826 , 0.7821, 1.1759, 1.4649]])"
      ]
     },
     "execution_count": 58,
     "metadata": {},
     "output_type": "execute_result"
    }
   ],
   "source": [
    "XT_X_np = X_np.T @ X_np\n",
    "XT_X_np"
   ]
  },
  {
   "cell_type": "code",
   "execution_count": 59,
   "metadata": {},
   "outputs": [
    {
     "data": {
      "text/latex": [
       "$\\displaystyle \\left[\\begin{matrix}2.8362 & 1.7475 & 2.2198 & 1.8532 & 0.9457\\\\1.7475 & 1.521 & 1.1937 & 1.3551 & 0.7926\\\\2.2198 & 1.1937 & 2.1115 & 1.4415 & 0.5165\\\\1.8532 & 1.3551 & 1.4415 & 1.373 & 0.7165\\\\0.9457 & 0.7926 & 0.5165 & 0.7165 & 0.505\\end{matrix}\\right]$"
      ],
      "text/plain": [
       "⎡2.8362  1.7475  2.2198  1.8532  0.9457⎤\n",
       "⎢                                      ⎥\n",
       "⎢1.7475  1.521   1.1937  1.3551  0.7926⎥\n",
       "⎢                                      ⎥\n",
       "⎢2.2198  1.1937  2.1115  1.4415  0.5165⎥\n",
       "⎢                                      ⎥\n",
       "⎢1.8532  1.3551  1.4415  1.373   0.7165⎥\n",
       "⎢                                      ⎥\n",
       "⎣0.9457  0.7926  0.5165  0.7165  0.505 ⎦"
      ]
     },
     "execution_count": 59,
     "metadata": {},
     "output_type": "execute_result"
    }
   ],
   "source": [
    "XT_X_sp = X_sp.T * X_sp\n",
    "XT_X_sp"
   ]
  },
  {
   "cell_type": "markdown",
   "metadata": {
    "id": "LtVBa1x_moWr"
   },
   "source": [
    "## Часть 2. Точность(5 баллов)\n",
    "\n",
    "Наверняка вы уже что-то знаете про floating point arithmetics и связанные с этим трудности и понимаете, что на компьютере вычисления с вещественными числами производятся лишь с ограниченной точностью."
   ]
  },
  {
   "cell_type": "markdown",
   "metadata": {
    "id": "5yFj7uCKmoWs"
   },
   "source": [
    "В качестве первого примера, показывающего различие между длинной арифметикой целых чисел и floating point arithmetics, предлагаем вам перемножить две пары матриц:\n",
    "\n",
    "$$\n",
    "\\begin{pmatrix}\n",
    "1 & 0\\\\\n",
    "10^{20} & 1\n",
    "\\end{pmatrix}\n",
    "\\cdot\n",
    "\\begin{pmatrix}\n",
    "10^{-20} & 1\\\\\n",
    "0 & 1 - 10^{20}\n",
    "\\end{pmatrix}\n",
    "$$\n",
    "и\n",
    "$$\n",
    "\\begin{pmatrix}\n",
    "1. & 0.\\\\\n",
    "10.^{20} & 1.\n",
    "\\end{pmatrix}\n",
    "\\cdot\n",
    "\\begin{pmatrix}\n",
    "10.^{-20} & 1.\\\\\n",
    "0. & 1. - 10.^{20}\n",
    "\\end{pmatrix}\n",
    "$$\n",
    "Во втором случае мы специально указали Питону (поставив везде десятичные точки), что хотим работать не с целыми числами, а с числами с плавающей точкой. Посмотрим, получатся ли одинаковые ответы:"
   ]
  },
  {
   "cell_type": "code",
   "execution_count": 70,
   "metadata": {
    "id": "_zUpUvbGmoWs"
   },
   "outputs": [
    {
     "data": {
      "text/plain": [
       "array([[0, 1],\n",
       "       [0, 1]], dtype=object)"
      ]
     },
     "execution_count": 70,
     "metadata": {},
     "output_type": "execute_result"
    }
   ],
   "source": [
    "M1_int = np.array([[1, 0], [10**20, 1]])\n",
    "M2_int = np.array([[int(1e-20), 1], [0, 1-10**20]])\n",
    "res_int = M1_int @ M2_int\n",
    "res_int"
   ]
  },
  {
   "cell_type": "code",
   "execution_count": 80,
   "metadata": {
    "id": "_zUpUvbGmoWs"
   },
   "outputs": [
    {
     "data": {
      "text/plain": [
       "array([[0., 1.],\n",
       "       [1., 0.]])"
      ]
     },
     "execution_count": 80,
     "metadata": {},
     "output_type": "execute_result"
    }
   ],
   "source": [
    "M1_float = np.array([[1., 0.], [1e20, 1.]])\n",
    "M2_float = np.array([[1e-20, 1.], [0., 1.-1e20]])\n",
    "res_float = M1_float @ M2_float\n",
    "np.round(res_float)"
   ]
  },
  {
   "cell_type": "markdown",
   "metadata": {
    "id": "G7ht2QTUmoWs"
   },
   "source": [
    "И какой из них правильный?\n",
    "\n",
    "---\n",
    "**Напишите здесь свой ответ**"
   ]
  },
  {
   "cell_type": "markdown",
   "metadata": {},
   "source": [
    "Различия существенные. Правильным является первый вариант  \n",
    "Правда, в res_int[0, 0] должно быть $10^{-20}$, а не 0"
   ]
  },
  {
   "cell_type": "markdown",
   "metadata": {
    "id": "HjL92lAzmoWt"
   },
   "source": [
    "## Часть 3. Матричные вычисления(10 баллов)\n",
    "\n",
    "---\n",
    "\n"
   ]
  },
  {
   "cell_type": "markdown",
   "metadata": {
    "id": "_tKBETFbmoWt"
   },
   "source": [
    "Как вы уже заметили, в питоне лучше избегать использования циклов, применяя библиотечные функции, они быстрее работают и код выглядит более компактным.\n",
    "\n",
    "В качестве примера рассмотрим две задачи:\n",
    "\n",
    "**1.** Предположим, нужно вычислить суммы элементов в каждой строке матрицы `A`. Ясно, что можно написать простую функцию с двумя циклами, которая это посчитает, но так лучше не делать. Правильный способ такой:\n",
    "```\n",
    "A.sum(axis=1)\n",
    "```\n",
    "Параметр `axis=1` означает, что суммы берутся по строкам. Если вы хотите просуммировать по столбцам, укажите `axis=0`. Если вообще пропустить параметр `axis` (вызвать `A.sum()`), то функция вернёт сумму *всех* элементов матрицы.\n",
    "\n",
    "**2.** Теперь допустим, что нам нужно каждый столбец матрицы `A` умножить на некоторое число. Более точно, пусть у нас есть (одномерный) вектор `w = np.array([w_1,...,w_n])`, и мы должны `i`-й столбец `A` умножить на число `w_i`. Опять же, это можно сделать в пару циклов, но лучше использовать операцию поэлементного умножения:\n",
    "```\n",
    "A * w.reshape((1,n))\n",
    "```\n",
    "Оператор `reshape` нужен для того, чтобы из одномерного вектора сделать вектор-строку.\n",
    "\n",
    "Аналогично, если на числа `w_1,...,w_n` умножаются *строки* матрицы, нужно превратить `w` в вектор-столбец:\n",
    "```\n",
    "A * w.reshape((n,1))\n",
    "```"
   ]
  },
  {
   "cell_type": "markdown",
   "metadata": {
    "id": "cDc9PzhHmoWt"
   },
   "source": [
    "Дальше вам будет предложено попрактиковаться в матричных вычислениях. В следующих трёх заданиях нельзя пользоваться циклами, а также конструкциями `map` и `reduce` и им подобными; вместо этого постарайтесь свести всё к матричным операциям из `numpy` (но, опять же, не `np.vectorize` или чему-то подобному). Чтобы убедиться, что получилось именно то, что нужно, пишите собственные тесты со случайными матрицами."
   ]
  },
  {
   "cell_type": "markdown",
   "metadata": {
    "id": "Q6MLfLDToM8y"
   },
   "source": [
    "Не забудьте написать тесты, которые будут проверять корректность ваших функций."
   ]
  },
  {
   "cell_type": "markdown",
   "metadata": {
    "id": "YT5HrPv_moWt"
   },
   "source": [
    "**Задание 4.1** Напишите функцию `prod_and_sq_sum(A)`, вычисляющую произведение и сумму квадратов диагональных элементов квадратной матрицы `A`."
   ]
  },
  {
   "cell_type": "code",
   "execution_count": 139,
   "metadata": {
    "id": "Ocn0DLI4moWt"
   },
   "outputs": [],
   "source": [
    "def prod_and_sq_sum(A):\n",
    "    if A.shape[0] != A.shape[1]:\n",
    "        raise ValueError(\"Матрица должна быть квадратной!\")\n",
    "    diag_el = np.diag(A)\n",
    "    prod = np.prod(diag_el)\n",
    "    sq_sum = np.sum(diag_el ** 2)\n",
    "    return prod, sq_sum"
   ]
  },
  {
   "cell_type": "code",
   "execution_count": 118,
   "metadata": {},
   "outputs": [],
   "source": [
    "np.random.seed(17)"
   ]
  },
  {
   "cell_type": "code",
   "execution_count": 140,
   "metadata": {},
   "outputs": [
    {
     "name": "stdout",
     "output_type": "stream",
     "text": [
      "Матрица должна быть квадратной!\n"
     ]
    }
   ],
   "source": [
    "A1 = np.random.rand(3, 3)\n",
    "A2 = np.random.rand(2, 2)\n",
    "A3 = np.random.rand(3, 3)\n",
    "A4 = np.random.rand(6, 7)\n",
    "\n",
    "assert prod_and_sq_sum(A1) == (A1[0, 0] * A1[1, 1] * A1[2, 2], A1[0, 0] ** 2 + A1[1, 1] ** 2 + A1[2, 2] ** 2)\n",
    "assert prod_and_sq_sum(A2) == (A2[0, 0] * A2[1, 1], A2[0, 0] ** 2 + A2[1, 1] ** 2)\n",
    "assert prod_and_sq_sum(A3) == (A3[0, 0] * A3[1, 1] * A3[2, 2], A3[0, 0] ** 2 + A3[1, 1] ** 2 + A3[2, 2] ** 2)\n",
    "try:\n",
    "    prod_and_sq_sum(A4)\n",
    "except ValueError as e:\n",
    "    print(e)"
   ]
  },
  {
   "cell_type": "markdown",
   "metadata": {
    "id": "DxShkE1UmoWt"
   },
   "source": [
    "**Задание 4.2** Для матриц `A` и `B` размера $m\\times n$ обозначим через $a_1,\\ldots,a_n$ и $b_1,\\ldots,b_n$ соответственно их столбцы. Напишите функцию `f(A, B, k)`, вычисляющую\n",
    "\n",
    "$$\\sum_{i=1}^{\\min(k,m)}a_ib_i^T$$"
   ]
  },
  {
   "cell_type": "code",
   "execution_count": 141,
   "metadata": {
    "id": "g1vaeLvkmoWu"
   },
   "outputs": [],
   "source": [
    "def f(A, B, k):\n",
    "    m, n = A.shape\n",
    "    if A.shape != B.shape:\n",
    "        raise ValueError(\"Матрицы A и B должны быть одинакового размера!\")\n",
    "\n",
    "    min_k = min(k, m)\n",
    "\n",
    "    A_sub = A[:, :min_k]\n",
    "    B_sub = B[:, :min_k]\n",
    "    \n",
    "    return A_sub @ B_sub.T"
   ]
  },
  {
   "cell_type": "code",
   "execution_count": 152,
   "metadata": {},
   "outputs": [],
   "source": [
    "A = np.array([[2, 0], [0, 2]])\n",
    "B = np.array([[1, 0], [0, 1]])\n",
    "result = f(A, B, 1)\n",
    "expected = np.array([[2, 0], [0, 0]])\n",
    "assert np.allclose(result, expected), \"Ошибка в тесте 1\""
   ]
  },
  {
   "cell_type": "code",
   "execution_count": 153,
   "metadata": {},
   "outputs": [],
   "source": [
    "A = np.array([[1, 2], [3, 4]])\n",
    "B = np.array([[5, 6], [7, 8]])\n",
    "result = f(A, B, 2)\n",
    "expected = (A[:, 0].reshape(-1, 1) @ B[:, 0].reshape(-1, 1).T) + \\\n",
    "           (A[:, 1].reshape(-1, 1) @ B[:, 1].reshape(-1, 1).T)\n",
    "assert np.allclose(result, expected), \"Ошибка в тесте 2\""
   ]
  },
  {
   "cell_type": "code",
   "execution_count": 154,
   "metadata": {},
   "outputs": [],
   "source": [
    "A = np.array([[1, 2], [3, 4]])\n",
    "B = np.array([[5, 6], [7, 8]])\n",
    "result = f(A, B, 1)\n",
    "expected = A[:, 0].reshape(-1, 1) @ B[:, 0].reshape(-1, 1).T\n",
    "assert np.allclose(result, expected), \"Ошибка в тесте 3\""
   ]
  },
  {
   "cell_type": "markdown",
   "metadata": {
    "id": "EUiRcVJdmoWu"
   },
   "source": [
    "**Задание 4.3** Напишите функцию `get_diag(A,B)`, принимающую две квадратных матрицы `A` и `B` одного размера и возвращающую вектор диагональных элементов произведения `AB`, не вычисляя произведение целиком."
   ]
  },
  {
   "cell_type": "code",
   "execution_count": 168,
   "metadata": {
    "id": "LkMn1SHLBTcp"
   },
   "outputs": [],
   "source": [
    "def get_diag(A, B):\n",
    "    if A.shape != B.shape:\n",
    "        raise ValueError(\"Матрицы A и B должны быть одинакового размера!\")\n",
    "    return np.sum(A * B.T, axis=1)"
   ]
  },
  {
   "cell_type": "code",
   "execution_count": 158,
   "metadata": {},
   "outputs": [],
   "source": [
    "A = np.array([[1, 2], [3, 4]])\n",
    "B = np.array([[5, 6], [7, 8]])\n",
    "result = get_diag(A, B)\n",
    "expected = np.array([19, 50])\n",
    "assert np.allclose(result, expected), \"Ошибка в тесте 1\""
   ]
  },
  {
   "cell_type": "code",
   "execution_count": 169,
   "metadata": {},
   "outputs": [],
   "source": [
    "A = np.random.randint(1, 100, size=(3, 3))\n",
    "B = np.random.randint(1, 100, size=(3, 3))\n",
    "result = get_diag(A, B)\n",
    "expected = np.diag(A @ B)\n",
    "assert np.allclose(result, expected), \"Ошибка в тесте 2\""
   ]
  },
  {
   "cell_type": "markdown",
   "metadata": {
    "id": "H9iZAF6TmoWw"
   },
   "source": [
    "## Часть 4. Метод Гаусса(20 баллов)"
   ]
  },
  {
   "cell_type": "markdown",
   "metadata": {
    "id": "JYo1vqDzibqq"
   },
   "source": [
    "В этом разделе вам предстоит самостоятельно написать функции, которые позволят вам применить метод Гаусса в решении СЛАУ. Далее, вы опробуете их в действии.\n",
    "\n"
   ]
  },
  {
   "cell_type": "markdown",
   "metadata": {
    "id": "Px9tp6N4jrR6"
   },
   "source": [
    "Небольшое теоретическое напоминание.\n",
    "Типы элементарных преобразований над матрицами:\n",
    "\n",
    "\n",
    "1.   Перестановка местами двух любых строк матрицы\n",
    "2.   Прибавление к любой строке матрицы другой строки, помноженной на константу\n",
    "3.   Умножение любой строки матрицы на константу `k`, `k != 0`(Что в этом случае становится с определителем матрицы?)\n"
   ]
  },
  {
   "cell_type": "markdown",
   "metadata": {
    "id": "2tvliblqmnn0"
   },
   "source": [
    "Напишите три функции для каждого из методов, которые принимают на вход матрицу $A$ $n\\times m$: np.array\n",
    "\n",
    "1.   `swap_rows` - возвращает матрциу с переставленными двумя строками\n",
    "`swap i, j`\n",
    "2.   `multiply_row` - возвращает матрицу с выбранной строкой помноженной на константу - `i := i * lambda, lambda != 0`\n",
    "3.   `multiply_and_add_rows` - возвращает матрицу с умноженной строкой на константу и прибавлением ее к другой - `i := i + lambda * j`\n",
    "\n",
    "Обязательно проверьте, правильно ли работают ваши функции.\n",
    "\n"
   ]
  },
  {
   "cell_type": "code",
   "execution_count": 13,
   "metadata": {
    "id": "zZ29Zk8tmTIq"
   },
   "outputs": [
    {
     "data": {
      "text/plain": [
       "array([[2, 3, 4, 5],\n",
       "       [2, 3, 4, 5]])"
      ]
     },
     "execution_count": 13,
     "metadata": {},
     "output_type": "execute_result"
    }
   ],
   "source": [
    "def swap_rows(A: np.array, i: int, j: int):\n",
    "    A[i, :], A[j, :] = A[j, :], A[i, :]\n",
    "    return A\n",
    "\n",
    "swap_rows(np.array([[1, 2, 3, 4], [2, 3, 4, 5]]), 0, 1)"
   ]
  },
  {
   "cell_type": "code",
   "execution_count": 15,
   "metadata": {
    "id": "qWVc4qfxmTPL"
   },
   "outputs": [
    {
     "data": {
      "text/plain": [
       "array([[1.  , 2.  , 3.  , 4.  ],\n",
       "       [0.02, 0.03, 0.04, 0.05]])"
      ]
     },
     "execution_count": 15,
     "metadata": {},
     "output_type": "execute_result"
    }
   ],
   "source": [
    "def multiply_row(A: np.array, i: int, ro: float):\n",
    "    A = A.astype(float)\n",
    "    A[i, :] = ro * A[i, :]\n",
    "    return A\n",
    "\n",
    "multiply_row(np.array([[1, 2, 3, 4], [2, 3, 4, 5]]), 1, 1/100)"
   ]
  },
  {
   "cell_type": "code",
   "execution_count": 17,
   "metadata": {
    "id": "hDAP2TgPmTYZ"
   },
   "outputs": [
    {
     "data": {
      "text/plain": [
       "array([[1.01 , 2.015, 3.02 , 4.025],\n",
       "       [2.   , 3.   , 4.   , 5.   ]])"
      ]
     },
     "execution_count": 17,
     "metadata": {},
     "output_type": "execute_result"
    }
   ],
   "source": [
    "def multiply_and_add_rows(A: np.array, i: int, j: int, ro: float):\n",
    "    A = A.astype(float)\n",
    "    A[i, :] = A[i, :] + ro * A[j, :]\n",
    "    return A\n",
    "\n",
    "multiply_and_add_rows(np.array([[1, 2, 3, 4], [2, 3, 4, 5]]), 0, 1, 1/200)"
   ]
  },
  {
   "cell_type": "markdown",
   "metadata": {
    "id": "rPFWxykcpGmB"
   },
   "source": [
    "Разобравшись с преобразованиями матриц, перейдем к решению СЛАУ.\n",
    "На семинаре вы познакомились с методом Гауса, он является наиболее быстрым методом, как для написания программ, так и для вычисления ручками. Сейчас вы попробуете реализовать этот метод.\n",
    "\n",
    "Вам необходимо самостоятельно написать код, который будет реализовывать прямой и обратный проход алгоритма гаусса, используйте функции элементарных преобразований над матрицами, что вы написали ранее. Учтите, что решений может быть множество, одно или не быть вовсе. Сравните свое решение со встроенной функцией библиотеки sympy.\n",
    "\n"
   ]
  },
  {
   "cell_type": "code",
   "execution_count": 18,
   "metadata": {
    "id": "TACCddneFNUl"
   },
   "outputs": [],
   "source": [
    "def gaussian_elimination(A: np.array, b: np.array) -> np.array:\n",
    "    \"\"\"\n",
    "    Метод Гаусса для решения СЛАУ Ax = b.\n",
    "\n",
    "    Параметры:\n",
    "    A -- матрица коэффициентов системы уравнений (np.array)\n",
    "    b -- вектор правой части (np.array)\n",
    "\n",
    "    Возвращает:\n",
    "    верхнетреугольную матрицу M.\n",
    "    \"\"\"\n",
    "    pass\n",
    "    "
   ]
  },
  {
   "cell_type": "markdown",
   "metadata": {
    "id": "M4vX32sYdpBS"
   },
   "source": [
    "Ниже вы видите примеры. Проведите тесты и убедитесь, что решение получилось верным."
   ]
  },
  {
   "cell_type": "code",
   "execution_count": 19,
   "metadata": {
    "id": "Q2ULQ9lf46Ry"
   },
   "outputs": [],
   "source": [
    "one_solution = [\n",
    "    {\n",
    "        'A': np.array([[2, -3], [4, 1]]),\n",
    "        'b': np.array([7, 2])[:, None]\n",
    "    },\n",
    "    {\n",
    "        'A': np.array([[1, 2, -1], [2, -1, 3], [3, 1, -2]]),\n",
    "        'b': np.array([4, 9, 1])[:, None]\n",
    "    },\n",
    "    {\n",
    "        'A': np.array([[1, 2, -1, 3],\n",
    "                       [2, 3, 1, -2],\n",
    "                       [3, 0, -1, 4],\n",
    "                       [4, 1, 1, 1]]),\n",
    "        'b': np.array([10, 5, 12, 8])[:, None]\n",
    "    }\n",
    "]\n",
    "\n",
    "no_solutions = [\n",
    "    {\n",
    "        'A': np.array([[2, -3], [4, -6]]),\n",
    "        'b': np.array([7, 12])[:, None]\n",
    "    },\n",
    "    {\n",
    "        'A': np.array([[1, 2, -1], [2, 4, -2]]),\n",
    "        'b': np.array([4, 9])[:, None]\n",
    "    },\n",
    "    {\n",
    "        'A': np.array([[1, 1, -1, 3],\n",
    "                       [2, 2, 1, -2],\n",
    "                       [3, 3, 4, 1],\n",
    "                       [4, 4, 1, 1]]),\n",
    "        'b': np.array([10, 5, 12, 6])[:, None]\n",
    "    }\n",
    "]\n",
    "\n",
    "infinite_solutions = [\n",
    "    {\n",
    "        'A': np.array([[2, 3], [4, 6]]),\n",
    "        'b': np.array([6, 12])[:, None]\n",
    "    },\n",
    "    {\n",
    "        'A': np.array([[1, -2], [2, -4]]),\n",
    "        'b': np.array([5, 10])[:, None]\n",
    "    },\n",
    "    {\n",
    "        'A': np.array([[1, 2, -1, 3],\n",
    "                       [2, 4, -2, 6],\n",
    "                       [3, 6, -3, 9],\n",
    "                       [4, 8, -4, 12]]),\n",
    "        'b': np.array([8, 16, 24, 32])[:, None]\n",
    "    }\n",
    "]"
   ]
  },
  {
   "cell_type": "code",
   "execution_count": null,
   "metadata": {},
   "outputs": [],
   "source": [
    "for d in one_solution + no_solutions + infinite_solutions:\n",
    "    my_ans = gaussian_elimination(d['A'], d['b'])\n",
    "    augmented_matrix = sp.Matrix.hstack(sp.Matrix(d['A']), sp.Matrix(d['b']))\n",
    "    sympy_ans, pivot_cols = sp.Matrix.rref(augmented_matrix)\n",
    "    sympy_ans = np.array(sympy_ans.tolist()).astype(np.float64)\n",
    "    assert np.allclose(np.array(sympy_ans), my_ans)"
   ]
  },
  {
   "cell_type": "markdown",
   "metadata": {},
   "source": [
    "Получите из верхнетругольной матрицы решение системы в функции get_solutions.\n",
    "Для этого, вы должны посмотреть на то, какой получилась верхнетреугольная матрица, вспомните, что если в результате элементарных преобразований получена строка вида `(0, 0, 0.....0|α)`, где  – число, отличное от нуля, то система несовместна (не имеет решений). В этом случае нет смысла продолжать алгоритмы Гаусса, поскольку обратный проход не нужен. Рассмотрите случай, когда получилась верхнетреугольная матрица, без строки, вида `(0, 0, 0.....0|α)`, на лекциях и семинарах вы разбирали такие случаи, в коде вам необходимо будет учесть этот случай (подсказка: если число переменных больше числа уравнений и у в верхнетреугольной матрицы нет строки вида `(0, 0, 0.....0|α)`, то эта система имеет бесконечное количество решений).\n",
    "\n",
    "\n",
    "На вход функции подается матрица после алгоритма Гаусса, проверить матрицу на все случаи, если система имеет одно решение или бесконечное количество, то применить алгоритм Гаусса, вывести один из трех ответов:\n",
    "\n",
    "\n",
    "*   Не имеет решений, в случае, если есть строка вида `(0, 0, 0.....0|α)` -> вернуть None\n",
    "*   Общее решение СЛАУ, если решений бесконечное количество -> вернуть 'inf'\n",
    "*   Единственное решение -> вернуть решение"
   ]
  },
  {
   "cell_type": "code",
   "execution_count": null,
   "metadata": {},
   "outputs": [],
   "source": [
    "from sympy.solvers.solveset import linsolve\n",
    "\n",
    "def get_solution(S: np.array):\n",
    "    pass\n",
    "\n",
    "for d in one_solution:\n",
    "    my_sol = get_solution(gaussian_elimination(d['A'], d['b'])).ravel()\n",
    "    numpy_sol = np.linalg.solve(d['A'], d['b']).ravel()\n",
    "    assert np.allclose(my_sol, numpy_sol)\n",
    "\n",
    "for d in no_solutions:\n",
    "    my_sol = get_solution(gaussian_elimination(d['A'], d['b']))\n",
    "    assert my_sol is None\n",
    "\n",
    "for d in infinite_solutions:\n",
    "    my_sol = get_solution(gaussian_elimination(d['A'], d['b']))\n",
    "    assert my_sol == 'inf'"
   ]
  }
 ],
 "metadata": {
  "colab": {
   "provenance": []
  },
  "kernelspec": {
   "display_name": "Python 3 (ipykernel)",
   "language": "python",
   "name": "python3"
  },
  "language_info": {
   "codemirror_mode": {
    "name": "ipython",
    "version": 3
   },
   "file_extension": ".py",
   "mimetype": "text/x-python",
   "name": "python",
   "nbconvert_exporter": "python",
   "pygments_lexer": "ipython3",
   "version": "3.12.3"
  }
 },
 "nbformat": 4,
 "nbformat_minor": 4
}
