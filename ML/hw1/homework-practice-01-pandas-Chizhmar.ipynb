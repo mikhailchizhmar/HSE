{
 "cells": [
  {
   "cell_type": "markdown",
   "metadata": {
    "id": "HcF9My_FhLuk"
   },
   "source": [
    "## Машинное обучение 1, ПМИ ФКН ВШЭ\n",
    "\n",
    "## Практическое домашнее задание 1\n",
    "\n",
    "### Общая информация\n",
    "\n",
    "Дата выдачи: 25.09.2024\n",
    "\n",
    "Мягкий дедлайн: 23:59MSK 06.10.2024\n",
    "\n",
    "Жесткий дедлайн: 23:59MSK 10.10.2024"
   ]
  },
  {
   "cell_type": "markdown",
   "metadata": {
    "id": "G64TptyJhLuo"
   },
   "source": [
    "### О задании\n",
    "\n",
    "Задание состоит из двух разделов, посвященных работе с табличными данными с помощью библиотеки `pandas` и визуализации с помощью `matplotlib`. В первом разделе вам предстоит выполнить базовые задания с помощью вышеуказанных библиотек, а во втором распределить студентов по курсам. Баллы даются за выполнение отдельных пунктов. Задачи в рамках одного раздела рекомендуется решать в том порядке, в котором они даны в задании.\n",
    "\n",
    "Задание направлено на освоение jupyter notebook (будет использоваться в дальнейших заданиях), библиотек pandas и matplotlib.\n",
    "\n",
    "### Оценивание и штрафы\n",
    "Каждая из задач имеет определенную «стоимость» (указана в скобках около задачи). Максимально допустимая оценка за работу — 10 баллов без учёта бонусов. Сдавать задание после жёсткого дедлайна нельзя.\n",
    "\n",
    "Задание выполняется самостоятельно. «Похожие» решения считаются плагиатом и все задействованные студенты (в том числе те, у кого списали) не могут получить за него больше 0 баллов (подробнее о плагиате см. на странице курса). Если вы нашли решение какого-то из заданий (или его часть) в открытом источнике, необходимо указать ссылку на этот источник (скорее всего вы будете не единственным, кто это нашел, поэтому чтобы исключить подозрение в плагиате, необходима ссылка на источник).\n",
    "\n",
    "### Формат сдачи\n",
    "Задания сдаются через систему Anytask. Инвайт можно получить у семинариста или ассистента. Присылать необходимо ноутбук с выполненным заданием. Сам ноутбук называйте в формате `homework-practice-01-pandas-Username.ipynb`, где Username — ваша фамилия.\n",
    "\n",
    "Для удобства проверки самостоятельно посчитайте свою максимальную оценку (исходя из набора решенных задач) и укажите ниже.\n",
    "\n",
    "Оценка: 10."
   ]
  },
  {
   "cell_type": "markdown",
   "metadata": {
    "id": "BaXlfHE_hLup"
   },
   "source": [
    "## 0. Введение"
   ]
  },
  {
   "cell_type": "markdown",
   "metadata": {
    "id": "wirAvJNxhLup"
   },
   "source": [
    "Сейчас мы находимся в jupyter-ноутбуке (или ipython-ноутбуке). Это удобная среда для написания кода, проведения экспериментов, изучения данных, построения визуализаций и других нужд, не связанных с написанием production-кода.\n",
    "\n",
    "Ноутбук состоит из ячеек, каждая из которых может быть либо ячейкой с кодом, либо ячейкой с текстом размеченным и неразмеченным. Текст поддерживает markdown-разметку и формулы в Latex.\n",
    "\n",
    "Для работы с содержимым ячейки используется *режим редактирования* (*Edit mode*, включается нажатием клавиши **Enter** после выбора ячейки), а для навигации между ячейками искользуется *командный режим* (*Command mode*, включается нажатием клавиши **Esc**). Тип ячейки можно задать в командном режиме либо с помощью горячих клавиш (**y** to code, **m** to markdown, **r** to edit raw text), либо в меню *Cell -> Cell type*.\n",
    "\n",
    "После заполнения ячейки нужно нажать *Shift + Enter*, эта команда обработает содержимое ячейки: проинтерпретирует код или сверстает размеченный текст."
   ]
  },
  {
   "cell_type": "code",
   "execution_count": 1,
   "metadata": {
    "id": "aQ2_j3nkhLuq"
   },
   "outputs": [
    {
     "data": {
      "text/plain": [
       "4"
      ]
     },
     "execution_count": 1,
     "metadata": {},
     "output_type": "execute_result"
    }
   ],
   "source": [
    "# ячейка с кодом, при выполнении которой появится output\n",
    "2 + 2"
   ]
  },
  {
   "cell_type": "markdown",
   "metadata": {
    "id": "ZlulCwVKhLur"
   },
   "source": [
    "Ячейка с неразмеченным текстом."
   ]
  },
  {
   "cell_type": "markdown",
   "metadata": {
    "id": "A4wkVlIehLur"
   },
   "source": [
    "Попробуйте создать свои ячейки, написать какой-нибудь код и текст какой-нибудь формулой."
   ]
  },
  {
   "cell_type": "code",
   "execution_count": 2,
   "metadata": {
    "id": "BIuaYSvqhLus"
   },
   "outputs": [
    {
     "data": {
      "text/plain": [
       "'Hello, world'"
      ]
     },
     "execution_count": 2,
     "metadata": {},
     "output_type": "execute_result"
    }
   ],
   "source": [
    "\"Hello, world\""
   ]
  },
  {
   "cell_type": "markdown",
   "metadata": {
    "id": "iWs6ljrIhLus"
   },
   "source": [
    "[Здесь](https://athena.brynmawr.edu/jupyter/hub/dblank/public/Jupyter%20Notebook%20Users%20Manual.ipynb) находится <s>не</s>большая заметка о используемом языке разметки Markdown. Он позволяет:\n",
    "\n",
    "0. Составлять упорядоченные списки\n",
    "1. Выделять *текст* <s>при</s> **необходимости**\n",
    "2. Добавлять [ссылки](http://imgs.xkcd.com/comics/the_universal_label.png)\n",
    "\n",
    "\n",
    "* Составлять неупорядоченные списки\n",
    "\n",
    "Делать вставки с помощью LaTex:\n",
    "    \n",
    "$\n",
    "\\left\\{\n",
    "\\begin{array}{ll}\n",
    "x = 16 \\sin^3 (t) \\\\\n",
    "y = 13 \\cos (t) - 5 \\cos (2t) - 2 \\cos (3t) - \\cos (4t) \\\\\n",
    "t \\in [0, 2 \\pi]\n",
    "\\end{array}\n",
    "\\right.$"
   ]
  },
  {
   "cell_type": "markdown",
   "metadata": {
    "id": "6fmTGcXOhLus"
   },
   "source": [
    "А ещё можно вставлять картинки, или гифки, или что захотите:\n",
    "\n",
    "<img src=\"https://media1.tenor.com/images/9b8fbe9214504bcf6c60fe4e4f7e114e/tenor.gif?itemid=5416416\" style=\"width: 400px\">"
   ]
  },
  {
   "cell_type": "markdown",
   "metadata": {
    "id": "J_toGw7DhLut"
   },
   "source": [
    "### Google Colab"
   ]
  },
  {
   "cell_type": "markdown",
   "metadata": {
    "id": "jpkbCVjGhLut"
   },
   "source": [
    "Что за колаб?\n",
    "\n",
    "**Google Colab (Colaboratory)** это **Jupyter Notebook + Cloud + Google Drive.**\n",
    "\n",
    "Компания Google предоставляет возможность бесплатно запускать ноутбуки (предварительно загрузив их на свой гугл-диск) прямо в облаке. При этом вам не требуется установка никаких пакетов на свою машину, а работать можно прямиком из браузера. Вот ссылка:"
   ]
  },
  {
   "cell_type": "markdown",
   "metadata": {
    "id": "06MQog3yhLut"
   },
   "source": [
    "https://colab.research.google.com"
   ]
  },
  {
   "cell_type": "markdown",
   "metadata": {
    "id": "5_hfWXKPhLut"
   },
   "source": [
    "При использовании вы увидите много сходств с jupyter ноутбуком. Одним из преимуществ является доступность GPU, соответствующую опцию можно активировать в настройках сервиса. При желании вы сможете найти в интернете много туториалов по использованию или разобраться самостоятельно"
   ]
  },
  {
   "cell_type": "markdown",
   "metadata": {
    "id": "DcRcwHpG8pxB"
   },
   "source": [
    "### Kaggle\n",
    "\n",
    "Альтернативой является **Kaggle**, он же площадка для самых разных соревнований по машинному обучению\n",
    "\n",
    "Он, как и колаб, предоставляет бесплатный GPU, и даже не один, с чётким лимитом в 30 часов в неделю (colab может его внезапно отобрать, kaggle - нет) более мощные CPU с большим числом ядер, и больше Гб ОЗУ (раз так в 2.5)\n",
    "\n",
    "https://www.kaggle.com\n",
    "\n",
    "К сожалению мир не идеален, недостатки следующие:\n",
    "- необходимость загружать датасеты через специальную кнопочку\n",
    "- невозможность использовать свои скрипты и модули :(\n",
    "- нужно тыкать техподдержку, чтобы создать аккаунт из России"
   ]
  },
  {
   "cell_type": "markdown",
   "metadata": {
    "id": "sUe2vnFGhLuu"
   },
   "source": [
    "## 1. Табличные данные и Pandas"
   ]
  },
  {
   "cell_type": "markdown",
   "metadata": {
    "id": "DJQzjjqJhLuu"
   },
   "source": [
    "Pandas — удобная библиотека для работы с табличными данными в Python, если данных не слишком много и они помещаются в оперативную память вашего компьютера. Несмотря на неэффективность реализации и некоторые проблемы, библиотека стала стандартом в анализе данных.\n",
    "\n",
    "Основной объект в `pandas` — это `pd.DataFrame`, представляющий собой таблицу с именованными колонками различных типов, индексом (может быть многоуровневым). DataFrame можно создавать, считывая таблицу из файла или задавая вручную из других объектов.\n",
    "\n",
    "В этой части потребуется выполнить несколько небольших заданий. Можно пойти двумя путями: сначала изучить материалы, а потом приступить к заданиям, или же разбираться \"по ходу\". Выбирайте сами.\n",
    "\n",
    "Материалы:\n",
    "1. [Pandas за 10 минут из официального руководства](http://pandas.pydata.org/pandas-docs/stable/10min.html)\n",
    "2. [Документация](http://pandas.pydata.org/pandas-docs/stable/index.html) (стоит обращаться, если не понятно, как вызывать конкретный метод)\n",
    "3. [Примеры использования функционала](http://nbviewer.jupyter.org/github/justmarkham/pandas-videos/blob/master/pandas.ipynb)\n",
    "\n",
    "Многие из заданий можно выполнить несколькими способами. Не существуют единственно верного, но попробуйте максимально задействовать арсенал pandas и ориентируйтесь на простоту и понятность вашего кода. Мы не будем подсказывать, что нужно использовать для решения конкретной задачи, попробуйте находить необходимый функционал сами (название метода чаще всего очевидно). В помощь вам документация, поиск и StackOverflow."
   ]
  },
  {
   "cell_type": "code",
   "execution_count": 3,
   "metadata": {
    "id": "26zbFY25hLuv",
    "outputId": "404c22c6-2696-48ab-c71e-7a3ffbc36b18"
   },
   "outputs": [],
   "source": [
    "%matplotlib inline\n",
    "import pandas as pd\n",
    "import numpy as np"
   ]
  },
  {
   "cell_type": "markdown",
   "metadata": {
    "id": "QZmj3q3c8A8c"
   },
   "source": [
    "<span style=\"color:red\">Перед выполнением задания необходимо ознакомиться с первым семинаром (seminars/sem01-pandas.ipynb) </span>.\n",
    "\n",
    "Это поможет вам получить общее понимание происходяшего и успешнее справиться с заданием.\n",
    "\n",
    "Также успешному выполнению способствует внимательное чтение текста задания от начала до конца.\n",
    "\n",
    "Удачи!"
   ]
  },
  {
   "cell_type": "markdown",
   "metadata": {
    "id": "dneJl9TyhLuv"
   },
   "source": [
    "Скачаем подготовленные на семинаре данные:"
   ]
  },
  {
   "cell_type": "code",
   "execution_count": 4,
   "metadata": {
    "id": "rj_I0RslhLuw"
   },
   "outputs": [],
   "source": [
    "# !wget  -O 'end_seminar.xlsx' -q 'https://www.dropbox.com/s/f4rm8sjc3v99p0m/_end_seminar.xlsx?dl=0'"
   ]
  },
  {
   "cell_type": "markdown",
   "metadata": {
    "id": "5hp7bn_ThLuw"
   },
   "source": [
    "Для пользователей Windows: скачайте файл самостоятельно и поместите его в папку с тетрадкой. Или попробуйте один из следующих вариантов:"
   ]
  },
  {
   "cell_type": "code",
   "execution_count": 5,
   "metadata": {
    "id": "4h4_BaX8hLuw"
   },
   "outputs": [],
   "source": [
    "# !powershell iwr -outf somefile https://somesite/somefile"
   ]
  },
  {
   "cell_type": "code",
   "execution_count": 6,
   "metadata": {
    "id": "7bHroLGChLuw"
   },
   "outputs": [],
   "source": [
    "# !C:\\Users\\chizh\\AppData\\Local\\Programs\\Python\\Python312\\python.exe -m pip install wget\n",
    "# import wget\n",
    "# wget.download('https://dropbox.com/s/f4rm8sjc3v99p0m/_end_seminar.xlsx?dl=1', 'end_seminar.xlsx')"
   ]
  },
  {
   "cell_type": "markdown",
   "metadata": {
    "id": "VFs_6IythLux"
   },
   "source": [
    "##### В первой части задания (до раздела \"Распределение студентов по курсам\") использование циклов запрещается и повлечет за собой снижение оценки. Использование <code>vectorize</code> и  <code>apply</code>, <code>apply_along_axis</code> и всего, где можно применить лямбда-функции (`assign`, `map`, ...) крайне нежелательно"
   ]
  },
  {
   "cell_type": "markdown",
   "metadata": {
    "id": "shFkfJkohLux"
   },
   "source": [
    "Для каждой задачи из этого раздела вы должны написать код для получения ответа, а также дать текстовый ответ, если он предполагается.\n",
    "\n",
    "На некоторые вопросы вы можете получить путём пристального взгляда на таблицу, но это не будет засчитываться. Вы в любом случае должны получить ответ с помощью кода."
   ]
  },
  {
   "cell_type": "markdown",
   "metadata": {
    "id": "gDD85M7bhLux"
   },
   "source": [
    "#### 1. [0.5 баллов] Откройте файл с таблицей (не забудьте про её формат). Выведите 3 последних строки.\n",
    "\n",
    "Посмотрите на данные и скажите, что они из себя представляют, сколько в таблице строк, какие столбцы? (на это не надо отвечать, просто подумайте об этом)"
   ]
  },
  {
   "cell_type": "code",
   "execution_count": 7,
   "metadata": {
    "id": "PKulur3LhLuy"
   },
   "outputs": [],
   "source": [
    "df = pd.read_excel(\"end_seminar.xlsx\")"
   ]
  },
  {
   "cell_type": "code",
   "execution_count": 8,
   "metadata": {},
   "outputs": [
    {
     "data": {
      "text/html": [
       "<div>\n",
       "<style scoped>\n",
       "    .dataframe tbody tr th:only-of-type {\n",
       "        vertical-align: middle;\n",
       "    }\n",
       "\n",
       "    .dataframe tbody tr th {\n",
       "        vertical-align: top;\n",
       "    }\n",
       "\n",
       "    .dataframe thead th {\n",
       "        text-align: right;\n",
       "    }\n",
       "</style>\n",
       "<table border=\"1\" class=\"dataframe\">\n",
       "  <thead>\n",
       "    <tr style=\"text-align: right;\">\n",
       "      <th></th>\n",
       "      <th>timestamp</th>\n",
       "      <th>id</th>\n",
       "      <th>rating</th>\n",
       "      <th>18_group</th>\n",
       "      <th>is_mi</th>\n",
       "      <th>fall_1</th>\n",
       "      <th>fall_2</th>\n",
       "      <th>fall_3</th>\n",
       "      <th>spring_1</th>\n",
       "      <th>spring_2</th>\n",
       "      <th>spring_3</th>\n",
       "      <th>is_first_time</th>\n",
       "      <th>percentile</th>\n",
       "      <th>17_group</th>\n",
       "      <th>blended</th>\n",
       "      <th>is_ml_student</th>\n",
       "    </tr>\n",
       "  </thead>\n",
       "  <tbody>\n",
       "    <tr>\n",
       "      <th>358</th>\n",
       "      <td>2020-05-20 11:54:38.318</td>\n",
       "      <td>d7118b44c7e8fdbbaaca226d2da6fef1</td>\n",
       "      <td>1111</td>\n",
       "      <td>NaN</td>\n",
       "      <td>NaN</td>\n",
       "      <td>Сбор и обработка данных с помощью краудсорсинга</td>\n",
       "      <td>Statistical Learning Theory</td>\n",
       "      <td>Анализ неструктурированных данных</td>\n",
       "      <td>Проектирование и разработка высоконагруженных ...</td>\n",
       "      <td>Методы сжатия и передачи медиаданных</td>\n",
       "      <td>Численные методы</td>\n",
       "      <td>Да</td>\n",
       "      <td>0.652174</td>\n",
       "      <td>173.0</td>\n",
       "      <td>Соревновательный анализ данных</td>\n",
       "      <td>NaN</td>\n",
       "    </tr>\n",
       "    <tr>\n",
       "      <th>359</th>\n",
       "      <td>2020-05-23 21:16:40.916</td>\n",
       "      <td>79d14db48e4737af731960ae212d5134</td>\n",
       "      <td>966</td>\n",
       "      <td>NaN</td>\n",
       "      <td>NaN</td>\n",
       "      <td>Безопасность компьютерных систем</td>\n",
       "      <td>Принятие решений в условиях риска и неопределё...</td>\n",
       "      <td>Анализ неструктурированных данных</td>\n",
       "      <td>Проектирование и разработка высоконагруженных ...</td>\n",
       "      <td>Методы сжатия и передачи медиаданных</td>\n",
       "      <td>Компьютерное зрение</td>\n",
       "      <td>Да</td>\n",
       "      <td>0.985507</td>\n",
       "      <td>172.0</td>\n",
       "      <td>DevOps</td>\n",
       "      <td>NaN</td>\n",
       "    </tr>\n",
       "    <tr>\n",
       "      <th>360</th>\n",
       "      <td>2020-05-23 21:16:40.916</td>\n",
       "      <td>f2d210ace25a841e1e58036b257d5d47</td>\n",
       "      <td>1195</td>\n",
       "      <td>NaN</td>\n",
       "      <td>NaN</td>\n",
       "      <td>Анализ неструктурированных данных</td>\n",
       "      <td>Моделирование временных рядов</td>\n",
       "      <td>Высокопроизводительные вычисления</td>\n",
       "      <td>Обучение с подкреплением</td>\n",
       "      <td>Компьютерное зрение</td>\n",
       "      <td>Методы сжатия и передачи медиаданных</td>\n",
       "      <td>NaN</td>\n",
       "      <td>0.369565</td>\n",
       "      <td>176.0</td>\n",
       "      <td>Соревновательный анализ данных</td>\n",
       "      <td>NaN</td>\n",
       "    </tr>\n",
       "  </tbody>\n",
       "</table>\n",
       "</div>"
      ],
      "text/plain": [
       "                  timestamp                                id  rating  \\\n",
       "358 2020-05-20 11:54:38.318  d7118b44c7e8fdbbaaca226d2da6fef1    1111   \n",
       "359 2020-05-23 21:16:40.916  79d14db48e4737af731960ae212d5134     966   \n",
       "360 2020-05-23 21:16:40.916  f2d210ace25a841e1e58036b257d5d47    1195   \n",
       "\n",
       "     18_group  is_mi                                           fall_1  \\\n",
       "358       NaN    NaN  Сбор и обработка данных с помощью краудсорсинга   \n",
       "359       NaN    NaN                 Безопасность компьютерных систем   \n",
       "360       NaN    NaN                Анализ неструктурированных данных   \n",
       "\n",
       "                                                fall_2  \\\n",
       "358                        Statistical Learning Theory   \n",
       "359  Принятие решений в условиях риска и неопределё...   \n",
       "360                      Моделирование временных рядов   \n",
       "\n",
       "                                fall_3  \\\n",
       "358  Анализ неструктурированных данных   \n",
       "359  Анализ неструктурированных данных   \n",
       "360  Высокопроизводительные вычисления   \n",
       "\n",
       "                                              spring_1  \\\n",
       "358  Проектирование и разработка высоконагруженных ...   \n",
       "359  Проектирование и разработка высоконагруженных ...   \n",
       "360                           Обучение с подкреплением   \n",
       "\n",
       "                                 spring_2  \\\n",
       "358  Методы сжатия и передачи медиаданных   \n",
       "359  Методы сжатия и передачи медиаданных   \n",
       "360                   Компьютерное зрение   \n",
       "\n",
       "                                 spring_3 is_first_time  percentile  17_group  \\\n",
       "358                      Численные методы            Да    0.652174     173.0   \n",
       "359                   Компьютерное зрение            Да    0.985507     172.0   \n",
       "360  Методы сжатия и передачи медиаданных           NaN    0.369565     176.0   \n",
       "\n",
       "                            blended  is_ml_student  \n",
       "358  Соревновательный анализ данных            NaN  \n",
       "359                          DevOps            NaN  \n",
       "360  Соревновательный анализ данных            NaN  "
      ]
     },
     "execution_count": 8,
     "metadata": {},
     "output_type": "execute_result"
    }
   ],
   "source": [
    "df.tail(3)"
   ]
  },
  {
   "cell_type": "markdown",
   "metadata": {
    "id": "P6dOzc7e85Bs"
   },
   "source": [
    "### Ответьте на вопросы:\n",
    "1. Сколько было уникальных пользователей из групп 18-го года набора, а сколько из групп 17-го года?"
   ]
  },
  {
   "cell_type": "code",
   "execution_count": 9,
   "metadata": {
    "id": "ZLBcHvHf890B"
   },
   "outputs": [
    {
     "data": {
      "text/plain": [
       "213"
      ]
     },
     "execution_count": 9,
     "metadata": {},
     "output_type": "execute_result"
    }
   ],
   "source": [
    "df[df[\"18_group\"].notna()].id.nunique()"
   ]
  },
  {
   "cell_type": "code",
   "execution_count": 10,
   "metadata": {
    "id": "ZLBcHvHf890B"
   },
   "outputs": [
    {
     "data": {
      "text/plain": [
       "134"
      ]
     },
     "execution_count": 10,
     "metadata": {},
     "output_type": "execute_result"
    }
   ],
   "source": [
    "df[df[\"17_group\"].notna()].id.nunique()"
   ]
  },
  {
   "cell_type": "markdown",
   "metadata": {
    "id": "dt89P1sG88NN"
   },
   "source": [
    "2. Есть ли уникальные студенты с равными перцентилями?"
   ]
  },
  {
   "cell_type": "code",
   "execution_count": 11,
   "metadata": {},
   "outputs": [
    {
     "data": {
      "text/html": [
       "<div>\n",
       "<style scoped>\n",
       "    .dataframe tbody tr th:only-of-type {\n",
       "        vertical-align: middle;\n",
       "    }\n",
       "\n",
       "    .dataframe tbody tr th {\n",
       "        vertical-align: top;\n",
       "    }\n",
       "\n",
       "    .dataframe thead th {\n",
       "        text-align: right;\n",
       "    }\n",
       "</style>\n",
       "<table border=\"1\" class=\"dataframe\">\n",
       "  <thead>\n",
       "    <tr style=\"text-align: right;\">\n",
       "      <th></th>\n",
       "      <th>timestamp</th>\n",
       "      <th>id</th>\n",
       "      <th>rating</th>\n",
       "      <th>18_group</th>\n",
       "      <th>is_mi</th>\n",
       "      <th>fall_1</th>\n",
       "      <th>fall_2</th>\n",
       "      <th>fall_3</th>\n",
       "      <th>spring_1</th>\n",
       "      <th>spring_2</th>\n",
       "      <th>spring_3</th>\n",
       "      <th>is_first_time</th>\n",
       "      <th>percentile</th>\n",
       "      <th>17_group</th>\n",
       "      <th>blended</th>\n",
       "      <th>is_ml_student</th>\n",
       "    </tr>\n",
       "  </thead>\n",
       "  <tbody>\n",
       "    <tr>\n",
       "      <th>80</th>\n",
       "      <td>2020-05-18 17:09:23.589</td>\n",
       "      <td>3e106aaef8b24dbb01319c73e14c2936</td>\n",
       "      <td>784</td>\n",
       "      <td>182.0</td>\n",
       "      <td>NaN</td>\n",
       "      <td>Безопасность компьютерных систем</td>\n",
       "      <td>Statistical Learning Theory</td>\n",
       "      <td>Матричные вычисления</td>\n",
       "      <td>Дискретная оптимизация</td>\n",
       "      <td>Промышленное программирование на языке Java</td>\n",
       "      <td>Дополнительные главы прикладной статистики</td>\n",
       "      <td>Да</td>\n",
       "      <td>0.0</td>\n",
       "      <td>NaN</td>\n",
       "      <td>NaN</td>\n",
       "      <td>1.0</td>\n",
       "    </tr>\n",
       "    <tr>\n",
       "      <th>231</th>\n",
       "      <td>2020-05-14 21:52:43.844</td>\n",
       "      <td>3a7326c9e355a67d3805824ca34c4bc5</td>\n",
       "      <td>1457</td>\n",
       "      <td>NaN</td>\n",
       "      <td>NaN</td>\n",
       "      <td>Statistical Learning Theory</td>\n",
       "      <td>Высокопроизводительные вычисления</td>\n",
       "      <td>Statistical Learning Theory</td>\n",
       "      <td>Символьные вычисления</td>\n",
       "      <td>Численные методы</td>\n",
       "      <td>Символьные вычисления</td>\n",
       "      <td>Да</td>\n",
       "      <td>0.0</td>\n",
       "      <td>173.0</td>\n",
       "      <td>Введение в дифференциальную геометрию</td>\n",
       "      <td>NaN</td>\n",
       "    </tr>\n",
       "  </tbody>\n",
       "</table>\n",
       "</div>"
      ],
      "text/plain": [
       "                  timestamp                                id  rating  \\\n",
       "80  2020-05-18 17:09:23.589  3e106aaef8b24dbb01319c73e14c2936     784   \n",
       "231 2020-05-14 21:52:43.844  3a7326c9e355a67d3805824ca34c4bc5    1457   \n",
       "\n",
       "     18_group  is_mi                            fall_1  \\\n",
       "80      182.0    NaN  Безопасность компьютерных систем   \n",
       "231       NaN    NaN       Statistical Learning Theory   \n",
       "\n",
       "                                fall_2                       fall_3  \\\n",
       "80         Statistical Learning Theory         Матричные вычисления   \n",
       "231  Высокопроизводительные вычисления  Statistical Learning Theory   \n",
       "\n",
       "                   spring_1                                     spring_2  \\\n",
       "80   Дискретная оптимизация  Промышленное программирование на языке Java   \n",
       "231   Символьные вычисления                             Численные методы   \n",
       "\n",
       "                                       spring_3 is_first_time  percentile  \\\n",
       "80   Дополнительные главы прикладной статистики            Да         0.0   \n",
       "231                       Символьные вычисления            Да         0.0   \n",
       "\n",
       "     17_group                                blended  is_ml_student  \n",
       "80        NaN                                    NaN            1.0  \n",
       "231     173.0  Введение в дифференциальную геометрию            NaN  "
      ]
     },
     "execution_count": 11,
     "metadata": {},
     "output_type": "execute_result"
    }
   ],
   "source": [
    "df[df.percentile == 0.0].sort_values(by=\"percentile\").head(2)\n",
    "# у 2 уникальных студентов одинаковый перцентиль"
   ]
  },
  {
   "cell_type": "markdown",
   "metadata": {
    "id": "jPiMwyqHhLuy"
   },
   "source": [
    "#### 2. [0.5 балла] Есть ли в данных пропуски? В каких колонках? Сколько их в каждой из этих колонок?"
   ]
  },
  {
   "cell_type": "code",
   "execution_count": 12,
   "metadata": {},
   "outputs": [
    {
     "name": "stdout",
     "output_type": "stream",
     "text": [
      "<class 'pandas.core.frame.DataFrame'>\n",
      "RangeIndex: 361 entries, 0 to 360\n",
      "Data columns (total 16 columns):\n",
      " #   Column         Non-Null Count  Dtype         \n",
      "---  ------         --------------  -----         \n",
      " 0   timestamp      361 non-null    datetime64[ns]\n",
      " 1   id             361 non-null    object        \n",
      " 2   rating         361 non-null    int64         \n",
      " 3   18_group       223 non-null    float64       \n",
      " 4   is_mi          18 non-null     float64       \n",
      " 5   fall_1         361 non-null    object        \n",
      " 6   fall_2         361 non-null    object        \n",
      " 7   fall_3         361 non-null    object        \n",
      " 8   spring_1       361 non-null    object        \n",
      " 9   spring_2       361 non-null    object        \n",
      " 10  spring_3       361 non-null    object        \n",
      " 11  is_first_time  359 non-null    object        \n",
      " 12  percentile     361 non-null    float64       \n",
      " 13  17_group       138 non-null    float64       \n",
      " 14  blended        138 non-null    object        \n",
      " 15  is_ml_student  57 non-null     float64       \n",
      "dtypes: datetime64[ns](1), float64(5), int64(1), object(9)\n",
      "memory usage: 45.3+ KB\n"
     ]
    }
   ],
   "source": [
    "df.info()"
   ]
  },
  {
   "cell_type": "code",
   "execution_count": 13,
   "metadata": {},
   "outputs": [
    {
     "data": {
      "text/plain": [
       "timestamp          0\n",
       "id                 0\n",
       "rating             0\n",
       "18_group         138\n",
       "is_mi            343\n",
       "fall_1             0\n",
       "fall_2             0\n",
       "fall_3             0\n",
       "spring_1           0\n",
       "spring_2           0\n",
       "spring_3           0\n",
       "is_first_time      2\n",
       "percentile         0\n",
       "17_group         223\n",
       "blended          223\n",
       "is_ml_student    304\n",
       "dtype: int64"
      ]
     },
     "execution_count": 13,
     "metadata": {},
     "output_type": "execute_result"
    }
   ],
   "source": [
    "df.isna().sum()"
   ]
  },
  {
   "cell_type": "markdown",
   "metadata": {
    "id": "B5ORhP2uhLuz"
   },
   "source": [
    "Заполните пропуски пустой строкой для строковых колонок, нулём для числовых и False для булевых (постарайтесь избежать перечисления названий всех столбцов)."
   ]
  },
  {
   "cell_type": "code",
   "execution_count": 14,
   "metadata": {
    "id": "TlF_JJ2ghLuz"
   },
   "outputs": [
    {
     "name": "stdout",
     "output_type": "stream",
     "text": [
      "<class 'pandas.core.frame.DataFrame'>\n",
      "RangeIndex: 361 entries, 0 to 360\n",
      "Data columns (total 16 columns):\n",
      " #   Column         Non-Null Count  Dtype         \n",
      "---  ------         --------------  -----         \n",
      " 0   timestamp      361 non-null    datetime64[ns]\n",
      " 1   id             361 non-null    object        \n",
      " 2   rating         361 non-null    int64         \n",
      " 3   18_group       361 non-null    float64       \n",
      " 4   is_mi          361 non-null    float64       \n",
      " 5   fall_1         361 non-null    object        \n",
      " 6   fall_2         361 non-null    object        \n",
      " 7   fall_3         361 non-null    object        \n",
      " 8   spring_1       361 non-null    object        \n",
      " 9   spring_2       361 non-null    object        \n",
      " 10  spring_3       361 non-null    object        \n",
      " 11  is_first_time  361 non-null    float64       \n",
      " 12  percentile     361 non-null    float64       \n",
      " 13  17_group       361 non-null    float64       \n",
      " 14  blended        361 non-null    object        \n",
      " 15  is_ml_student  361 non-null    float64       \n",
      "dtypes: datetime64[ns](1), float64(6), int64(1), object(8)\n",
      "memory usage: 45.3+ KB\n"
     ]
    }
   ],
   "source": [
    "df[\"is_first_time\"] = df[\"is_first_time\"].map({\"Да\": 1})\n",
    "object_columns = df.select_dtypes(include=['object']).columns\n",
    "number_columns = df.select_dtypes(include=[np.number]).columns\n",
    "\n",
    "df[object_columns] = df[object_columns].fillna(\"\")\n",
    "df[number_columns] = df[number_columns].fillna(0)\n",
    "df.info()"
   ]
  },
  {
   "cell_type": "code",
   "execution_count": 15,
   "metadata": {},
   "outputs": [
    {
     "data": {
      "text/html": [
       "<div>\n",
       "<style scoped>\n",
       "    .dataframe tbody tr th:only-of-type {\n",
       "        vertical-align: middle;\n",
       "    }\n",
       "\n",
       "    .dataframe tbody tr th {\n",
       "        vertical-align: top;\n",
       "    }\n",
       "\n",
       "    .dataframe thead th {\n",
       "        text-align: right;\n",
       "    }\n",
       "</style>\n",
       "<table border=\"1\" class=\"dataframe\">\n",
       "  <thead>\n",
       "    <tr style=\"text-align: right;\">\n",
       "      <th></th>\n",
       "      <th>timestamp</th>\n",
       "      <th>id</th>\n",
       "      <th>rating</th>\n",
       "      <th>18_group</th>\n",
       "      <th>is_mi</th>\n",
       "      <th>fall_1</th>\n",
       "      <th>fall_2</th>\n",
       "      <th>fall_3</th>\n",
       "      <th>spring_1</th>\n",
       "      <th>spring_2</th>\n",
       "      <th>spring_3</th>\n",
       "      <th>is_first_time</th>\n",
       "      <th>percentile</th>\n",
       "      <th>17_group</th>\n",
       "      <th>blended</th>\n",
       "      <th>is_ml_student</th>\n",
       "    </tr>\n",
       "  </thead>\n",
       "  <tbody>\n",
       "    <tr>\n",
       "      <th>0</th>\n",
       "      <td>2020-05-15 01:12:50.543</td>\n",
       "      <td>93ff79a51cd602f1dd3028ba2c129503</td>\n",
       "      <td>698</td>\n",
       "      <td>181.0</td>\n",
       "      <td>0.0</td>\n",
       "      <td>Язык SQL</td>\n",
       "      <td>Высокопроизводительные вычисления</td>\n",
       "      <td>Матричные вычисления</td>\n",
       "      <td>Дискретная оптимизация</td>\n",
       "      <td>Численные методы</td>\n",
       "      <td>Машинное обучение 2</td>\n",
       "      <td>1.0</td>\n",
       "      <td>0.183857</td>\n",
       "      <td>0.0</td>\n",
       "      <td></td>\n",
       "      <td>0.0</td>\n",
       "    </tr>\n",
       "    <tr>\n",
       "      <th>1</th>\n",
       "      <td>2020-05-15 02:46:48.066</td>\n",
       "      <td>26b01b1c4cd5656bab18d24c548834fb</td>\n",
       "      <td>647</td>\n",
       "      <td>181.0</td>\n",
       "      <td>0.0</td>\n",
       "      <td>Высокопроизводительные вычисления</td>\n",
       "      <td>Безопасность компьютерных систем</td>\n",
       "      <td>Язык SQL</td>\n",
       "      <td>Дискретная оптимизация</td>\n",
       "      <td>Численные методы</td>\n",
       "      <td>Машинное обучение 2</td>\n",
       "      <td>0.0</td>\n",
       "      <td>0.426009</td>\n",
       "      <td>0.0</td>\n",
       "      <td></td>\n",
       "      <td>0.0</td>\n",
       "    </tr>\n",
       "    <tr>\n",
       "      <th>2</th>\n",
       "      <td>2020-05-15 03:12:41.480</td>\n",
       "      <td>30f3653fc176d54e89ac3179c455c6dd</td>\n",
       "      <td>624</td>\n",
       "      <td>185.0</td>\n",
       "      <td>0.0</td>\n",
       "      <td>Безопасность компьютерных систем</td>\n",
       "      <td>Матричные вычисления</td>\n",
       "      <td>Моделирование временных рядов</td>\n",
       "      <td>Дискретная оптимизация</td>\n",
       "      <td>Машинное обучение 2</td>\n",
       "      <td>Численные методы</td>\n",
       "      <td>1.0</td>\n",
       "      <td>0.538117</td>\n",
       "      <td>0.0</td>\n",
       "      <td></td>\n",
       "      <td>0.0</td>\n",
       "    </tr>\n",
       "    <tr>\n",
       "      <th>3</th>\n",
       "      <td>2020-05-15 04:43:08.994</td>\n",
       "      <td>1528f0eaa027580820ccf0d92a53ad68</td>\n",
       "      <td>579</td>\n",
       "      <td>182.0</td>\n",
       "      <td>0.0</td>\n",
       "      <td>Statistical Learning Theory</td>\n",
       "      <td>Высокопроизводительные вычисления</td>\n",
       "      <td>Матричные вычисления</td>\n",
       "      <td>Дискретная оптимизация</td>\n",
       "      <td>Численные методы</td>\n",
       "      <td>Машинное обучение 2</td>\n",
       "      <td>1.0</td>\n",
       "      <td>0.744395</td>\n",
       "      <td>0.0</td>\n",
       "      <td></td>\n",
       "      <td>0.0</td>\n",
       "    </tr>\n",
       "    <tr>\n",
       "      <th>4</th>\n",
       "      <td>2020-05-15 07:47:17.197</td>\n",
       "      <td>496ea4f0d4abe264b1bb1b80eb3830c5</td>\n",
       "      <td>572</td>\n",
       "      <td>183.0</td>\n",
       "      <td>0.0</td>\n",
       "      <td>Высокопроизводительные вычисления</td>\n",
       "      <td>Безопасность компьютерных систем</td>\n",
       "      <td>Теория баз данных</td>\n",
       "      <td>Компьютерные сети</td>\n",
       "      <td>Дискретная оптимизация</td>\n",
       "      <td>Численные методы</td>\n",
       "      <td>1.0</td>\n",
       "      <td>0.780269</td>\n",
       "      <td>0.0</td>\n",
       "      <td></td>\n",
       "      <td>0.0</td>\n",
       "    </tr>\n",
       "  </tbody>\n",
       "</table>\n",
       "</div>"
      ],
      "text/plain": [
       "                timestamp                                id  rating  18_group  \\\n",
       "0 2020-05-15 01:12:50.543  93ff79a51cd602f1dd3028ba2c129503     698     181.0   \n",
       "1 2020-05-15 02:46:48.066  26b01b1c4cd5656bab18d24c548834fb     647     181.0   \n",
       "2 2020-05-15 03:12:41.480  30f3653fc176d54e89ac3179c455c6dd     624     185.0   \n",
       "3 2020-05-15 04:43:08.994  1528f0eaa027580820ccf0d92a53ad68     579     182.0   \n",
       "4 2020-05-15 07:47:17.197  496ea4f0d4abe264b1bb1b80eb3830c5     572     183.0   \n",
       "\n",
       "   is_mi                             fall_1  \\\n",
       "0    0.0                           Язык SQL   \n",
       "1    0.0  Высокопроизводительные вычисления   \n",
       "2    0.0   Безопасность компьютерных систем   \n",
       "3    0.0        Statistical Learning Theory   \n",
       "4    0.0  Высокопроизводительные вычисления   \n",
       "\n",
       "                              fall_2                         fall_3  \\\n",
       "0  Высокопроизводительные вычисления           Матричные вычисления   \n",
       "1   Безопасность компьютерных систем                       Язык SQL   \n",
       "2               Матричные вычисления  Моделирование временных рядов   \n",
       "3  Высокопроизводительные вычисления           Матричные вычисления   \n",
       "4   Безопасность компьютерных систем              Теория баз данных   \n",
       "\n",
       "                 spring_1                spring_2             spring_3  \\\n",
       "0  Дискретная оптимизация        Численные методы  Машинное обучение 2   \n",
       "1  Дискретная оптимизация        Численные методы  Машинное обучение 2   \n",
       "2  Дискретная оптимизация     Машинное обучение 2     Численные методы   \n",
       "3  Дискретная оптимизация        Численные методы  Машинное обучение 2   \n",
       "4       Компьютерные сети  Дискретная оптимизация     Численные методы   \n",
       "\n",
       "   is_first_time  percentile  17_group blended  is_ml_student  \n",
       "0            1.0    0.183857       0.0                    0.0  \n",
       "1            0.0    0.426009       0.0                    0.0  \n",
       "2            1.0    0.538117       0.0                    0.0  \n",
       "3            1.0    0.744395       0.0                    0.0  \n",
       "4            1.0    0.780269       0.0                    0.0  "
      ]
     },
     "execution_count": 15,
     "metadata": {},
     "output_type": "execute_result"
    }
   ],
   "source": [
    "df.head()"
   ]
  },
  {
   "cell_type": "markdown",
   "metadata": {
    "id": "w5ELhkT1hLuz"
   },
   "source": [
    "#### 3. [0.5 балла] Посмотрите повнимательнее на колонку 'is_first_time'.\n",
    "\n",
    "Каково процентное соотношение ответов? Сколько из них \"Нет\"?"
   ]
  },
  {
   "cell_type": "code",
   "execution_count": 16,
   "metadata": {},
   "outputs": [
    {
     "data": {
      "text/plain": [
       "is_first_time\n",
       "1.0    85.0\n",
       "0.0    15.0\n",
       "Name: proportion, dtype: float64"
      ]
     },
     "execution_count": 16,
     "metadata": {},
     "output_type": "execute_result"
    }
   ],
   "source": [
    "round(df[\"is_first_time\"].value_counts(normalize=True) * 100)"
   ]
  },
  {
   "cell_type": "code",
   "execution_count": 17,
   "metadata": {},
   "outputs": [
    {
     "data": {
      "text/plain": [
       "53"
      ]
     },
     "execution_count": 17,
     "metadata": {},
     "output_type": "execute_result"
    }
   ],
   "source": [
    "df[\"is_first_time\"].value_counts().get(0)"
   ]
  },
  {
   "cell_type": "markdown",
   "metadata": {
    "id": "7ufxpSDO9Hyc"
   },
   "source": [
    "Если вы найдете повторные обращения студентов, оставьте только самую позднюю версию. В дальнейших заданиях используйте версию данных без повторов.\n",
    "\n",
    "<i>Обращения со значением \"Нет\" в 'is_first_time' могут быть как повторными, так и первичными, поскольку поле заполняли сами студенты.</i>"
   ]
  },
  {
   "cell_type": "code",
   "execution_count": 18,
   "metadata": {},
   "outputs": [
    {
     "data": {
      "text/html": [
       "<div>\n",
       "<style scoped>\n",
       "    .dataframe tbody tr th:only-of-type {\n",
       "        vertical-align: middle;\n",
       "    }\n",
       "\n",
       "    .dataframe tbody tr th {\n",
       "        vertical-align: top;\n",
       "    }\n",
       "\n",
       "    .dataframe thead th {\n",
       "        text-align: right;\n",
       "    }\n",
       "</style>\n",
       "<table border=\"1\" class=\"dataframe\">\n",
       "  <thead>\n",
       "    <tr style=\"text-align: right;\">\n",
       "      <th></th>\n",
       "      <th>timestamp</th>\n",
       "      <th>id</th>\n",
       "      <th>rating</th>\n",
       "      <th>18_group</th>\n",
       "      <th>is_mi</th>\n",
       "      <th>fall_1</th>\n",
       "      <th>fall_2</th>\n",
       "      <th>fall_3</th>\n",
       "      <th>spring_1</th>\n",
       "      <th>spring_2</th>\n",
       "      <th>spring_3</th>\n",
       "      <th>is_first_time</th>\n",
       "      <th>percentile</th>\n",
       "      <th>17_group</th>\n",
       "      <th>blended</th>\n",
       "      <th>is_ml_student</th>\n",
       "    </tr>\n",
       "  </thead>\n",
       "  <tbody>\n",
       "    <tr>\n",
       "      <th>0</th>\n",
       "      <td>2020-05-15 01:12:50.543</td>\n",
       "      <td>93ff79a51cd602f1dd3028ba2c129503</td>\n",
       "      <td>698</td>\n",
       "      <td>181.0</td>\n",
       "      <td>0.0</td>\n",
       "      <td>Язык SQL</td>\n",
       "      <td>Высокопроизводительные вычисления</td>\n",
       "      <td>Матричные вычисления</td>\n",
       "      <td>Дискретная оптимизация</td>\n",
       "      <td>Численные методы</td>\n",
       "      <td>Машинное обучение 2</td>\n",
       "      <td>1.0</td>\n",
       "      <td>0.183857</td>\n",
       "      <td>0.0</td>\n",
       "      <td></td>\n",
       "      <td>0.0</td>\n",
       "    </tr>\n",
       "    <tr>\n",
       "      <th>1</th>\n",
       "      <td>2020-05-15 02:46:48.066</td>\n",
       "      <td>26b01b1c4cd5656bab18d24c548834fb</td>\n",
       "      <td>647</td>\n",
       "      <td>181.0</td>\n",
       "      <td>0.0</td>\n",
       "      <td>Высокопроизводительные вычисления</td>\n",
       "      <td>Безопасность компьютерных систем</td>\n",
       "      <td>Язык SQL</td>\n",
       "      <td>Дискретная оптимизация</td>\n",
       "      <td>Численные методы</td>\n",
       "      <td>Машинное обучение 2</td>\n",
       "      <td>0.0</td>\n",
       "      <td>0.426009</td>\n",
       "      <td>0.0</td>\n",
       "      <td></td>\n",
       "      <td>0.0</td>\n",
       "    </tr>\n",
       "    <tr>\n",
       "      <th>2</th>\n",
       "      <td>2020-05-15 03:12:41.480</td>\n",
       "      <td>30f3653fc176d54e89ac3179c455c6dd</td>\n",
       "      <td>624</td>\n",
       "      <td>185.0</td>\n",
       "      <td>0.0</td>\n",
       "      <td>Безопасность компьютерных систем</td>\n",
       "      <td>Матричные вычисления</td>\n",
       "      <td>Моделирование временных рядов</td>\n",
       "      <td>Дискретная оптимизация</td>\n",
       "      <td>Машинное обучение 2</td>\n",
       "      <td>Численные методы</td>\n",
       "      <td>1.0</td>\n",
       "      <td>0.538117</td>\n",
       "      <td>0.0</td>\n",
       "      <td></td>\n",
       "      <td>0.0</td>\n",
       "    </tr>\n",
       "    <tr>\n",
       "      <th>3</th>\n",
       "      <td>2020-05-15 04:43:08.994</td>\n",
       "      <td>1528f0eaa027580820ccf0d92a53ad68</td>\n",
       "      <td>579</td>\n",
       "      <td>182.0</td>\n",
       "      <td>0.0</td>\n",
       "      <td>Statistical Learning Theory</td>\n",
       "      <td>Высокопроизводительные вычисления</td>\n",
       "      <td>Матричные вычисления</td>\n",
       "      <td>Дискретная оптимизация</td>\n",
       "      <td>Численные методы</td>\n",
       "      <td>Машинное обучение 2</td>\n",
       "      <td>1.0</td>\n",
       "      <td>0.744395</td>\n",
       "      <td>0.0</td>\n",
       "      <td></td>\n",
       "      <td>0.0</td>\n",
       "    </tr>\n",
       "    <tr>\n",
       "      <th>4</th>\n",
       "      <td>2020-05-15 07:47:17.197</td>\n",
       "      <td>496ea4f0d4abe264b1bb1b80eb3830c5</td>\n",
       "      <td>572</td>\n",
       "      <td>183.0</td>\n",
       "      <td>0.0</td>\n",
       "      <td>Высокопроизводительные вычисления</td>\n",
       "      <td>Безопасность компьютерных систем</td>\n",
       "      <td>Теория баз данных</td>\n",
       "      <td>Компьютерные сети</td>\n",
       "      <td>Дискретная оптимизация</td>\n",
       "      <td>Численные методы</td>\n",
       "      <td>1.0</td>\n",
       "      <td>0.780269</td>\n",
       "      <td>0.0</td>\n",
       "      <td></td>\n",
       "      <td>0.0</td>\n",
       "    </tr>\n",
       "  </tbody>\n",
       "</table>\n",
       "</div>"
      ],
      "text/plain": [
       "                timestamp                                id  rating  18_group  \\\n",
       "0 2020-05-15 01:12:50.543  93ff79a51cd602f1dd3028ba2c129503     698     181.0   \n",
       "1 2020-05-15 02:46:48.066  26b01b1c4cd5656bab18d24c548834fb     647     181.0   \n",
       "2 2020-05-15 03:12:41.480  30f3653fc176d54e89ac3179c455c6dd     624     185.0   \n",
       "3 2020-05-15 04:43:08.994  1528f0eaa027580820ccf0d92a53ad68     579     182.0   \n",
       "4 2020-05-15 07:47:17.197  496ea4f0d4abe264b1bb1b80eb3830c5     572     183.0   \n",
       "\n",
       "   is_mi                             fall_1  \\\n",
       "0    0.0                           Язык SQL   \n",
       "1    0.0  Высокопроизводительные вычисления   \n",
       "2    0.0   Безопасность компьютерных систем   \n",
       "3    0.0        Statistical Learning Theory   \n",
       "4    0.0  Высокопроизводительные вычисления   \n",
       "\n",
       "                              fall_2                         fall_3  \\\n",
       "0  Высокопроизводительные вычисления           Матричные вычисления   \n",
       "1   Безопасность компьютерных систем                       Язык SQL   \n",
       "2               Матричные вычисления  Моделирование временных рядов   \n",
       "3  Высокопроизводительные вычисления           Матричные вычисления   \n",
       "4   Безопасность компьютерных систем              Теория баз данных   \n",
       "\n",
       "                 spring_1                spring_2             spring_3  \\\n",
       "0  Дискретная оптимизация        Численные методы  Машинное обучение 2   \n",
       "1  Дискретная оптимизация        Численные методы  Машинное обучение 2   \n",
       "2  Дискретная оптимизация     Машинное обучение 2     Численные методы   \n",
       "3  Дискретная оптимизация        Численные методы  Машинное обучение 2   \n",
       "4       Компьютерные сети  Дискретная оптимизация     Численные методы   \n",
       "\n",
       "   is_first_time  percentile  17_group blended  is_ml_student  \n",
       "0            1.0    0.183857       0.0                    0.0  \n",
       "1            0.0    0.426009       0.0                    0.0  \n",
       "2            1.0    0.538117       0.0                    0.0  \n",
       "3            1.0    0.744395       0.0                    0.0  \n",
       "4            1.0    0.780269       0.0                    0.0  "
      ]
     },
     "execution_count": 18,
     "metadata": {},
     "output_type": "execute_result"
    }
   ],
   "source": [
    "df_sorted = df.sort_values(by=['id', 'timestamp'], ascending=[True, False])\n",
    "df_unique = df_sorted.drop_duplicates(subset='id', keep='first').sort_index()\n",
    "df_unique.head()"
   ]
  },
  {
   "cell_type": "markdown",
   "metadata": {
    "id": "IlzHp3HVhLuz"
   },
   "source": [
    "#### 4. [0.5 балла] Какие  blended-курсы для четверокурсников существуют? На какой blended-курс записалось наибольшее количество студентов? На каком из blended-курсов собрались студенты с самым высоким средним рейтингом (выведите этот курс и количество студентов на нем)?"
   ]
  },
  {
   "cell_type": "code",
   "execution_count": 19,
   "metadata": {
    "id": "bsn4vn8RhLuy"
   },
   "outputs": [
    {
     "data": {
      "text/plain": [
       "blended\n",
       "DevOps                                   87\n",
       "Соревновательный анализ данных           32\n",
       "Введение в дифференциальную геометрию    15\n",
       "Name: count, dtype: int64"
      ]
     },
     "execution_count": 19,
     "metadata": {},
     "output_type": "execute_result"
    }
   ],
   "source": [
    "df_unique[\"blended\"].value_counts().iloc[1:]"
   ]
  },
  {
   "cell_type": "code",
   "execution_count": 20,
   "metadata": {},
   "outputs": [
    {
     "data": {
      "text/plain": [
       "'DevOps'"
      ]
     },
     "execution_count": 20,
     "metadata": {},
     "output_type": "execute_result"
    }
   ],
   "source": [
    "idx_max = df_unique[\"blended\"].value_counts().iloc[1:].argmax()\n",
    "df_unique[\"blended\"].value_counts().iloc[1:].index[idx_max]"
   ]
  },
  {
   "cell_type": "code",
   "execution_count": 21,
   "metadata": {},
   "outputs": [
    {
     "data": {
      "text/plain": [
       "blended\n",
       "                                          633.901408\n",
       "DevOps                                   1154.172414\n",
       "Введение в дифференциальную геометрию    1210.733333\n",
       "Соревновательный анализ данных           1144.218750\n",
       "Name: rating, dtype: float64"
      ]
     },
     "execution_count": 21,
     "metadata": {},
     "output_type": "execute_result"
    }
   ],
   "source": [
    "df_unique.groupby(\"blended\")[\"rating\"].mean()"
   ]
  },
  {
   "cell_type": "code",
   "execution_count": 22,
   "metadata": {},
   "outputs": [
    {
     "data": {
      "text/plain": [
       "'Введение в дифференциальную геометрию'"
      ]
     },
     "execution_count": 22,
     "metadata": {},
     "output_type": "execute_result"
    }
   ],
   "source": [
    "df_unique.groupby(\"blended\")[\"rating\"].mean().idxmax()"
   ]
  },
  {
   "cell_type": "markdown",
   "metadata": {
    "id": "IU_FLt8HhLu0"
   },
   "source": [
    "#### 5. [1 балл] Выясните, есть ли студенты с абсолютно одинаковыми предпочтениями по всем курсам.\n",
    "\n",
    "Для этого сформируйте таблицу, где для каждого возможного набора курсов посчитано количество студентов, выбравших такой набор, и оставьте только строки где это количество больше 1.\n",
    "\n",
    "В данном случае набор курсов задается упорядоченным множеством ('fall_1', 'fall_2', 'fall_3', 'spring_1', 'spring_2', 'spring_3', 'blended'). Элемент blended будет нулевым для 3-го курса."
   ]
  },
  {
   "cell_type": "code",
   "execution_count": 23,
   "metadata": {
    "scrolled": true
   },
   "outputs": [
    {
     "data": {
      "text/html": [
       "<div>\n",
       "<style scoped>\n",
       "    .dataframe tbody tr th:only-of-type {\n",
       "        vertical-align: middle;\n",
       "    }\n",
       "\n",
       "    .dataframe tbody tr th {\n",
       "        vertical-align: top;\n",
       "    }\n",
       "\n",
       "    .dataframe thead th {\n",
       "        text-align: right;\n",
       "    }\n",
       "</style>\n",
       "<table border=\"1\" class=\"dataframe\">\n",
       "  <thead>\n",
       "    <tr style=\"text-align: right;\">\n",
       "      <th></th>\n",
       "      <th>fall_1</th>\n",
       "      <th>fall_2</th>\n",
       "      <th>fall_3</th>\n",
       "      <th>spring_1</th>\n",
       "      <th>spring_2</th>\n",
       "      <th>spring_3</th>\n",
       "      <th>blended</th>\n",
       "      <th>id</th>\n",
       "    </tr>\n",
       "  </thead>\n",
       "  <tbody>\n",
       "    <tr>\n",
       "      <th>72</th>\n",
       "      <td>Безопасность компьютерных систем</td>\n",
       "      <td>Statistical Learning Theory</td>\n",
       "      <td>Матричные вычисления</td>\n",
       "      <td>Дискретная оптимизация</td>\n",
       "      <td>Промышленное программирование на языке Java</td>\n",
       "      <td>Дополнительные главы прикладной статистики</td>\n",
       "      <td></td>\n",
       "      <td>3</td>\n",
       "    </tr>\n",
       "    <tr>\n",
       "      <th>102</th>\n",
       "      <td>Безопасность компьютерных систем</td>\n",
       "      <td>Высокопроизводительные вычисления</td>\n",
       "      <td>Язык SQL</td>\n",
       "      <td>Компьютерные сети</td>\n",
       "      <td>Промышленное программирование на языке Java</td>\n",
       "      <td>Дискретная оптимизация</td>\n",
       "      <td></td>\n",
       "      <td>3</td>\n",
       "    </tr>\n",
       "    <tr>\n",
       "      <th>0</th>\n",
       "      <td>Statistical Learning Theory</td>\n",
       "      <td>Анализ неструктурированных данных</td>\n",
       "      <td>Сбор и обработка данных с помощью краудсорсинга</td>\n",
       "      <td>Обучение с подкреплением</td>\n",
       "      <td>Конфликты и кооперация</td>\n",
       "      <td>Компьютерное зрение</td>\n",
       "      <td>DevOps</td>\n",
       "      <td>2</td>\n",
       "    </tr>\n",
       "    <tr>\n",
       "      <th>60</th>\n",
       "      <td>Байесовские методы машинного обучения</td>\n",
       "      <td>Анализ неструктурированных данных</td>\n",
       "      <td>Глубинное обучение в обработке звука</td>\n",
       "      <td>Обучение с подкреплением</td>\n",
       "      <td>Генеративные модели в машинном обучении</td>\n",
       "      <td>Компьютерное зрение</td>\n",
       "      <td>DevOps</td>\n",
       "      <td>2</td>\n",
       "    </tr>\n",
       "    <tr>\n",
       "      <th>62</th>\n",
       "      <td>Байесовские методы машинного обучения</td>\n",
       "      <td>Анализ неструктурированных данных</td>\n",
       "      <td>Сбор и обработка данных с помощью краудсорсинга</td>\n",
       "      <td>Обучение с подкреплением</td>\n",
       "      <td>Компьютерное зрение</td>\n",
       "      <td>Генеративные модели в машинном обучении</td>\n",
       "      <td>DevOps</td>\n",
       "      <td>2</td>\n",
       "    </tr>\n",
       "    <tr>\n",
       "      <th>84</th>\n",
       "      <td>Безопасность компьютерных систем</td>\n",
       "      <td>Высокопроизводительные вычисления</td>\n",
       "      <td>Анализ неструктурированных данных</td>\n",
       "      <td>Проектирование и разработка высоконагруженных ...</td>\n",
       "      <td>Методы сжатия и передачи медиаданных</td>\n",
       "      <td>Конфликты и кооперация</td>\n",
       "      <td>DevOps</td>\n",
       "      <td>2</td>\n",
       "    </tr>\n",
       "    <tr>\n",
       "      <th>105</th>\n",
       "      <td>Безопасность компьютерных систем</td>\n",
       "      <td>Высокопроизводительные вычисления</td>\n",
       "      <td>Язык SQL</td>\n",
       "      <td>Промышленное программирование на языке Java</td>\n",
       "      <td>Компьютерные сети</td>\n",
       "      <td>Системы баз данных</td>\n",
       "      <td></td>\n",
       "      <td>2</td>\n",
       "    </tr>\n",
       "    <tr>\n",
       "      <th>113</th>\n",
       "      <td>Безопасность компьютерных систем</td>\n",
       "      <td>Матричные вычисления</td>\n",
       "      <td>Моделирование временных рядов</td>\n",
       "      <td>Промышленное программирование на языке Java</td>\n",
       "      <td>Компьютерные сети</td>\n",
       "      <td>Дискретная оптимизация</td>\n",
       "      <td></td>\n",
       "      <td>2</td>\n",
       "    </tr>\n",
       "    <tr>\n",
       "      <th>137</th>\n",
       "      <td>Безопасность компьютерных систем</td>\n",
       "      <td>Сбор и обработка данных с помощью краудсорсинга</td>\n",
       "      <td>Матричные вычисления</td>\n",
       "      <td>Компьютерные сети</td>\n",
       "      <td>Промышленное программирование на языке Java</td>\n",
       "      <td>Анализ данных в бизнесе</td>\n",
       "      <td></td>\n",
       "      <td>2</td>\n",
       "    </tr>\n",
       "    <tr>\n",
       "      <th>155</th>\n",
       "      <td>Безопасность компьютерных систем</td>\n",
       "      <td>Теория баз данных</td>\n",
       "      <td>Язык SQL</td>\n",
       "      <td>Машинное обучение 2</td>\n",
       "      <td>Компьютерные сети</td>\n",
       "      <td>Промышленное программирование на языке Java</td>\n",
       "      <td></td>\n",
       "      <td>2</td>\n",
       "    </tr>\n",
       "    <tr>\n",
       "      <th>184</th>\n",
       "      <td>Высокопроизводительные вычисления</td>\n",
       "      <td>Безопасность компьютерных систем</td>\n",
       "      <td>Сбор и обработка данных с помощью краудсорсинга</td>\n",
       "      <td>Проектирование и разработка высоконагруженных ...</td>\n",
       "      <td>Методы сжатия и передачи медиаданных</td>\n",
       "      <td>Компьютерное зрение</td>\n",
       "      <td>DevOps</td>\n",
       "      <td>2</td>\n",
       "    </tr>\n",
       "    <tr>\n",
       "      <th>201</th>\n",
       "      <td>Высокопроизводительные вычисления</td>\n",
       "      <td>Сбор и обработка данных с помощью краудсорсинга</td>\n",
       "      <td>Моделирование временных рядов</td>\n",
       "      <td>Проектирование и разработка высоконагруженных ...</td>\n",
       "      <td>Методы сжатия и передачи медиаданных</td>\n",
       "      <td>Методы сжатия и передачи медиаданных</td>\n",
       "      <td>DevOps</td>\n",
       "      <td>2</td>\n",
       "    </tr>\n",
       "    <tr>\n",
       "      <th>244</th>\n",
       "      <td>Моделирование временных рядов</td>\n",
       "      <td>Сбор и обработка данных с помощью краудсорсинга</td>\n",
       "      <td>Безопасность компьютерных систем</td>\n",
       "      <td>Компьютерные сети</td>\n",
       "      <td>Дополнительные главы прикладной статистики</td>\n",
       "      <td>Системы баз данных</td>\n",
       "      <td></td>\n",
       "      <td>2</td>\n",
       "    </tr>\n",
       "    <tr>\n",
       "      <th>292</th>\n",
       "      <td>Сбор и обработка данных с помощью краудсорсинга</td>\n",
       "      <td>Язык SQL</td>\n",
       "      <td>Теория баз данных</td>\n",
       "      <td>Промышленное программирование на языке Java</td>\n",
       "      <td>Машинное обучение 2</td>\n",
       "      <td>Компьютерные сети</td>\n",
       "      <td></td>\n",
       "      <td>2</td>\n",
       "    </tr>\n",
       "    <tr>\n",
       "      <th>313</th>\n",
       "      <td>Язык SQL</td>\n",
       "      <td>Высокопроизводительные вычисления</td>\n",
       "      <td>Теория баз данных</td>\n",
       "      <td>Компьютерные сети</td>\n",
       "      <td>Промышленное программирование на языке Java</td>\n",
       "      <td>Дискретная оптимизация</td>\n",
       "      <td></td>\n",
       "      <td>2</td>\n",
       "    </tr>\n",
       "  </tbody>\n",
       "</table>\n",
       "</div>"
      ],
      "text/plain": [
       "                                              fall_1  \\\n",
       "72                  Безопасность компьютерных систем   \n",
       "102                 Безопасность компьютерных систем   \n",
       "0                        Statistical Learning Theory   \n",
       "60             Байесовские методы машинного обучения   \n",
       "62             Байесовские методы машинного обучения   \n",
       "84                  Безопасность компьютерных систем   \n",
       "105                 Безопасность компьютерных систем   \n",
       "113                 Безопасность компьютерных систем   \n",
       "137                 Безопасность компьютерных систем   \n",
       "155                 Безопасность компьютерных систем   \n",
       "184                Высокопроизводительные вычисления   \n",
       "201                Высокопроизводительные вычисления   \n",
       "244                    Моделирование временных рядов   \n",
       "292  Сбор и обработка данных с помощью краудсорсинга   \n",
       "313                                         Язык SQL   \n",
       "\n",
       "                                              fall_2  \\\n",
       "72                       Statistical Learning Theory   \n",
       "102                Высокопроизводительные вычисления   \n",
       "0                  Анализ неструктурированных данных   \n",
       "60                 Анализ неструктурированных данных   \n",
       "62                 Анализ неструктурированных данных   \n",
       "84                 Высокопроизводительные вычисления   \n",
       "105                Высокопроизводительные вычисления   \n",
       "113                             Матричные вычисления   \n",
       "137  Сбор и обработка данных с помощью краудсорсинга   \n",
       "155                                Теория баз данных   \n",
       "184                 Безопасность компьютерных систем   \n",
       "201  Сбор и обработка данных с помощью краудсорсинга   \n",
       "244  Сбор и обработка данных с помощью краудсорсинга   \n",
       "292                                         Язык SQL   \n",
       "313                Высокопроизводительные вычисления   \n",
       "\n",
       "                                              fall_3  \\\n",
       "72                              Матричные вычисления   \n",
       "102                                         Язык SQL   \n",
       "0    Сбор и обработка данных с помощью краудсорсинга   \n",
       "60              Глубинное обучение в обработке звука   \n",
       "62   Сбор и обработка данных с помощью краудсорсинга   \n",
       "84                 Анализ неструктурированных данных   \n",
       "105                                         Язык SQL   \n",
       "113                    Моделирование временных рядов   \n",
       "137                             Матричные вычисления   \n",
       "155                                         Язык SQL   \n",
       "184  Сбор и обработка данных с помощью краудсорсинга   \n",
       "201                    Моделирование временных рядов   \n",
       "244                 Безопасность компьютерных систем   \n",
       "292                                Теория баз данных   \n",
       "313                                Теория баз данных   \n",
       "\n",
       "                                              spring_1  \\\n",
       "72                              Дискретная оптимизация   \n",
       "102                                  Компьютерные сети   \n",
       "0                             Обучение с подкреплением   \n",
       "60                            Обучение с подкреплением   \n",
       "62                            Обучение с подкреплением   \n",
       "84   Проектирование и разработка высоконагруженных ...   \n",
       "105        Промышленное программирование на языке Java   \n",
       "113        Промышленное программирование на языке Java   \n",
       "137                                  Компьютерные сети   \n",
       "155                                Машинное обучение 2   \n",
       "184  Проектирование и разработка высоконагруженных ...   \n",
       "201  Проектирование и разработка высоконагруженных ...   \n",
       "244                                  Компьютерные сети   \n",
       "292        Промышленное программирование на языке Java   \n",
       "313                                  Компьютерные сети   \n",
       "\n",
       "                                        spring_2  \\\n",
       "72   Промышленное программирование на языке Java   \n",
       "102  Промышленное программирование на языке Java   \n",
       "0                         Конфликты и кооперация   \n",
       "60       Генеративные модели в машинном обучении   \n",
       "62                           Компьютерное зрение   \n",
       "84          Методы сжатия и передачи медиаданных   \n",
       "105                            Компьютерные сети   \n",
       "113                            Компьютерные сети   \n",
       "137  Промышленное программирование на языке Java   \n",
       "155                            Компьютерные сети   \n",
       "184         Методы сжатия и передачи медиаданных   \n",
       "201         Методы сжатия и передачи медиаданных   \n",
       "244   Дополнительные главы прикладной статистики   \n",
       "292                          Машинное обучение 2   \n",
       "313  Промышленное программирование на языке Java   \n",
       "\n",
       "                                        spring_3 blended  id  \n",
       "72    Дополнительные главы прикладной статистики           3  \n",
       "102                       Дискретная оптимизация           3  \n",
       "0                            Компьютерное зрение  DevOps   2  \n",
       "60                           Компьютерное зрение  DevOps   2  \n",
       "62       Генеративные модели в машинном обучении  DevOps   2  \n",
       "84                        Конфликты и кооперация  DevOps   2  \n",
       "105                           Системы баз данных           2  \n",
       "113                       Дискретная оптимизация           2  \n",
       "137                      Анализ данных в бизнесе           2  \n",
       "155  Промышленное программирование на языке Java           2  \n",
       "184                          Компьютерное зрение  DevOps   2  \n",
       "201         Методы сжатия и передачи медиаданных  DevOps   2  \n",
       "244                           Системы баз данных           2  \n",
       "292                            Компьютерные сети           2  \n",
       "313                       Дискретная оптимизация           2  "
      ]
     },
     "execution_count": 23,
     "metadata": {},
     "output_type": "execute_result"
    }
   ],
   "source": [
    "df_courses = pd.DataFrame(df_unique.groupby(['fall_1', 'fall_2', 'fall_3', 'spring_1', 'spring_2', 'spring_3', 'blended']).id.count().reset_index())\n",
    "df_courses[df_courses.id > 1].sort_values(by=\"id\", ascending=False)"
   ]
  },
  {
   "cell_type": "markdown",
   "metadata": {
    "id": "spu3r3vchLu0"
   },
   "source": [
    "#### 6. [0.5 балла] Найдите курсы по выбору, на которые записывались как студенты 18-го года набора, так и студенты 17-го года."
   ]
  },
  {
   "cell_type": "code",
   "execution_count": 24,
   "metadata": {},
   "outputs": [
    {
     "data": {
      "text/html": [
       "<div>\n",
       "<style scoped>\n",
       "    .dataframe tbody tr th:only-of-type {\n",
       "        vertical-align: middle;\n",
       "    }\n",
       "\n",
       "    .dataframe tbody tr th {\n",
       "        vertical-align: top;\n",
       "    }\n",
       "\n",
       "    .dataframe thead th {\n",
       "        text-align: right;\n",
       "    }\n",
       "</style>\n",
       "<table border=\"1\" class=\"dataframe\">\n",
       "  <thead>\n",
       "    <tr style=\"text-align: right;\">\n",
       "      <th></th>\n",
       "      <th>18_group</th>\n",
       "      <th>17_group</th>\n",
       "    </tr>\n",
       "    <tr>\n",
       "      <th>fall_1</th>\n",
       "      <th></th>\n",
       "      <th></th>\n",
       "    </tr>\n",
       "  </thead>\n",
       "  <tbody>\n",
       "    <tr>\n",
       "      <th>Statistical Learning Theory</th>\n",
       "      <td>2568.0</td>\n",
       "      <td>1902.0</td>\n",
       "    </tr>\n",
       "    <tr>\n",
       "      <th>Безопасность компьютерных систем</th>\n",
       "      <td>14943.0</td>\n",
       "      <td>5058.0</td>\n",
       "    </tr>\n",
       "    <tr>\n",
       "      <th>Высокопроизводительные вычисления</th>\n",
       "      <td>3129.0</td>\n",
       "      <td>4199.0</td>\n",
       "    </tr>\n",
       "    <tr>\n",
       "      <th>Моделирование временных рядов</th>\n",
       "      <td>3880.0</td>\n",
       "      <td>175.0</td>\n",
       "    </tr>\n",
       "    <tr>\n",
       "      <th>Принятие решений в условиях риска и неопределённости</th>\n",
       "      <td>559.0</td>\n",
       "      <td>350.0</td>\n",
       "    </tr>\n",
       "    <tr>\n",
       "      <th>Сбор и обработка данных с помощью краудсорсинга</th>\n",
       "      <td>4624.0</td>\n",
       "      <td>1553.0</td>\n",
       "    </tr>\n",
       "  </tbody>\n",
       "</table>\n",
       "</div>"
      ],
      "text/plain": [
       "                                                    18_group  17_group\n",
       "fall_1                                                                \n",
       "Statistical Learning Theory                           2568.0    1902.0\n",
       "Безопасность компьютерных систем                     14943.0    5058.0\n",
       "Высокопроизводительные вычисления                     3129.0    4199.0\n",
       "Моделирование временных рядов                         3880.0     175.0\n",
       "Принятие решений в условиях риска и неопределён...     559.0     350.0\n",
       "Сбор и обработка данных с помощью краудсорсинга       4624.0    1553.0"
      ]
     },
     "execution_count": 24,
     "metadata": {},
     "output_type": "execute_result"
    }
   ],
   "source": [
    "df_1817 = df_unique.groupby(\"fall_1\")[[\"18_group\", \"17_group\"]].sum()\n",
    "df_1817[(df_1817[\"18_group\"] != 0) & (df_1817[\"17_group\"] != 0)]\n",
    "# осенние курсы по выбору"
   ]
  },
  {
   "cell_type": "code",
   "execution_count": 25,
   "metadata": {},
   "outputs": [
    {
     "data": {
      "text/html": [
       "<div>\n",
       "<style scoped>\n",
       "    .dataframe tbody tr th:only-of-type {\n",
       "        vertical-align: middle;\n",
       "    }\n",
       "\n",
       "    .dataframe tbody tr th {\n",
       "        vertical-align: top;\n",
       "    }\n",
       "\n",
       "    .dataframe thead th {\n",
       "        text-align: right;\n",
       "    }\n",
       "</style>\n",
       "<table border=\"1\" class=\"dataframe\">\n",
       "  <thead>\n",
       "    <tr style=\"text-align: right;\">\n",
       "      <th></th>\n",
       "      <th>18_group</th>\n",
       "      <th>17_group</th>\n",
       "    </tr>\n",
       "    <tr>\n",
       "      <th>spring_1</th>\n",
       "      <th></th>\n",
       "      <th></th>\n",
       "    </tr>\n",
       "  </thead>\n",
       "  <tbody>\n",
       "    <tr>\n",
       "      <th>Численные методы</th>\n",
       "      <td>1102.0</td>\n",
       "      <td>175.0</td>\n",
       "    </tr>\n",
       "  </tbody>\n",
       "</table>\n",
       "</div>"
      ],
      "text/plain": [
       "                  18_group  17_group\n",
       "spring_1                            \n",
       "Численные методы    1102.0     175.0"
      ]
     },
     "execution_count": 25,
     "metadata": {},
     "output_type": "execute_result"
    }
   ],
   "source": [
    "df_1817 = df_unique.groupby(\"spring_1\")[[\"18_group\", \"17_group\"]].sum()\n",
    "df_1817[(df_1817[\"18_group\"] != 0) & (df_1817[\"17_group\"] != 0)]\n",
    "# весенние курсы по выбору"
   ]
  },
  {
   "cell_type": "markdown",
   "metadata": {
    "id": "PYfX-Dr5hLu0"
   },
   "source": [
    "Методом исключения найдите курсы, которые предлагались только студентам 18-го года и только студентам 17-го года."
   ]
  },
  {
   "cell_type": "code",
   "execution_count": 26,
   "metadata": {},
   "outputs": [
    {
     "data": {
      "text/html": [
       "<div>\n",
       "<style scoped>\n",
       "    .dataframe tbody tr th:only-of-type {\n",
       "        vertical-align: middle;\n",
       "    }\n",
       "\n",
       "    .dataframe tbody tr th {\n",
       "        vertical-align: top;\n",
       "    }\n",
       "\n",
       "    .dataframe thead th {\n",
       "        text-align: right;\n",
       "    }\n",
       "</style>\n",
       "<table border=\"1\" class=\"dataframe\">\n",
       "  <thead>\n",
       "    <tr style=\"text-align: right;\">\n",
       "      <th></th>\n",
       "      <th>18_group</th>\n",
       "      <th>17_group</th>\n",
       "    </tr>\n",
       "    <tr>\n",
       "      <th>fall_1</th>\n",
       "      <th></th>\n",
       "      <th></th>\n",
       "    </tr>\n",
       "  </thead>\n",
       "  <tbody>\n",
       "    <tr>\n",
       "      <th>Матричные вычисления</th>\n",
       "      <td>2567.0</td>\n",
       "      <td>0.0</td>\n",
       "    </tr>\n",
       "    <tr>\n",
       "      <th>Теория баз данных</th>\n",
       "      <td>2022.0</td>\n",
       "      <td>0.0</td>\n",
       "    </tr>\n",
       "    <tr>\n",
       "      <th>Язык SQL</th>\n",
       "      <td>5000.0</td>\n",
       "      <td>0.0</td>\n",
       "    </tr>\n",
       "  </tbody>\n",
       "</table>\n",
       "</div>"
      ],
      "text/plain": [
       "                      18_group  17_group\n",
       "fall_1                                  \n",
       "Матричные вычисления    2567.0       0.0\n",
       "Теория баз данных       2022.0       0.0\n",
       "Язык SQL                5000.0       0.0"
      ]
     },
     "execution_count": 26,
     "metadata": {},
     "output_type": "execute_result"
    }
   ],
   "source": [
    "df_18 = df_unique.groupby(\"fall_1\")[[\"18_group\", \"17_group\"]].sum()\n",
    "df_18[(df_18[\"18_group\"] != 0) & (df_18[\"17_group\"] == 0)]\n",
    "# осенние курсы только студентов 18-го года"
   ]
  },
  {
   "cell_type": "code",
   "execution_count": 27,
   "metadata": {
    "id": "G9SWBOpehLu1"
   },
   "outputs": [
    {
     "data": {
      "text/html": [
       "<div>\n",
       "<style scoped>\n",
       "    .dataframe tbody tr th:only-of-type {\n",
       "        vertical-align: middle;\n",
       "    }\n",
       "\n",
       "    .dataframe tbody tr th {\n",
       "        vertical-align: top;\n",
       "    }\n",
       "\n",
       "    .dataframe thead th {\n",
       "        text-align: right;\n",
       "    }\n",
       "</style>\n",
       "<table border=\"1\" class=\"dataframe\">\n",
       "  <thead>\n",
       "    <tr style=\"text-align: right;\">\n",
       "      <th></th>\n",
       "      <th>18_group</th>\n",
       "      <th>17_group</th>\n",
       "    </tr>\n",
       "    <tr>\n",
       "      <th>spring_1</th>\n",
       "      <th></th>\n",
       "      <th></th>\n",
       "    </tr>\n",
       "  </thead>\n",
       "  <tbody>\n",
       "    <tr>\n",
       "      <th>Анализ данных в бизнесе</th>\n",
       "      <td>3511.0</td>\n",
       "      <td>0.0</td>\n",
       "    </tr>\n",
       "    <tr>\n",
       "      <th>Дискретная оптимизация</th>\n",
       "      <td>5677.0</td>\n",
       "      <td>0.0</td>\n",
       "    </tr>\n",
       "    <tr>\n",
       "      <th>Дополнительные главы прикладной статистики</th>\n",
       "      <td>2016.0</td>\n",
       "      <td>0.0</td>\n",
       "    </tr>\n",
       "    <tr>\n",
       "      <th>Компьютерные сети</th>\n",
       "      <td>7953.0</td>\n",
       "      <td>0.0</td>\n",
       "    </tr>\n",
       "    <tr>\n",
       "      <th>Машинное обучение 2</th>\n",
       "      <td>6275.0</td>\n",
       "      <td>0.0</td>\n",
       "    </tr>\n",
       "    <tr>\n",
       "      <th>Промышленное программирование на языке Java</th>\n",
       "      <td>11270.0</td>\n",
       "      <td>0.0</td>\n",
       "    </tr>\n",
       "    <tr>\n",
       "      <th>Системы баз данных</th>\n",
       "      <td>1488.0</td>\n",
       "      <td>0.0</td>\n",
       "    </tr>\n",
       "  </tbody>\n",
       "</table>\n",
       "</div>"
      ],
      "text/plain": [
       "                                             18_group  17_group\n",
       "spring_1                                                       \n",
       "Анализ данных в бизнесе                        3511.0       0.0\n",
       "Дискретная оптимизация                         5677.0       0.0\n",
       "Дополнительные главы прикладной статистики     2016.0       0.0\n",
       "Компьютерные сети                              7953.0       0.0\n",
       "Машинное обучение 2                            6275.0       0.0\n",
       "Промышленное программирование на языке Java   11270.0       0.0\n",
       "Системы баз данных                             1488.0       0.0"
      ]
     },
     "execution_count": 27,
     "metadata": {},
     "output_type": "execute_result"
    }
   ],
   "source": [
    "df_18 = df_unique.groupby(\"spring_1\")[[\"18_group\", \"17_group\"]].sum()\n",
    "df_18[(df_18[\"18_group\"] != 0) & (df_18[\"17_group\"] == 0)]\n",
    "# весенние курсы только студентов 18-го года"
   ]
  },
  {
   "cell_type": "code",
   "execution_count": 28,
   "metadata": {},
   "outputs": [
    {
     "data": {
      "text/html": [
       "<div>\n",
       "<style scoped>\n",
       "    .dataframe tbody tr th:only-of-type {\n",
       "        vertical-align: middle;\n",
       "    }\n",
       "\n",
       "    .dataframe tbody tr th {\n",
       "        vertical-align: top;\n",
       "    }\n",
       "\n",
       "    .dataframe thead th {\n",
       "        text-align: right;\n",
       "    }\n",
       "</style>\n",
       "<table border=\"1\" class=\"dataframe\">\n",
       "  <thead>\n",
       "    <tr style=\"text-align: right;\">\n",
       "      <th></th>\n",
       "      <th>18_group</th>\n",
       "      <th>17_group</th>\n",
       "    </tr>\n",
       "    <tr>\n",
       "      <th>fall_1</th>\n",
       "      <th></th>\n",
       "      <th></th>\n",
       "    </tr>\n",
       "  </thead>\n",
       "  <tbody>\n",
       "    <tr>\n",
       "      <th>Анализ неструктурированных данных</th>\n",
       "      <td>0.0</td>\n",
       "      <td>5523.0</td>\n",
       "    </tr>\n",
       "    <tr>\n",
       "      <th>Байесовские методы машинного обучения</th>\n",
       "      <td>0.0</td>\n",
       "      <td>2742.0</td>\n",
       "    </tr>\n",
       "    <tr>\n",
       "      <th>Глубинное обучение в обработке звука</th>\n",
       "      <td>0.0</td>\n",
       "      <td>1730.0</td>\n",
       "    </tr>\n",
       "  </tbody>\n",
       "</table>\n",
       "</div>"
      ],
      "text/plain": [
       "                                       18_group  17_group\n",
       "fall_1                                                   \n",
       "Анализ неструктурированных данных           0.0    5523.0\n",
       "Байесовские методы машинного обучения       0.0    2742.0\n",
       "Глубинное обучение в обработке звука        0.0    1730.0"
      ]
     },
     "execution_count": 28,
     "metadata": {},
     "output_type": "execute_result"
    }
   ],
   "source": [
    "df_18 = df_unique.groupby(\"fall_1\")[[\"18_group\", \"17_group\"]].sum()\n",
    "df_18[(df_18[\"18_group\"] == 0) & (df_18[\"17_group\"] != 0)]\n",
    "# осенние курсы только студентов 17-го года"
   ]
  },
  {
   "cell_type": "code",
   "execution_count": 29,
   "metadata": {},
   "outputs": [
    {
     "data": {
      "text/html": [
       "<div>\n",
       "<style scoped>\n",
       "    .dataframe tbody tr th:only-of-type {\n",
       "        vertical-align: middle;\n",
       "    }\n",
       "\n",
       "    .dataframe tbody tr th {\n",
       "        vertical-align: top;\n",
       "    }\n",
       "\n",
       "    .dataframe thead th {\n",
       "        text-align: right;\n",
       "    }\n",
       "</style>\n",
       "<table border=\"1\" class=\"dataframe\">\n",
       "  <thead>\n",
       "    <tr style=\"text-align: right;\">\n",
       "      <th></th>\n",
       "      <th>18_group</th>\n",
       "      <th>17_group</th>\n",
       "    </tr>\n",
       "    <tr>\n",
       "      <th>spring_1</th>\n",
       "      <th></th>\n",
       "      <th></th>\n",
       "    </tr>\n",
       "  </thead>\n",
       "  <tbody>\n",
       "    <tr>\n",
       "      <th>Генеративные модели в машинном обучении</th>\n",
       "      <td>0.0</td>\n",
       "      <td>514.0</td>\n",
       "    </tr>\n",
       "    <tr>\n",
       "      <th>Компьютерное зрение</th>\n",
       "      <td>0.0</td>\n",
       "      <td>1547.0</td>\n",
       "    </tr>\n",
       "    <tr>\n",
       "      <th>Конфликты и кооперация</th>\n",
       "      <td>0.0</td>\n",
       "      <td>2087.0</td>\n",
       "    </tr>\n",
       "    <tr>\n",
       "      <th>Методы сжатия и передачи медиаданных</th>\n",
       "      <td>0.0</td>\n",
       "      <td>2445.0</td>\n",
       "    </tr>\n",
       "    <tr>\n",
       "      <th>Обучение с подкреплением</th>\n",
       "      <td>0.0</td>\n",
       "      <td>8611.0</td>\n",
       "    </tr>\n",
       "    <tr>\n",
       "      <th>Проектирование и разработка высоконагруженных сервисов</th>\n",
       "      <td>0.0</td>\n",
       "      <td>6815.0</td>\n",
       "    </tr>\n",
       "    <tr>\n",
       "      <th>Символьные вычисления</th>\n",
       "      <td>0.0</td>\n",
       "      <td>1038.0</td>\n",
       "    </tr>\n",
       "  </tbody>\n",
       "</table>\n",
       "</div>"
      ],
      "text/plain": [
       "                                                    18_group  17_group\n",
       "spring_1                                                              \n",
       "Генеративные модели в машинном обучении                  0.0     514.0\n",
       "Компьютерное зрение                                      0.0    1547.0\n",
       "Конфликты и кооперация                                   0.0    2087.0\n",
       "Методы сжатия и передачи медиаданных                     0.0    2445.0\n",
       "Обучение с подкреплением                                 0.0    8611.0\n",
       "Проектирование и разработка высоконагруженных с...       0.0    6815.0\n",
       "Символьные вычисления                                    0.0    1038.0"
      ]
     },
     "execution_count": 29,
     "metadata": {},
     "output_type": "execute_result"
    }
   ],
   "source": [
    "df_18 = df_unique.groupby(\"spring_1\")[[\"18_group\", \"17_group\"]].sum()\n",
    "df_18[(df_18[\"18_group\"] == 0) & (df_18[\"17_group\"] != 0)]\n",
    "# весенние курсы только студентов 17-го года"
   ]
  },
  {
   "cell_type": "markdown",
   "metadata": {
    "id": "uL45Tg5fhLu1"
   },
   "source": [
    "### Визуализации и matplotlib"
   ]
  },
  {
   "cell_type": "markdown",
   "metadata": {
    "id": "MY9lKmP2hLu1"
   },
   "source": [
    "При работе с данными часто неудобно делать какие-то выводы, если смотреть на таблицу и числа в частности, поэтому важно уметь визуализировать данные. Здесь будут описаны ключевые правила оформления графиков для **всех** домашних заданий.\n",
    "\n",
    "У matplotlib, конечно же, есть [документация](https://matplotlib.org/users/index.html) с большим количеством [примеров](https://matplotlib.org/examples/), но для начала достаточно знать про несколько основных типов графиков:\n",
    "- plot — обычный поточечный график, которым можно изображать кривые или отдельные точки;\n",
    "- hist — гистограмма, показывающая распределение некоторой величины;\n",
    "- scatter — график, показывающий взаимосвязь двух величин;\n",
    "- bar — столбцовый график, показывающий взаимосвязь количественной величины от категориальной.\n",
    "\n",
    "В этом задании вы попробуете построить один из них. Не забывайте про базовые принципы построения приличных графиков:\n",
    "- оси должны быть подписаны, причём не слишком мелко;\n",
    "- у графика должно быть название;\n",
    "- если изображено несколько графиков, то необходима поясняющая легенда;\n",
    "- все линии на графиках должны быть чётко видны (нет похожих цветов или цветов, сливающихся с фоном);\n",
    "- если отображена величина, имеющая очевидный диапазон значений (например, проценты могут быть от 0 до 100), то желательно масштабировать ось на весь диапазон значений (исключением является случай, когда вам необходимо показать малое отличие, которое незаметно в таких масштабах);\n",
    "- сетка на графике помогает оценить значения в точках на глаз, это обычно полезно, поэтому лучше ее отрисовывать;\n",
    "- если распределение на гистограмме имеет тяжёлые хвосты, лучше использовать логарифмическую шкалу.\n",
    "\n",
    "Еще одна билиотека для визуализации: [seaborn](https://jakevdp.github.io/PythonDataScienceHandbook/04.14-visualization-with-seaborn.html) (обычно сокращается до sns). Это настройка над matplotlib, иногда удобнее и красивее делать визуализации через неё.\n",
    "\n",
    "**5 пунктов после которых ваши графики не будут прежними:**\n",
    "- для красивой картинки <code>%config InlineBackend.figure_format = 'retina'</code>\n",
    "- задаем размер (почти) всех графиков (можно выбрать другие значения) <code>plt.rcParams['figure.figsize'] = 8, 5</code>\n",
    "- размер шрифта подписей графиков <code>plt.rcParams['font.size'] = 12</code>\n",
    "- формат в котором сохраняется изображение <code>mpl.rcParams['savefig.format'] = 'pdf'</code>\n",
    "- sns – seaborn, добавляет решетку <code>sns.set_style('darkgrid')</code>\n",
    "\n",
    "Добавьте эти функции в ячейку ниже. Каждый график все равно придется настраивать отдельно, но указанные строчки позволят значительно упростить процесс.  "
   ]
  },
  {
   "cell_type": "code",
   "execution_count": 30,
   "metadata": {
    "id": "na9doUOFhLu1"
   },
   "outputs": [],
   "source": [
    "%matplotlib inline\n",
    "%config InlineBackend.figure_format = 'retina'\n",
    "import matplotlib.pyplot as plt\n",
    "import matplotlib as mpl\n",
    "import seaborn as sns\n",
    "\n",
    "plt.rcParams['font.size'] = 12\n",
    "mpl.rcParams['savefig.format'] = 'pdf'\n",
    "sns.set_style('darkgrid')\n"
   ]
  },
  {
   "cell_type": "markdown",
   "metadata": {
    "id": "kikwLpxfhLu1"
   },
   "source": [
    "#### 7. [0.5 балла] Постройте график средних рейтингов по дням получения ответов (bar plot)."
   ]
  },
  {
   "cell_type": "code",
   "execution_count": 31,
   "metadata": {
    "id": "UTPLVeQvhLu2"
   },
   "outputs": [
    {
     "data": {
      "image/png": "[encoded data removed]",
      "text/plain": [
       "<Figure size 1000x600 with 1 Axes>"
      ]
     },
     "metadata": {
      "image/png": {
       "height": 584,
       "width": 984
      }
     },
     "output_type": "display_data"
    }
   ],
   "source": [
    "df_unique['date'] = pd.to_datetime(df_unique['timestamp']).dt.date\n",
    "daily_avg_rating = df_unique.groupby('date')['rating'].mean()\n",
    "\n",
    "fig = plt.figure(figsize=(10,6))\n",
    "daily_avg_rating.plot(kind='bar', color='skyblue')\n",
    "plt.title('График средних рейтингов по дням получения ответов', fontsize=16)\n",
    "plt.xlabel('Дата')\n",
    "plt.ylabel('Средний рейтинг')\n",
    "plt.xticks(rotation=45, ha='right')\n",
    "plt.tight_layout()\n",
    "plt.show()"
   ]
  },
  {
   "cell_type": "markdown",
   "metadata": {
    "id": "AmsQg9_xhLu2"
   },
   "source": [
    "Сохраните график в формате pdf (так он останется векторизованным)."
   ]
  },
  {
   "cell_type": "code",
   "execution_count": 32,
   "metadata": {},
   "outputs": [],
   "source": [
    "fig.savefig(\"avg_rating\")"
   ]
  },
  {
   "cell_type": "markdown",
   "metadata": {
    "id": "sCgWwjl0hLu2"
   },
   "source": [
    "### 2. Распределение студентов по курсам."
   ]
  },
  {
   "cell_type": "markdown",
   "metadata": {
    "id": "6rjOnzRN8A8l"
   },
   "source": [
    "<span style=\"color:red\">!!!ВНИМАТЕЛЬНО ИЗУЧИТЕ ТЕКСТ НИЖЕ!!!</span>.\n",
    "\n",
    "<span style=\"color:orange\">Если во время выполнения заданий у вас вознинут вопросы -- еще раз перечитайте текст целиком, скорее всего ответы уже содержатся в нем.</span>"
   ]
  },
  {
   "cell_type": "markdown",
   "metadata": {
    "id": "VNqXUpr4hLu3"
   },
   "source": [
    "Теперь вам нужно распределить студентов по осенним курсам по выбору, учитывая их предпочтения."
   ]
  },
  {
   "cell_type": "markdown",
   "metadata": {
    "id": "5cAR2FgphLu3"
   },
   "source": [
    "## 📌 **Алгоритм распределения студентов по курсам**:\n",
    "1. По умолчанию на каждой дисциплине по выбору у 3 и 4 курсов может учиться 1 группа (до 30 студентов). Исключения описаны ниже. На blended-дисциплинах для четверокурсников количество мест не ограничено.\n",
    "2. Проводится первая волна отбора. Для каждой дисциплины формируется список тех, кто указал её первым приоритетом (если студент должен выбрать два курса по выбору, то для него дисциплины, которые он указал первым и вторым приоритетом, рассматриваются как дисциплины первого приоритета). Если желающих больше, чем мест, то выбирается топ по перцентилю рейтинга.\n",
    "3. На дисциплинах, где остались места после первой волны, формируются списки тех, кто выбрал их вторым приоритетом, и места заполняются лучшими по перцентили рейтинга студентами. После этого проводится такая же процедура для дисциплин третьего приоритета.\n",
    "4. Если студент не попал на необходимое количество курсов по итогам трёх волн, с ним связывается учебный офис и решает вопрос в индивидуальном порядке."
   ]
  },
  {
   "cell_type": "markdown",
   "metadata": {
    "id": "BiNKVwS6hLu3"
   },
   "source": [
    "## ☝️ **Обращаем ваше внимание на следующие детали:**\n",
    "- Конкурс на каждый курс общий для 3-го и 4-го курса\n",
    "\n",
    "- По умолчанию студент выбирает один осенний и один весенний курс по выбору, а также четверокурсники выбирают один blended-курс. Студенты групп 17-го года специализаций МОП и ТИ выбирают по 2 осенних и 2 весенних курса по выбору, также студенты групп 18' специализации МИ выбирают 2 осенних курса. <i>Для студентов, которые выбирают 2 курса (например, осенних) первый приоритет — <code>fall_1</code> и <code>fall_2</code>, второй приоритет — <code>fall_3</code>. Такие студенты участвуют только в двух волнах отбора</i>.\n",
    "\n",
    "- Студенты специализации МОП не могут выбрать весенним курсом по выбору Машинное обучение 2. **Если студент специализации МОП выбрал Машинное обучение 2, то его приоритеты сдвигаются.** Из-за совпадений первого и второго курса по выбору двигать приоритеты не надо.\n",
    "\n",
    "- Blended-курсы не трогайте, по ним не надо распределять, на другие курсы они никак не влияют.\n",
    "\n",
    "- Заведомо известно, что в процессе распределения не возникнет ситуации, когда на одно место претендуют студенты с одинаковым перцентилем.\n",
    "\n",
    "- Постарайтесь воздержаться от использования циклов там, где это возможно. <i>Допустимо итерироваться по <b>курсам</b>, на которые проводится отбор, и по <b>волнам</b> отбора. Если вы придумаете, как обойтись и без этих циклов, то на усмотрение проверяющего могут быть добавлены бонусные баллы. <b>Дублирование кода не признается успешным избавлением от циклов</b></i>\n",
    "\n",
    "- На выходе ожидается файл res_fall.csv с результатами распределения на осенние курсы по выбору. Файл должен быть следующего формата:\n",
    "\n",
    "    * Три колонки: ID, course1, course2\n",
    "    \n",
    "    * Если студент не попал на курс, но должен был, то вместо названия курса в ячейке должна быть строка \"???\"\n",
    "    \n",
    "    * Если студент должен выбрать только один курс, то в колонке course2 для него должна стоять строка \"-\"\n",
    "    \n",
    "    * Если студент должен выбрать два курса по выбору, то порядок в колонках course1 и course2 не важен.\n",
    "    \n",
    "    * hint: для сохранения воспользуйтесь `df.to_csv('solution.csv', index=None)`\n",
    "    \n",
    "\n",
    "Для работы вам могут понадобиться следующие данные:\n",
    "\n",
    "- Результаты опроса (вы уже использовали этот файл в первой части задания, но на всякий случай ссылка: https://www.dropbox.com/s/f4rm8sjc3v99p0m/_end_seminar.xlsx?dl=0)\n",
    "\n",
    "- Соответствие номеров групп специализациям:\n",
    "\n",
    "    * 171, 172 - МОП; 173 - ТИ; 174 — АДИС; 175, 176 — РС; 177 — АПР\n",
    "    \n",
    "    * У студентов 18-го года номера групп соответствуют номерам до распределения по специализациям. Это означает, что по номеру группы 18* нельзя однозначно определить специализацию студента. При этом в рамках распределения важно знать информацию только о двух из них: МОП и МИ. Эти знание можно получить из колонок 'is_ml_student\n",
    "' и 'is_mi' соответственно.\n",
    "\n",
    "- Ограничения по количеству мест на курсах по выбору:\n",
    "\n",
    "    * Осенние: везде 30 мест, кроме Statistical Learning Theory (60 мест), Высокопроизводительных вычислений (60 мест), Анализа неструктурированных данных ($\\infty$ мест)\n",
    "\n",
    "    * Весенние: везде 30 мест, кроме Обучения с подкреплением (60 мест), Анализа данных в бизнесе (60 мест).\n",
    "\n",
    "\n",
    "Кстати, убедитесь, что в данных больше нет пропусков и повторных записей."
   ]
  },
  {
   "cell_type": "markdown",
   "metadata": {
    "id": "o5t55IcQhLu4"
   },
   "source": [
    "#### 0. Проверка\n",
    "\n",
    "Для начала давайте убедимся, что вы успешно выполнили задания первой части и проверим ваши данные на наличие пропусков и повторов:"
   ]
  },
  {
   "cell_type": "code",
   "execution_count": 33,
   "metadata": {},
   "outputs": [],
   "source": [
    "df = df_unique.copy()"
   ]
  },
  {
   "cell_type": "code",
   "execution_count": 34,
   "metadata": {
    "id": "34HWEdVdhLu4"
   },
   "outputs": [],
   "source": [
    "assert df.shape[0] == 347, 'В таблице остались повторы или потеряны данные'\n",
    "\n",
    "assert df.isna().sum().sum() == 0, 'В таблице остались пропуски'"
   ]
  },
  {
   "cell_type": "markdown",
   "metadata": {
    "id": "_ImUFyG3hLu4"
   },
   "source": [
    "Если вы не получили AssertionError, то можете продолжать."
   ]
  },
  {
   "cell_type": "markdown",
   "metadata": {
    "id": "LTGSwwvAhLu4"
   },
   "source": [
    "#### 1. [1 балл] Создайте новый признак, обозначающий, сколько осенних курсов должен выбрать студент\n",
    "\n",
    "В этом вам может помочь информация о специализации и группе стундента."
   ]
  },
  {
   "cell_type": "code",
   "execution_count": 35,
   "metadata": {},
   "outputs": [
    {
     "name": "stderr",
     "output_type": "stream",
     "text": [
      "C:\\Users\\chizh\\AppData\\Local\\Temp\\ipykernel_7880\\758512054.py:2: SettingWithCopyWarning: \n",
      "A value is trying to be set on a copy of a slice from a DataFrame\n",
      "\n",
      "See the caveats in the documentation: https://pandas.pydata.org/pandas-docs/stable/user_guide/indexing.html#returning-a-view-versus-a-copy\n",
      "  df[\"fall_amount\"].loc[(df[\"17_group\"].isin([171, 172, 173])) | ((df[\"18_group\"] != 0) & (df[\"is_mi\"] == 1))] = 2\n"
     ]
    }
   ],
   "source": [
    "df[\"fall_amount\"] = 1\n",
    "df[\"fall_amount\"].loc[(df[\"17_group\"].isin([171, 172, 173])) | ((df[\"18_group\"] != 0) & (df[\"is_mi\"] == 1))] = 2"
   ]
  },
  {
   "cell_type": "markdown",
   "metadata": {
    "id": "S47aq1sQhLu4"
   },
   "source": [
    "Проверка:"
   ]
  },
  {
   "cell_type": "code",
   "execution_count": 36,
   "metadata": {
    "id": "OlOgzDKDhLu5"
   },
   "outputs": [],
   "source": [
    "col_name = \"fall_amount\"\n",
    "\n",
    "assert(df[df['id'] == '2662600c2c37e11e62f6ee0b88452f22'][col_name] == 2).all()\n",
    "assert(df[df['id'] == 'd555d2805e1d93d4f023e57dc4c8f403'][col_name] == 2).all()\n",
    "assert(df[df['id'] == '8fe79f84f36e3a5d2d6745621321302c'][col_name] == 1).all()\n",
    "assert(df[df['id'] == 'e4caca755ee0bdd711e18fb8084958b5'][col_name] == 1).all()"
   ]
  },
  {
   "cell_type": "markdown",
   "metadata": {
    "id": "VtQYhwuPhLu5"
   },
   "source": [
    "#### 2. [2 балла] Распределите студентов в соответствии с первым приоритетом"
   ]
  },
  {
   "cell_type": "code",
   "execution_count": 37,
   "metadata": {
    "id": "6gWfT3vqhLu5"
   },
   "outputs": [
    {
     "name": "stderr",
     "output_type": "stream",
     "text": [
      "C:\\Users\\chizh\\AppData\\Local\\Temp\\ipykernel_7880\\3254889878.py:3: SettingWithCopyWarning: \n",
      "A value is trying to be set on a copy of a slice from a DataFrame\n",
      "\n",
      "See the caveats in the documentation: https://pandas.pydata.org/pandas-docs/stable/user_guide/indexing.html#returning-a-view-versus-a-copy\n",
      "  df[\"fall_course2\"].loc[df[\"fall_amount\"] == 1] = \"-\"\n"
     ]
    }
   ],
   "source": [
    "df[[\"is_first_place\", \"is_last_place\"]] = np.nan\n",
    "df[[\"fall_course1\", \"fall_course2\"]] = \"???\"\n",
    "df[\"fall_course2\"].loc[df[\"fall_amount\"] == 1] = \"-\"\n",
    "big_courses = [\"Statistical Learning Theory\", \"Высокопроизводительные вычисления\", \"Анализ неструктурированных данных\", \\\n",
    "               \"Обучение с подкреплением\", \"Анализ данных в бизнесе\"]"
   ]
  },
  {
   "cell_type": "markdown",
   "metadata": {},
   "source": [
    "Проводится первая волна отбора. Для каждой дисциплины формируется список тех, кто указал её первым приоритетом \n",
    "(если студент должен выбрать два курса по выбору, то для него дисциплины, которые он указал первым и вторым приоритетом, \n",
    "рассматриваются как дисциплины первого приоритета). Если желающих больше, чем мест, то выбирается топ по перцентилю рейтинга."
   ]
  },
  {
   "cell_type": "code",
   "execution_count": 38,
   "metadata": {},
   "outputs": [],
   "source": [
    "# def first_wave(df: pd.DataFrame, course: str) -> None:\n",
    "#     amount = 30\n",
    "#     if course in big_courses:\n",
    "#         if course == \"Анализ неструктурированных данных\":\n",
    "#             amount = 10000\n",
    "#         else:\n",
    "#             amount = 60\n",
    "\n",
    "#     mask = (df[\"fall_1\"] == course) | ((df[\"fall_2\"] == course) & (df[\"fall_amount\"] == 2))\n",
    "#     top = df[mask].sort_values(by=\"percentile\").iloc[:amount]\n",
    "#     df.loc[top[\"percentile\"].idxmin(), \"is_first_place\"] = True\n",
    "#     df.loc[top[\"percentile\"].idxmax(), \"is_last_place\"] = True\n",
    "#     stud_list = top[\"id\"].tolist()\n",
    "\n",
    "#     df[\"fall_course1\"].loc[(df[\"id\"].isin(stud_list)) & (df[\"fall_amount\"] == 1)] = course\n",
    "#     df[\"fall_course1\"].loc[(df[\"id\"].isin(stud_list)) & (df[\"fall_amount\"] == 2) & (df[\"fall_course1\"] == \"???\")] = course\n",
    "#     df[\"fall_course2\"].loc[(df[\"id\"].isin(stud_list)) & (df[\"fall_amount\"] == 2) & (df[\"fall_course1\"] != course)] = course\n",
    "# \n",
    "# test_df = df.copy()\n",
    "# for s in df[\"fall_1\"].unique():\n",
    "#     first_wave(test_df, s)"
   ]
  },
  {
   "cell_type": "code",
   "execution_count": 39,
   "metadata": {},
   "outputs": [],
   "source": [
    "courses_contain = {}\n",
    "for s in pd.concat([df[\"fall_1\"], df[\"fall_2\"], df[\"fall_3\"]]).unique():\n",
    "    if s in big_courses:\n",
    "        if s == \"Анализ неструктурированных данных\":\n",
    "            courses_contain[s] = 10000\n",
    "        else:\n",
    "            courses_contain[s] = 60\n",
    "    else:\n",
    "        courses_contain[s] = 30"
   ]
  },
  {
   "cell_type": "code",
   "execution_count": 40,
   "metadata": {
    "id": "jn2OOrLjhLu6"
   },
   "outputs": [],
   "source": [
    "def course_selection(df: pd.DataFrame, wave: int) -> None:\n",
    "    for course, amount in courses_contain.items():\n",
    "        has_2_courses = df[\"fall_amount\"] == 2\n",
    "        course_1_not_chosen = df[\"fall_course1\"] == \"???\"\n",
    "        course_2_not_chosen = df[\"fall_course2\"] == \"???\"\n",
    "        wave_if_2_courses = 3 if wave == 3 else wave + 1\n",
    "\n",
    "        mask = ((course_1_not_chosen) | ((has_2_courses) & (course_2_not_chosen) & (df[\"fall_course1\"] != course))) & \\\n",
    "               ((df[f\"fall_{wave}\"] == course) | ((has_2_courses) & (df[f\"fall_{wave_if_2_courses}\"] == course)))\n",
    "        top = df[mask].sort_values(by=\"percentile\").iloc[:amount]\n",
    "        if wave == 1 and top.shape[0] > 0:\n",
    "            df.loc[top[\"percentile\"].idxmin(), \"is_first_place\"] = True\n",
    "            df.loc[top[\"percentile\"].idxmax(), \"is_last_place\"] = True\n",
    "        stud_list = top[\"id\"].tolist()\n",
    "        courses_contain[course] -= len(stud_list)\n",
    "\n",
    "        df[\"fall_course1\"].loc[(df[\"id\"].isin(stud_list)) & (course_1_not_chosen)] = course\n",
    "        df[\"fall_course2\"].loc[(df[\"id\"].isin(stud_list)) & (course_2_not_chosen) & (df[\"fall_course1\"] != course)] = course       "
   ]
  },
  {
   "cell_type": "code",
   "execution_count": 41,
   "metadata": {
    "scrolled": true
   },
   "outputs": [
    {
     "name": "stderr",
     "output_type": "stream",
     "text": [
      "C:\\Users\\chizh\\AppData\\Local\\Temp\\ipykernel_7880\\3769055443.py:12: FutureWarning: Setting an item of incompatible dtype is deprecated and will raise in a future error of pandas. Value 'True' has dtype incompatible with float64, please explicitly cast to a compatible dtype first.\n",
      "  df.loc[top[\"percentile\"].idxmin(), \"is_first_place\"] = True\n",
      "C:\\Users\\chizh\\AppData\\Local\\Temp\\ipykernel_7880\\3769055443.py:13: FutureWarning: Setting an item of incompatible dtype is deprecated and will raise in a future error of pandas. Value 'True' has dtype incompatible with float64, please explicitly cast to a compatible dtype first.\n",
      "  df.loc[top[\"percentile\"].idxmax(), \"is_last_place\"] = True\n",
      "C:\\Users\\chizh\\AppData\\Local\\Temp\\ipykernel_7880\\3769055443.py:17: SettingWithCopyWarning: \n",
      "A value is trying to be set on a copy of a slice from a DataFrame\n",
      "\n",
      "See the caveats in the documentation: https://pandas.pydata.org/pandas-docs/stable/user_guide/indexing.html#returning-a-view-versus-a-copy\n",
      "  df[\"fall_course1\"].loc[(df[\"id\"].isin(stud_list)) & (course_1_not_chosen)] = course\n",
      "C:\\Users\\chizh\\AppData\\Local\\Temp\\ipykernel_7880\\3769055443.py:18: SettingWithCopyWarning: \n",
      "A value is trying to be set on a copy of a slice from a DataFrame\n",
      "\n",
      "See the caveats in the documentation: https://pandas.pydata.org/pandas-docs/stable/user_guide/indexing.html#returning-a-view-versus-a-copy\n",
      "  df[\"fall_course2\"].loc[(df[\"id\"].isin(stud_list)) & (course_2_not_chosen) & (df[\"fall_course1\"] != course)] = course\n",
      "C:\\Users\\chizh\\AppData\\Local\\Temp\\ipykernel_7880\\3769055443.py:17: SettingWithCopyWarning: \n",
      "A value is trying to be set on a copy of a slice from a DataFrame\n",
      "\n",
      "See the caveats in the documentation: https://pandas.pydata.org/pandas-docs/stable/user_guide/indexing.html#returning-a-view-versus-a-copy\n",
      "  df[\"fall_course1\"].loc[(df[\"id\"].isin(stud_list)) & (course_1_not_chosen)] = course\n",
      "C:\\Users\\chizh\\AppData\\Local\\Temp\\ipykernel_7880\\3769055443.py:18: SettingWithCopyWarning: \n",
      "A value is trying to be set on a copy of a slice from a DataFrame\n",
      "\n",
      "See the caveats in the documentation: https://pandas.pydata.org/pandas-docs/stable/user_guide/indexing.html#returning-a-view-versus-a-copy\n",
      "  df[\"fall_course2\"].loc[(df[\"id\"].isin(stud_list)) & (course_2_not_chosen) & (df[\"fall_course1\"] != course)] = course\n",
      "C:\\Users\\chizh\\AppData\\Local\\Temp\\ipykernel_7880\\3769055443.py:17: SettingWithCopyWarning: \n",
      "A value is trying to be set on a copy of a slice from a DataFrame\n",
      "\n",
      "See the caveats in the documentation: https://pandas.pydata.org/pandas-docs/stable/user_guide/indexing.html#returning-a-view-versus-a-copy\n",
      "  df[\"fall_course1\"].loc[(df[\"id\"].isin(stud_list)) & (course_1_not_chosen)] = course\n",
      "C:\\Users\\chizh\\AppData\\Local\\Temp\\ipykernel_7880\\3769055443.py:18: SettingWithCopyWarning: \n",
      "A value is trying to be set on a copy of a slice from a DataFrame\n",
      "\n",
      "See the caveats in the documentation: https://pandas.pydata.org/pandas-docs/stable/user_guide/indexing.html#returning-a-view-versus-a-copy\n",
      "  df[\"fall_course2\"].loc[(df[\"id\"].isin(stud_list)) & (course_2_not_chosen) & (df[\"fall_course1\"] != course)] = course\n",
      "C:\\Users\\chizh\\AppData\\Local\\Temp\\ipykernel_7880\\3769055443.py:17: SettingWithCopyWarning: \n",
      "A value is trying to be set on a copy of a slice from a DataFrame\n",
      "\n",
      "See the caveats in the documentation: https://pandas.pydata.org/pandas-docs/stable/user_guide/indexing.html#returning-a-view-versus-a-copy\n",
      "  df[\"fall_course1\"].loc[(df[\"id\"].isin(stud_list)) & (course_1_not_chosen)] = course\n",
      "C:\\Users\\chizh\\AppData\\Local\\Temp\\ipykernel_7880\\3769055443.py:18: SettingWithCopyWarning: \n",
      "A value is trying to be set on a copy of a slice from a DataFrame\n",
      "\n",
      "See the caveats in the documentation: https://pandas.pydata.org/pandas-docs/stable/user_guide/indexing.html#returning-a-view-versus-a-copy\n",
      "  df[\"fall_course2\"].loc[(df[\"id\"].isin(stud_list)) & (course_2_not_chosen) & (df[\"fall_course1\"] != course)] = course\n",
      "C:\\Users\\chizh\\AppData\\Local\\Temp\\ipykernel_7880\\3769055443.py:17: SettingWithCopyWarning: \n",
      "A value is trying to be set on a copy of a slice from a DataFrame\n",
      "\n",
      "See the caveats in the documentation: https://pandas.pydata.org/pandas-docs/stable/user_guide/indexing.html#returning-a-view-versus-a-copy\n",
      "  df[\"fall_course1\"].loc[(df[\"id\"].isin(stud_list)) & (course_1_not_chosen)] = course\n",
      "C:\\Users\\chizh\\AppData\\Local\\Temp\\ipykernel_7880\\3769055443.py:18: SettingWithCopyWarning: \n",
      "A value is trying to be set on a copy of a slice from a DataFrame\n",
      "\n",
      "See the caveats in the documentation: https://pandas.pydata.org/pandas-docs/stable/user_guide/indexing.html#returning-a-view-versus-a-copy\n",
      "  df[\"fall_course2\"].loc[(df[\"id\"].isin(stud_list)) & (course_2_not_chosen) & (df[\"fall_course1\"] != course)] = course\n",
      "C:\\Users\\chizh\\AppData\\Local\\Temp\\ipykernel_7880\\3769055443.py:17: SettingWithCopyWarning: \n",
      "A value is trying to be set on a copy of a slice from a DataFrame\n",
      "\n",
      "See the caveats in the documentation: https://pandas.pydata.org/pandas-docs/stable/user_guide/indexing.html#returning-a-view-versus-a-copy\n",
      "  df[\"fall_course1\"].loc[(df[\"id\"].isin(stud_list)) & (course_1_not_chosen)] = course\n",
      "C:\\Users\\chizh\\AppData\\Local\\Temp\\ipykernel_7880\\3769055443.py:18: SettingWithCopyWarning: \n",
      "A value is trying to be set on a copy of a slice from a DataFrame\n",
      "\n",
      "See the caveats in the documentation: https://pandas.pydata.org/pandas-docs/stable/user_guide/indexing.html#returning-a-view-versus-a-copy\n",
      "  df[\"fall_course2\"].loc[(df[\"id\"].isin(stud_list)) & (course_2_not_chosen) & (df[\"fall_course1\"] != course)] = course\n",
      "C:\\Users\\chizh\\AppData\\Local\\Temp\\ipykernel_7880\\3769055443.py:17: SettingWithCopyWarning: \n",
      "A value is trying to be set on a copy of a slice from a DataFrame\n",
      "\n",
      "See the caveats in the documentation: https://pandas.pydata.org/pandas-docs/stable/user_guide/indexing.html#returning-a-view-versus-a-copy\n",
      "  df[\"fall_course1\"].loc[(df[\"id\"].isin(stud_list)) & (course_1_not_chosen)] = course\n",
      "C:\\Users\\chizh\\AppData\\Local\\Temp\\ipykernel_7880\\3769055443.py:18: SettingWithCopyWarning: \n",
      "A value is trying to be set on a copy of a slice from a DataFrame\n",
      "\n",
      "See the caveats in the documentation: https://pandas.pydata.org/pandas-docs/stable/user_guide/indexing.html#returning-a-view-versus-a-copy\n",
      "  df[\"fall_course2\"].loc[(df[\"id\"].isin(stud_list)) & (course_2_not_chosen) & (df[\"fall_course1\"] != course)] = course\n",
      "C:\\Users\\chizh\\AppData\\Local\\Temp\\ipykernel_7880\\3769055443.py:17: SettingWithCopyWarning: \n",
      "A value is trying to be set on a copy of a slice from a DataFrame\n",
      "\n",
      "See the caveats in the documentation: https://pandas.pydata.org/pandas-docs/stable/user_guide/indexing.html#returning-a-view-versus-a-copy\n",
      "  df[\"fall_course1\"].loc[(df[\"id\"].isin(stud_list)) & (course_1_not_chosen)] = course\n",
      "C:\\Users\\chizh\\AppData\\Local\\Temp\\ipykernel_7880\\3769055443.py:18: SettingWithCopyWarning: \n",
      "A value is trying to be set on a copy of a slice from a DataFrame\n",
      "\n",
      "See the caveats in the documentation: https://pandas.pydata.org/pandas-docs/stable/user_guide/indexing.html#returning-a-view-versus-a-copy\n",
      "  df[\"fall_course2\"].loc[(df[\"id\"].isin(stud_list)) & (course_2_not_chosen) & (df[\"fall_course1\"] != course)] = course\n",
      "C:\\Users\\chizh\\AppData\\Local\\Temp\\ipykernel_7880\\3769055443.py:17: SettingWithCopyWarning: \n",
      "A value is trying to be set on a copy of a slice from a DataFrame\n",
      "\n",
      "See the caveats in the documentation: https://pandas.pydata.org/pandas-docs/stable/user_guide/indexing.html#returning-a-view-versus-a-copy\n",
      "  df[\"fall_course1\"].loc[(df[\"id\"].isin(stud_list)) & (course_1_not_chosen)] = course\n",
      "C:\\Users\\chizh\\AppData\\Local\\Temp\\ipykernel_7880\\3769055443.py:18: SettingWithCopyWarning: \n",
      "A value is trying to be set on a copy of a slice from a DataFrame\n",
      "\n",
      "See the caveats in the documentation: https://pandas.pydata.org/pandas-docs/stable/user_guide/indexing.html#returning-a-view-versus-a-copy\n",
      "  df[\"fall_course2\"].loc[(df[\"id\"].isin(stud_list)) & (course_2_not_chosen) & (df[\"fall_course1\"] != course)] = course\n",
      "C:\\Users\\chizh\\AppData\\Local\\Temp\\ipykernel_7880\\3769055443.py:17: SettingWithCopyWarning: \n",
      "A value is trying to be set on a copy of a slice from a DataFrame\n",
      "\n",
      "See the caveats in the documentation: https://pandas.pydata.org/pandas-docs/stable/user_guide/indexing.html#returning-a-view-versus-a-copy\n",
      "  df[\"fall_course1\"].loc[(df[\"id\"].isin(stud_list)) & (course_1_not_chosen)] = course\n",
      "C:\\Users\\chizh\\AppData\\Local\\Temp\\ipykernel_7880\\3769055443.py:18: SettingWithCopyWarning: \n",
      "A value is trying to be set on a copy of a slice from a DataFrame\n",
      "\n",
      "See the caveats in the documentation: https://pandas.pydata.org/pandas-docs/stable/user_guide/indexing.html#returning-a-view-versus-a-copy\n",
      "  df[\"fall_course2\"].loc[(df[\"id\"].isin(stud_list)) & (course_2_not_chosen) & (df[\"fall_course1\"] != course)] = course\n",
      "C:\\Users\\chizh\\AppData\\Local\\Temp\\ipykernel_7880\\3769055443.py:17: SettingWithCopyWarning: \n",
      "A value is trying to be set on a copy of a slice from a DataFrame\n",
      "\n",
      "See the caveats in the documentation: https://pandas.pydata.org/pandas-docs/stable/user_guide/indexing.html#returning-a-view-versus-a-copy\n",
      "  df[\"fall_course1\"].loc[(df[\"id\"].isin(stud_list)) & (course_1_not_chosen)] = course\n",
      "C:\\Users\\chizh\\AppData\\Local\\Temp\\ipykernel_7880\\3769055443.py:18: SettingWithCopyWarning: \n",
      "A value is trying to be set on a copy of a slice from a DataFrame\n",
      "\n",
      "See the caveats in the documentation: https://pandas.pydata.org/pandas-docs/stable/user_guide/indexing.html#returning-a-view-versus-a-copy\n",
      "  df[\"fall_course2\"].loc[(df[\"id\"].isin(stud_list)) & (course_2_not_chosen) & (df[\"fall_course1\"] != course)] = course\n",
      "C:\\Users\\chizh\\AppData\\Local\\Temp\\ipykernel_7880\\3769055443.py:17: SettingWithCopyWarning: \n",
      "A value is trying to be set on a copy of a slice from a DataFrame\n",
      "\n",
      "See the caveats in the documentation: https://pandas.pydata.org/pandas-docs/stable/user_guide/indexing.html#returning-a-view-versus-a-copy\n",
      "  df[\"fall_course1\"].loc[(df[\"id\"].isin(stud_list)) & (course_1_not_chosen)] = course\n",
      "C:\\Users\\chizh\\AppData\\Local\\Temp\\ipykernel_7880\\3769055443.py:18: SettingWithCopyWarning: \n",
      "A value is trying to be set on a copy of a slice from a DataFrame\n",
      "\n",
      "See the caveats in the documentation: https://pandas.pydata.org/pandas-docs/stable/user_guide/indexing.html#returning-a-view-versus-a-copy\n",
      "  df[\"fall_course2\"].loc[(df[\"id\"].isin(stud_list)) & (course_2_not_chosen) & (df[\"fall_course1\"] != course)] = course\n"
     ]
    }
   ],
   "source": [
    "course_selection(df, 1)"
   ]
  },
  {
   "cell_type": "markdown",
   "metadata": {
    "id": "vc5zXP5hhLu5"
   },
   "source": [
    "Здесь для проверки приведена таблица, в которой есть 2 дополнительные колонки:\n",
    "    \n",
    "    1) is_first_place - является ли студент лучшим по перцентили хотя бы на одном из курсов, куда он был зачислен\n",
    "    (True / NaN)\n",
    "    \n",
    "    2) is_last_place  - является ли студент худшим по перцентили хотя бы на одном из курсов, куда он был зачислен (True / NaN)"
   ]
  },
  {
   "cell_type": "code",
   "execution_count": 42,
   "metadata": {
    "id": "uZTkGEq5hLu5"
   },
   "outputs": [],
   "source": [
    "# !wget  -O '2_task_check.csv' -q 'https://www.dropbox.com/s/v8o2zzq3iz5gc9w/_2_task_check.csv?dl=0'\n",
    "# import wget\n",
    "# wget.download('https://www.dropbox.com/s/v8o2zzq3iz5gc9w/_2_task_check.csv?dl=1', '2_task_check.csv')\n",
    "check_df = pd.read_csv('2_task_check.csv')"
   ]
  },
  {
   "cell_type": "markdown",
   "metadata": {
    "id": "E_fbyB9qhLu5"
   },
   "source": [
    "После распределения студентов в соответствии с первым приоритетом добавьте в свой датафрейм аналогичные признаки и запустите проверку:"
   ]
  },
  {
   "cell_type": "code",
   "execution_count": 43,
   "metadata": {
    "id": "GOAzQeYehLu6"
   },
   "outputs": [],
   "source": [
    "fir_col_name = \"is_first_place\"\n",
    "last_col_name = \"is_last_place\"\n",
    "\n",
    "assert((df[df[fir_col_name].isna() == False][['id']].sort_values('id').reset_index(drop=True)\n",
    "        ==\n",
    "        check_df[check_df['is_first_place'].isna() == False][['id']].sort_values('id').reset_index(drop=True)\n",
    "       ).id.values).all()\n",
    "\n",
    "\n",
    "assert((df[df[last_col_name].isna() == False][['id']].sort_values('id').reset_index(drop=True)\n",
    "       ==\n",
    "       check_df[check_df['is_last_place'].isna() == False][['id']].sort_values('id').reset_index(drop=True)\n",
    "      ).id.values).all()"
   ]
  },
  {
   "cell_type": "markdown",
   "metadata": {
    "id": "RO6DwNNFhLu6"
   },
   "source": [
    "#### 3. [2 балла] Проведите все три волны отбора студентов на курсы по выбору"
   ]
  },
  {
   "cell_type": "code",
   "execution_count": 44,
   "metadata": {},
   "outputs": [
    {
     "name": "stderr",
     "output_type": "stream",
     "text": [
      "C:\\Users\\chizh\\AppData\\Local\\Temp\\ipykernel_7880\\3769055443.py:17: SettingWithCopyWarning: \n",
      "A value is trying to be set on a copy of a slice from a DataFrame\n",
      "\n",
      "See the caveats in the documentation: https://pandas.pydata.org/pandas-docs/stable/user_guide/indexing.html#returning-a-view-versus-a-copy\n",
      "  df[\"fall_course1\"].loc[(df[\"id\"].isin(stud_list)) & (course_1_not_chosen)] = course\n",
      "C:\\Users\\chizh\\AppData\\Local\\Temp\\ipykernel_7880\\3769055443.py:18: SettingWithCopyWarning: \n",
      "A value is trying to be set on a copy of a slice from a DataFrame\n",
      "\n",
      "See the caveats in the documentation: https://pandas.pydata.org/pandas-docs/stable/user_guide/indexing.html#returning-a-view-versus-a-copy\n",
      "  df[\"fall_course2\"].loc[(df[\"id\"].isin(stud_list)) & (course_2_not_chosen) & (df[\"fall_course1\"] != course)] = course\n",
      "C:\\Users\\chizh\\AppData\\Local\\Temp\\ipykernel_7880\\3769055443.py:17: SettingWithCopyWarning: \n",
      "A value is trying to be set on a copy of a slice from a DataFrame\n",
      "\n",
      "See the caveats in the documentation: https://pandas.pydata.org/pandas-docs/stable/user_guide/indexing.html#returning-a-view-versus-a-copy\n",
      "  df[\"fall_course1\"].loc[(df[\"id\"].isin(stud_list)) & (course_1_not_chosen)] = course\n",
      "C:\\Users\\chizh\\AppData\\Local\\Temp\\ipykernel_7880\\3769055443.py:18: SettingWithCopyWarning: \n",
      "A value is trying to be set on a copy of a slice from a DataFrame\n",
      "\n",
      "See the caveats in the documentation: https://pandas.pydata.org/pandas-docs/stable/user_guide/indexing.html#returning-a-view-versus-a-copy\n",
      "  df[\"fall_course2\"].loc[(df[\"id\"].isin(stud_list)) & (course_2_not_chosen) & (df[\"fall_course1\"] != course)] = course\n",
      "C:\\Users\\chizh\\AppData\\Local\\Temp\\ipykernel_7880\\3769055443.py:17: SettingWithCopyWarning: \n",
      "A value is trying to be set on a copy of a slice from a DataFrame\n",
      "\n",
      "See the caveats in the documentation: https://pandas.pydata.org/pandas-docs/stable/user_guide/indexing.html#returning-a-view-versus-a-copy\n",
      "  df[\"fall_course1\"].loc[(df[\"id\"].isin(stud_list)) & (course_1_not_chosen)] = course\n",
      "C:\\Users\\chizh\\AppData\\Local\\Temp\\ipykernel_7880\\3769055443.py:18: SettingWithCopyWarning: \n",
      "A value is trying to be set on a copy of a slice from a DataFrame\n",
      "\n",
      "See the caveats in the documentation: https://pandas.pydata.org/pandas-docs/stable/user_guide/indexing.html#returning-a-view-versus-a-copy\n",
      "  df[\"fall_course2\"].loc[(df[\"id\"].isin(stud_list)) & (course_2_not_chosen) & (df[\"fall_course1\"] != course)] = course\n",
      "C:\\Users\\chizh\\AppData\\Local\\Temp\\ipykernel_7880\\3769055443.py:17: SettingWithCopyWarning: \n",
      "A value is trying to be set on a copy of a slice from a DataFrame\n",
      "\n",
      "See the caveats in the documentation: https://pandas.pydata.org/pandas-docs/stable/user_guide/indexing.html#returning-a-view-versus-a-copy\n",
      "  df[\"fall_course1\"].loc[(df[\"id\"].isin(stud_list)) & (course_1_not_chosen)] = course\n",
      "C:\\Users\\chizh\\AppData\\Local\\Temp\\ipykernel_7880\\3769055443.py:18: SettingWithCopyWarning: \n",
      "A value is trying to be set on a copy of a slice from a DataFrame\n",
      "\n",
      "See the caveats in the documentation: https://pandas.pydata.org/pandas-docs/stable/user_guide/indexing.html#returning-a-view-versus-a-copy\n",
      "  df[\"fall_course2\"].loc[(df[\"id\"].isin(stud_list)) & (course_2_not_chosen) & (df[\"fall_course1\"] != course)] = course\n",
      "C:\\Users\\chizh\\AppData\\Local\\Temp\\ipykernel_7880\\3769055443.py:17: SettingWithCopyWarning: \n",
      "A value is trying to be set on a copy of a slice from a DataFrame\n",
      "\n",
      "See the caveats in the documentation: https://pandas.pydata.org/pandas-docs/stable/user_guide/indexing.html#returning-a-view-versus-a-copy\n",
      "  df[\"fall_course1\"].loc[(df[\"id\"].isin(stud_list)) & (course_1_not_chosen)] = course\n",
      "C:\\Users\\chizh\\AppData\\Local\\Temp\\ipykernel_7880\\3769055443.py:18: SettingWithCopyWarning: \n",
      "A value is trying to be set on a copy of a slice from a DataFrame\n",
      "\n",
      "See the caveats in the documentation: https://pandas.pydata.org/pandas-docs/stable/user_guide/indexing.html#returning-a-view-versus-a-copy\n",
      "  df[\"fall_course2\"].loc[(df[\"id\"].isin(stud_list)) & (course_2_not_chosen) & (df[\"fall_course1\"] != course)] = course\n",
      "C:\\Users\\chizh\\AppData\\Local\\Temp\\ipykernel_7880\\3769055443.py:17: SettingWithCopyWarning: \n",
      "A value is trying to be set on a copy of a slice from a DataFrame\n",
      "\n",
      "See the caveats in the documentation: https://pandas.pydata.org/pandas-docs/stable/user_guide/indexing.html#returning-a-view-versus-a-copy\n",
      "  df[\"fall_course1\"].loc[(df[\"id\"].isin(stud_list)) & (course_1_not_chosen)] = course\n",
      "C:\\Users\\chizh\\AppData\\Local\\Temp\\ipykernel_7880\\3769055443.py:18: SettingWithCopyWarning: \n",
      "A value is trying to be set on a copy of a slice from a DataFrame\n",
      "\n",
      "See the caveats in the documentation: https://pandas.pydata.org/pandas-docs/stable/user_guide/indexing.html#returning-a-view-versus-a-copy\n",
      "  df[\"fall_course2\"].loc[(df[\"id\"].isin(stud_list)) & (course_2_not_chosen) & (df[\"fall_course1\"] != course)] = course\n",
      "C:\\Users\\chizh\\AppData\\Local\\Temp\\ipykernel_7880\\3769055443.py:17: SettingWithCopyWarning: \n",
      "A value is trying to be set on a copy of a slice from a DataFrame\n",
      "\n",
      "See the caveats in the documentation: https://pandas.pydata.org/pandas-docs/stable/user_guide/indexing.html#returning-a-view-versus-a-copy\n",
      "  df[\"fall_course1\"].loc[(df[\"id\"].isin(stud_list)) & (course_1_not_chosen)] = course\n",
      "C:\\Users\\chizh\\AppData\\Local\\Temp\\ipykernel_7880\\3769055443.py:18: SettingWithCopyWarning: \n",
      "A value is trying to be set on a copy of a slice from a DataFrame\n",
      "\n",
      "See the caveats in the documentation: https://pandas.pydata.org/pandas-docs/stable/user_guide/indexing.html#returning-a-view-versus-a-copy\n",
      "  df[\"fall_course2\"].loc[(df[\"id\"].isin(stud_list)) & (course_2_not_chosen) & (df[\"fall_course1\"] != course)] = course\n",
      "C:\\Users\\chizh\\AppData\\Local\\Temp\\ipykernel_7880\\3769055443.py:17: SettingWithCopyWarning: \n",
      "A value is trying to be set on a copy of a slice from a DataFrame\n",
      "\n",
      "See the caveats in the documentation: https://pandas.pydata.org/pandas-docs/stable/user_guide/indexing.html#returning-a-view-versus-a-copy\n",
      "  df[\"fall_course1\"].loc[(df[\"id\"].isin(stud_list)) & (course_1_not_chosen)] = course\n",
      "C:\\Users\\chizh\\AppData\\Local\\Temp\\ipykernel_7880\\3769055443.py:18: SettingWithCopyWarning: \n",
      "A value is trying to be set on a copy of a slice from a DataFrame\n",
      "\n",
      "See the caveats in the documentation: https://pandas.pydata.org/pandas-docs/stable/user_guide/indexing.html#returning-a-view-versus-a-copy\n",
      "  df[\"fall_course2\"].loc[(df[\"id\"].isin(stud_list)) & (course_2_not_chosen) & (df[\"fall_course1\"] != course)] = course\n",
      "C:\\Users\\chizh\\AppData\\Local\\Temp\\ipykernel_7880\\3769055443.py:17: SettingWithCopyWarning: \n",
      "A value is trying to be set on a copy of a slice from a DataFrame\n",
      "\n",
      "See the caveats in the documentation: https://pandas.pydata.org/pandas-docs/stable/user_guide/indexing.html#returning-a-view-versus-a-copy\n",
      "  df[\"fall_course1\"].loc[(df[\"id\"].isin(stud_list)) & (course_1_not_chosen)] = course\n",
      "C:\\Users\\chizh\\AppData\\Local\\Temp\\ipykernel_7880\\3769055443.py:18: SettingWithCopyWarning: \n",
      "A value is trying to be set on a copy of a slice from a DataFrame\n",
      "\n",
      "See the caveats in the documentation: https://pandas.pydata.org/pandas-docs/stable/user_guide/indexing.html#returning-a-view-versus-a-copy\n",
      "  df[\"fall_course2\"].loc[(df[\"id\"].isin(stud_list)) & (course_2_not_chosen) & (df[\"fall_course1\"] != course)] = course\n",
      "C:\\Users\\chizh\\AppData\\Local\\Temp\\ipykernel_7880\\3769055443.py:17: SettingWithCopyWarning: \n",
      "A value is trying to be set on a copy of a slice from a DataFrame\n",
      "\n",
      "See the caveats in the documentation: https://pandas.pydata.org/pandas-docs/stable/user_guide/indexing.html#returning-a-view-versus-a-copy\n",
      "  df[\"fall_course1\"].loc[(df[\"id\"].isin(stud_list)) & (course_1_not_chosen)] = course\n",
      "C:\\Users\\chizh\\AppData\\Local\\Temp\\ipykernel_7880\\3769055443.py:18: SettingWithCopyWarning: \n",
      "A value is trying to be set on a copy of a slice from a DataFrame\n",
      "\n",
      "See the caveats in the documentation: https://pandas.pydata.org/pandas-docs/stable/user_guide/indexing.html#returning-a-view-versus-a-copy\n",
      "  df[\"fall_course2\"].loc[(df[\"id\"].isin(stud_list)) & (course_2_not_chosen) & (df[\"fall_course1\"] != course)] = course\n",
      "C:\\Users\\chizh\\AppData\\Local\\Temp\\ipykernel_7880\\3769055443.py:17: SettingWithCopyWarning: \n",
      "A value is trying to be set on a copy of a slice from a DataFrame\n",
      "\n",
      "See the caveats in the documentation: https://pandas.pydata.org/pandas-docs/stable/user_guide/indexing.html#returning-a-view-versus-a-copy\n",
      "  df[\"fall_course1\"].loc[(df[\"id\"].isin(stud_list)) & (course_1_not_chosen)] = course\n",
      "C:\\Users\\chizh\\AppData\\Local\\Temp\\ipykernel_7880\\3769055443.py:18: SettingWithCopyWarning: \n",
      "A value is trying to be set on a copy of a slice from a DataFrame\n",
      "\n",
      "See the caveats in the documentation: https://pandas.pydata.org/pandas-docs/stable/user_guide/indexing.html#returning-a-view-versus-a-copy\n",
      "  df[\"fall_course2\"].loc[(df[\"id\"].isin(stud_list)) & (course_2_not_chosen) & (df[\"fall_course1\"] != course)] = course\n",
      "C:\\Users\\chizh\\AppData\\Local\\Temp\\ipykernel_7880\\3769055443.py:17: SettingWithCopyWarning: \n",
      "A value is trying to be set on a copy of a slice from a DataFrame\n",
      "\n",
      "See the caveats in the documentation: https://pandas.pydata.org/pandas-docs/stable/user_guide/indexing.html#returning-a-view-versus-a-copy\n",
      "  df[\"fall_course1\"].loc[(df[\"id\"].isin(stud_list)) & (course_1_not_chosen)] = course\n",
      "C:\\Users\\chizh\\AppData\\Local\\Temp\\ipykernel_7880\\3769055443.py:18: SettingWithCopyWarning: \n",
      "A value is trying to be set on a copy of a slice from a DataFrame\n",
      "\n",
      "See the caveats in the documentation: https://pandas.pydata.org/pandas-docs/stable/user_guide/indexing.html#returning-a-view-versus-a-copy\n",
      "  df[\"fall_course2\"].loc[(df[\"id\"].isin(stud_list)) & (course_2_not_chosen) & (df[\"fall_course1\"] != course)] = course\n",
      "C:\\Users\\chizh\\AppData\\Local\\Temp\\ipykernel_7880\\3769055443.py:17: SettingWithCopyWarning: \n",
      "A value is trying to be set on a copy of a slice from a DataFrame\n",
      "\n",
      "See the caveats in the documentation: https://pandas.pydata.org/pandas-docs/stable/user_guide/indexing.html#returning-a-view-versus-a-copy\n",
      "  df[\"fall_course1\"].loc[(df[\"id\"].isin(stud_list)) & (course_1_not_chosen)] = course\n",
      "C:\\Users\\chizh\\AppData\\Local\\Temp\\ipykernel_7880\\3769055443.py:18: SettingWithCopyWarning: \n",
      "A value is trying to be set on a copy of a slice from a DataFrame\n",
      "\n",
      "See the caveats in the documentation: https://pandas.pydata.org/pandas-docs/stable/user_guide/indexing.html#returning-a-view-versus-a-copy\n",
      "  df[\"fall_course2\"].loc[(df[\"id\"].isin(stud_list)) & (course_2_not_chosen) & (df[\"fall_course1\"] != course)] = course\n",
      "C:\\Users\\chizh\\AppData\\Local\\Temp\\ipykernel_7880\\3769055443.py:17: SettingWithCopyWarning: \n",
      "A value is trying to be set on a copy of a slice from a DataFrame\n",
      "\n",
      "See the caveats in the documentation: https://pandas.pydata.org/pandas-docs/stable/user_guide/indexing.html#returning-a-view-versus-a-copy\n",
      "  df[\"fall_course1\"].loc[(df[\"id\"].isin(stud_list)) & (course_1_not_chosen)] = course\n",
      "C:\\Users\\chizh\\AppData\\Local\\Temp\\ipykernel_7880\\3769055443.py:18: SettingWithCopyWarning: \n",
      "A value is trying to be set on a copy of a slice from a DataFrame\n",
      "\n",
      "See the caveats in the documentation: https://pandas.pydata.org/pandas-docs/stable/user_guide/indexing.html#returning-a-view-versus-a-copy\n",
      "  df[\"fall_course2\"].loc[(df[\"id\"].isin(stud_list)) & (course_2_not_chosen) & (df[\"fall_course1\"] != course)] = course\n",
      "C:\\Users\\chizh\\AppData\\Local\\Temp\\ipykernel_7880\\3769055443.py:17: SettingWithCopyWarning: \n",
      "A value is trying to be set on a copy of a slice from a DataFrame\n",
      "\n",
      "See the caveats in the documentation: https://pandas.pydata.org/pandas-docs/stable/user_guide/indexing.html#returning-a-view-versus-a-copy\n",
      "  df[\"fall_course1\"].loc[(df[\"id\"].isin(stud_list)) & (course_1_not_chosen)] = course\n",
      "C:\\Users\\chizh\\AppData\\Local\\Temp\\ipykernel_7880\\3769055443.py:18: SettingWithCopyWarning: \n",
      "A value is trying to be set on a copy of a slice from a DataFrame\n",
      "\n",
      "See the caveats in the documentation: https://pandas.pydata.org/pandas-docs/stable/user_guide/indexing.html#returning-a-view-versus-a-copy\n",
      "  df[\"fall_course2\"].loc[(df[\"id\"].isin(stud_list)) & (course_2_not_chosen) & (df[\"fall_course1\"] != course)] = course\n",
      "C:\\Users\\chizh\\AppData\\Local\\Temp\\ipykernel_7880\\3769055443.py:17: SettingWithCopyWarning: \n",
      "A value is trying to be set on a copy of a slice from a DataFrame\n",
      "\n",
      "See the caveats in the documentation: https://pandas.pydata.org/pandas-docs/stable/user_guide/indexing.html#returning-a-view-versus-a-copy\n",
      "  df[\"fall_course1\"].loc[(df[\"id\"].isin(stud_list)) & (course_1_not_chosen)] = course\n",
      "C:\\Users\\chizh\\AppData\\Local\\Temp\\ipykernel_7880\\3769055443.py:18: SettingWithCopyWarning: \n",
      "A value is trying to be set on a copy of a slice from a DataFrame\n",
      "\n",
      "See the caveats in the documentation: https://pandas.pydata.org/pandas-docs/stable/user_guide/indexing.html#returning-a-view-versus-a-copy\n",
      "  df[\"fall_course2\"].loc[(df[\"id\"].isin(stud_list)) & (course_2_not_chosen) & (df[\"fall_course1\"] != course)] = course\n",
      "C:\\Users\\chizh\\AppData\\Local\\Temp\\ipykernel_7880\\3769055443.py:17: SettingWithCopyWarning: \n",
      "A value is trying to be set on a copy of a slice from a DataFrame\n",
      "\n",
      "See the caveats in the documentation: https://pandas.pydata.org/pandas-docs/stable/user_guide/indexing.html#returning-a-view-versus-a-copy\n",
      "  df[\"fall_course1\"].loc[(df[\"id\"].isin(stud_list)) & (course_1_not_chosen)] = course\n",
      "C:\\Users\\chizh\\AppData\\Local\\Temp\\ipykernel_7880\\3769055443.py:18: SettingWithCopyWarning: \n",
      "A value is trying to be set on a copy of a slice from a DataFrame\n",
      "\n",
      "See the caveats in the documentation: https://pandas.pydata.org/pandas-docs/stable/user_guide/indexing.html#returning-a-view-versus-a-copy\n",
      "  df[\"fall_course2\"].loc[(df[\"id\"].isin(stud_list)) & (course_2_not_chosen) & (df[\"fall_course1\"] != course)] = course\n",
      "C:\\Users\\chizh\\AppData\\Local\\Temp\\ipykernel_7880\\3769055443.py:17: SettingWithCopyWarning: \n",
      "A value is trying to be set on a copy of a slice from a DataFrame\n",
      "\n",
      "See the caveats in the documentation: https://pandas.pydata.org/pandas-docs/stable/user_guide/indexing.html#returning-a-view-versus-a-copy\n",
      "  df[\"fall_course1\"].loc[(df[\"id\"].isin(stud_list)) & (course_1_not_chosen)] = course\n",
      "C:\\Users\\chizh\\AppData\\Local\\Temp\\ipykernel_7880\\3769055443.py:18: SettingWithCopyWarning: \n",
      "A value is trying to be set on a copy of a slice from a DataFrame\n",
      "\n",
      "See the caveats in the documentation: https://pandas.pydata.org/pandas-docs/stable/user_guide/indexing.html#returning-a-view-versus-a-copy\n",
      "  df[\"fall_course2\"].loc[(df[\"id\"].isin(stud_list)) & (course_2_not_chosen) & (df[\"fall_course1\"] != course)] = course\n",
      "C:\\Users\\chizh\\AppData\\Local\\Temp\\ipykernel_7880\\3769055443.py:17: SettingWithCopyWarning: \n",
      "A value is trying to be set on a copy of a slice from a DataFrame\n",
      "\n",
      "See the caveats in the documentation: https://pandas.pydata.org/pandas-docs/stable/user_guide/indexing.html#returning-a-view-versus-a-copy\n",
      "  df[\"fall_course1\"].loc[(df[\"id\"].isin(stud_list)) & (course_1_not_chosen)] = course\n",
      "C:\\Users\\chizh\\AppData\\Local\\Temp\\ipykernel_7880\\3769055443.py:18: SettingWithCopyWarning: \n",
      "A value is trying to be set on a copy of a slice from a DataFrame\n",
      "\n",
      "See the caveats in the documentation: https://pandas.pydata.org/pandas-docs/stable/user_guide/indexing.html#returning-a-view-versus-a-copy\n",
      "  df[\"fall_course2\"].loc[(df[\"id\"].isin(stud_list)) & (course_2_not_chosen) & (df[\"fall_course1\"] != course)] = course\n",
      "C:\\Users\\chizh\\AppData\\Local\\Temp\\ipykernel_7880\\3769055443.py:17: SettingWithCopyWarning: \n",
      "A value is trying to be set on a copy of a slice from a DataFrame\n",
      "\n",
      "See the caveats in the documentation: https://pandas.pydata.org/pandas-docs/stable/user_guide/indexing.html#returning-a-view-versus-a-copy\n",
      "  df[\"fall_course1\"].loc[(df[\"id\"].isin(stud_list)) & (course_1_not_chosen)] = course\n",
      "C:\\Users\\chizh\\AppData\\Local\\Temp\\ipykernel_7880\\3769055443.py:18: SettingWithCopyWarning: \n",
      "A value is trying to be set on a copy of a slice from a DataFrame\n",
      "\n",
      "See the caveats in the documentation: https://pandas.pydata.org/pandas-docs/stable/user_guide/indexing.html#returning-a-view-versus-a-copy\n",
      "  df[\"fall_course2\"].loc[(df[\"id\"].isin(stud_list)) & (course_2_not_chosen) & (df[\"fall_course1\"] != course)] = course\n",
      "C:\\Users\\chizh\\AppData\\Local\\Temp\\ipykernel_7880\\3769055443.py:17: SettingWithCopyWarning: \n",
      "A value is trying to be set on a copy of a slice from a DataFrame\n",
      "\n",
      "See the caveats in the documentation: https://pandas.pydata.org/pandas-docs/stable/user_guide/indexing.html#returning-a-view-versus-a-copy\n",
      "  df[\"fall_course1\"].loc[(df[\"id\"].isin(stud_list)) & (course_1_not_chosen)] = course\n",
      "C:\\Users\\chizh\\AppData\\Local\\Temp\\ipykernel_7880\\3769055443.py:18: SettingWithCopyWarning: \n",
      "A value is trying to be set on a copy of a slice from a DataFrame\n",
      "\n",
      "See the caveats in the documentation: https://pandas.pydata.org/pandas-docs/stable/user_guide/indexing.html#returning-a-view-versus-a-copy\n",
      "  df[\"fall_course2\"].loc[(df[\"id\"].isin(stud_list)) & (course_2_not_chosen) & (df[\"fall_course1\"] != course)] = course\n",
      "C:\\Users\\chizh\\AppData\\Local\\Temp\\ipykernel_7880\\3769055443.py:17: SettingWithCopyWarning: \n",
      "A value is trying to be set on a copy of a slice from a DataFrame\n",
      "\n",
      "See the caveats in the documentation: https://pandas.pydata.org/pandas-docs/stable/user_guide/indexing.html#returning-a-view-versus-a-copy\n",
      "  df[\"fall_course1\"].loc[(df[\"id\"].isin(stud_list)) & (course_1_not_chosen)] = course\n",
      "C:\\Users\\chizh\\AppData\\Local\\Temp\\ipykernel_7880\\3769055443.py:18: SettingWithCopyWarning: \n",
      "A value is trying to be set on a copy of a slice from a DataFrame\n",
      "\n",
      "See the caveats in the documentation: https://pandas.pydata.org/pandas-docs/stable/user_guide/indexing.html#returning-a-view-versus-a-copy\n",
      "  df[\"fall_course2\"].loc[(df[\"id\"].isin(stud_list)) & (course_2_not_chosen) & (df[\"fall_course1\"] != course)] = course\n",
      "C:\\Users\\chizh\\AppData\\Local\\Temp\\ipykernel_7880\\3769055443.py:17: SettingWithCopyWarning: \n",
      "A value is trying to be set on a copy of a slice from a DataFrame\n",
      "\n",
      "See the caveats in the documentation: https://pandas.pydata.org/pandas-docs/stable/user_guide/indexing.html#returning-a-view-versus-a-copy\n",
      "  df[\"fall_course1\"].loc[(df[\"id\"].isin(stud_list)) & (course_1_not_chosen)] = course\n",
      "C:\\Users\\chizh\\AppData\\Local\\Temp\\ipykernel_7880\\3769055443.py:18: SettingWithCopyWarning: \n",
      "A value is trying to be set on a copy of a slice from a DataFrame\n",
      "\n",
      "See the caveats in the documentation: https://pandas.pydata.org/pandas-docs/stable/user_guide/indexing.html#returning-a-view-versus-a-copy\n",
      "  df[\"fall_course2\"].loc[(df[\"id\"].isin(stud_list)) & (course_2_not_chosen) & (df[\"fall_course1\"] != course)] = course\n",
      "C:\\Users\\chizh\\AppData\\Local\\Temp\\ipykernel_7880\\3769055443.py:17: SettingWithCopyWarning: \n",
      "A value is trying to be set on a copy of a slice from a DataFrame\n",
      "\n",
      "See the caveats in the documentation: https://pandas.pydata.org/pandas-docs/stable/user_guide/indexing.html#returning-a-view-versus-a-copy\n",
      "  df[\"fall_course1\"].loc[(df[\"id\"].isin(stud_list)) & (course_1_not_chosen)] = course\n",
      "C:\\Users\\chizh\\AppData\\Local\\Temp\\ipykernel_7880\\3769055443.py:18: SettingWithCopyWarning: \n",
      "A value is trying to be set on a copy of a slice from a DataFrame\n",
      "\n",
      "See the caveats in the documentation: https://pandas.pydata.org/pandas-docs/stable/user_guide/indexing.html#returning-a-view-versus-a-copy\n",
      "  df[\"fall_course2\"].loc[(df[\"id\"].isin(stud_list)) & (course_2_not_chosen) & (df[\"fall_course1\"] != course)] = course\n"
     ]
    }
   ],
   "source": [
    "course_selection(df, 2)\n",
    "course_selection(df, 3)"
   ]
  },
  {
   "cell_type": "code",
   "execution_count": 45,
   "metadata": {},
   "outputs": [],
   "source": [
    "tmp = df[['id', 'fall_course1', 'fall_course2']].rename(columns={'id' : 'ID', 'fall_course1' : 'course1', 'fall_course2' : 'course2'})\n",
    "tmp.to_csv('res_fall.csv', index=None)"
   ]
  },
  {
   "cell_type": "markdown",
   "metadata": {
    "id": "1xQjV9BuhLu6"
   },
   "source": [
    "**Отправьте свой файл res_fall.csv в контест (будет в ближайшее время, следите за новостями) и прикрепите/укажите ниже ваш никнейм и ссылку на успешную посылку.**"
   ]
  },
  {
   "cell_type": "markdown",
   "metadata": {},
   "source": [
    "Ник: mikhailchizhmar@yandex.ru"
   ]
  },
  {
   "cell_type": "markdown",
   "metadata": {},
   "source": [
    "https://contest.yandex.ru/contest/68637/run-report/120001692/"
   ]
  },
  {
   "cell_type": "markdown",
   "metadata": {
    "id": "QRTbPrgbhLu6"
   },
   "source": [
    "*Дисклеймер:*\n",
    "\n",
    "Успешная посылка в контесте является **обязательным** условием получения полного балла за этот (и следующий) пункт. Если добиться успешной посылки не удастся, баллы будут выставляться на усмотрение проверяюшего.\n",
    "\n",
    "При этом ОК в контесте не гарантирует полный балл. Оценка всё равно может быть снижена в случае обнаружения неэффективностей или ошибок в коде. Если вы сдадите в AnyTask очевидно неработающий код или ноутбук без кода, но при этом в контест будет сдан корректный файл, то это будет расцениваться как плагиат."
   ]
  },
  {
   "cell_type": "markdown",
   "metadata": {
    "id": "1IkQa_gdhLu6"
   },
   "source": [
    "На всякий случай просим вас сдать вместе с ноутбуком файл res_fall.csv в anytask"
   ]
  },
  {
   "cell_type": "markdown",
   "metadata": {
    "id": "k8d711qGhLu7"
   },
   "source": [
    "### 4. [1 балла] Распределите таким же образом студентов еще и на весенние курсы по выбору.\n",
    "\n",
    "Если ваш код был хорошо структурирован, то это не составит проблем.\n",
    "\n",
    "Если вы выполнили это задание, сдайте среди прочего файл res_spring.csv в таком же формате, как и res_fall.csv."
   ]
  },
  {
   "cell_type": "code",
   "execution_count": 46,
   "metadata": {},
   "outputs": [],
   "source": [
    "courses_contain = {}\n",
    "for s in pd.concat([df[\"spring_1\"], df[\"spring_2\"], df[\"spring_3\"]]).unique():\n",
    "    if s in big_courses:\n",
    "        courses_contain[s] = 60\n",
    "    else:\n",
    "        courses_contain[s] = 30"
   ]
  },
  {
   "cell_type": "code",
   "execution_count": 47,
   "metadata": {
    "id": "hwmusOGThLu7"
   },
   "outputs": [],
   "source": [
    "def course_selection_upgraded(df: pd.DataFrame, module: str, wave: int) -> None:\n",
    "    for course, amount in courses_contain.items():\n",
    "        has_2_courses = df[f\"{module}_amount\"] == 2\n",
    "        course_1_not_chosen = df[f\"{module}_course1\"] == \"???\"\n",
    "        course_2_not_chosen = df[f\"{module}_course2\"] == \"???\"\n",
    "        wave_if_2_courses = 3 if wave == 3 else wave + 1\n",
    "\n",
    "        mask = ((course_1_not_chosen) | ((has_2_courses) & (course_2_not_chosen) & (df[f\"{module}_course1\"] != course))) & \\\n",
    "               ((df[f\"{module}_{wave}\"] == course) | ((has_2_courses) & (df[f\"{module}_{wave_if_2_courses}\"] == course)))\n",
    "        top = df[mask].sort_values(by=\"percentile\").iloc[:amount]\n",
    "        if module == \"spring\" and wave == 1 and top.shape[0] > 0:\n",
    "            df.loc[top[\"percentile\"].idxmin(), \"is_first_place\"] = True\n",
    "            df.loc[top[\"percentile\"].idxmax(), \"is_last_place\"] = True\n",
    "        stud_list = top[\"id\"].tolist()\n",
    "        courses_contain[course] -= len(stud_list)\n",
    "\n",
    "        df[f\"{module}_course1\"].loc[(df[\"id\"].isin(stud_list)) & (course_1_not_chosen)] = course\n",
    "        df[f\"{module}_course2\"].loc[(df[\"id\"].isin(stud_list)) & (course_2_not_chosen) & (df[f\"{module}_course1\"] != course)] = course       "
   ]
  },
  {
   "cell_type": "code",
   "execution_count": 48,
   "metadata": {},
   "outputs": [
    {
     "name": "stderr",
     "output_type": "stream",
     "text": [
      "C:\\Users\\chizh\\AppData\\Local\\Temp\\ipykernel_7880\\3902307139.py:5: SettingWithCopyWarning: \n",
      "A value is trying to be set on a copy of a slice from a DataFrame\n",
      "\n",
      "See the caveats in the documentation: https://pandas.pydata.org/pandas-docs/stable/user_guide/indexing.html#returning-a-view-versus-a-copy\n",
      "  df[\"spring_course2\"].loc[df[\"spring_amount\"] == 1] = \"-\"\n"
     ]
    }
   ],
   "source": [
    "df['spring_amount'] = 1\n",
    "df.loc[df['17_group'].isin([171, 172, 173]), 'spring_amount'] = 2\n",
    "\n",
    "df[[\"spring_course1\", \"spring_course2\"]] = \"???\"\n",
    "df[\"spring_course2\"].loc[df[\"spring_amount\"] == 1] = \"-\""
   ]
  },
  {
   "cell_type": "code",
   "execution_count": 49,
   "metadata": {},
   "outputs": [],
   "source": [
    "for i in range(1, 4):\n",
    "    forbidden_mask = (df[f'spring_{i}'] == 'Машинное обучение 2') & (df['is_ml_student'] == True)\n",
    "    if i != 3:\n",
    "      df.loc[forbidden_mask, f'spring_{i}'] = df.loc[forbidden_mask, f'spring_{i + 1}']\n",
    "    else:\n",
    "      df.loc[forbidden_mask, f'spring_{i}'] = ''"
   ]
  },
  {
   "cell_type": "code",
   "execution_count": 50,
   "metadata": {},
   "outputs": [
    {
     "name": "stderr",
     "output_type": "stream",
     "text": [
      "C:\\Users\\chizh\\AppData\\Local\\Temp\\ipykernel_7880\\1910978081.py:17: SettingWithCopyWarning: \n",
      "A value is trying to be set on a copy of a slice from a DataFrame\n",
      "\n",
      "See the caveats in the documentation: https://pandas.pydata.org/pandas-docs/stable/user_guide/indexing.html#returning-a-view-versus-a-copy\n",
      "  df[f\"{module}_course1\"].loc[(df[\"id\"].isin(stud_list)) & (course_1_not_chosen)] = course\n",
      "C:\\Users\\chizh\\AppData\\Local\\Temp\\ipykernel_7880\\1910978081.py:18: SettingWithCopyWarning: \n",
      "A value is trying to be set on a copy of a slice from a DataFrame\n",
      "\n",
      "See the caveats in the documentation: https://pandas.pydata.org/pandas-docs/stable/user_guide/indexing.html#returning-a-view-versus-a-copy\n",
      "  df[f\"{module}_course2\"].loc[(df[\"id\"].isin(stud_list)) & (course_2_not_chosen) & (df[f\"{module}_course1\"] != course)] = course\n",
      "C:\\Users\\chizh\\AppData\\Local\\Temp\\ipykernel_7880\\1910978081.py:17: SettingWithCopyWarning: \n",
      "A value is trying to be set on a copy of a slice from a DataFrame\n",
      "\n",
      "See the caveats in the documentation: https://pandas.pydata.org/pandas-docs/stable/user_guide/indexing.html#returning-a-view-versus-a-copy\n",
      "  df[f\"{module}_course1\"].loc[(df[\"id\"].isin(stud_list)) & (course_1_not_chosen)] = course\n",
      "C:\\Users\\chizh\\AppData\\Local\\Temp\\ipykernel_7880\\1910978081.py:18: SettingWithCopyWarning: \n",
      "A value is trying to be set on a copy of a slice from a DataFrame\n",
      "\n",
      "See the caveats in the documentation: https://pandas.pydata.org/pandas-docs/stable/user_guide/indexing.html#returning-a-view-versus-a-copy\n",
      "  df[f\"{module}_course2\"].loc[(df[\"id\"].isin(stud_list)) & (course_2_not_chosen) & (df[f\"{module}_course1\"] != course)] = course\n",
      "C:\\Users\\chizh\\AppData\\Local\\Temp\\ipykernel_7880\\1910978081.py:17: SettingWithCopyWarning: \n",
      "A value is trying to be set on a copy of a slice from a DataFrame\n",
      "\n",
      "See the caveats in the documentation: https://pandas.pydata.org/pandas-docs/stable/user_guide/indexing.html#returning-a-view-versus-a-copy\n",
      "  df[f\"{module}_course1\"].loc[(df[\"id\"].isin(stud_list)) & (course_1_not_chosen)] = course\n",
      "C:\\Users\\chizh\\AppData\\Local\\Temp\\ipykernel_7880\\1910978081.py:18: SettingWithCopyWarning: \n",
      "A value is trying to be set on a copy of a slice from a DataFrame\n",
      "\n",
      "See the caveats in the documentation: https://pandas.pydata.org/pandas-docs/stable/user_guide/indexing.html#returning-a-view-versus-a-copy\n",
      "  df[f\"{module}_course2\"].loc[(df[\"id\"].isin(stud_list)) & (course_2_not_chosen) & (df[f\"{module}_course1\"] != course)] = course\n",
      "C:\\Users\\chizh\\AppData\\Local\\Temp\\ipykernel_7880\\1910978081.py:17: SettingWithCopyWarning: \n",
      "A value is trying to be set on a copy of a slice from a DataFrame\n",
      "\n",
      "See the caveats in the documentation: https://pandas.pydata.org/pandas-docs/stable/user_guide/indexing.html#returning-a-view-versus-a-copy\n",
      "  df[f\"{module}_course1\"].loc[(df[\"id\"].isin(stud_list)) & (course_1_not_chosen)] = course\n",
      "C:\\Users\\chizh\\AppData\\Local\\Temp\\ipykernel_7880\\1910978081.py:18: SettingWithCopyWarning: \n",
      "A value is trying to be set on a copy of a slice from a DataFrame\n",
      "\n",
      "See the caveats in the documentation: https://pandas.pydata.org/pandas-docs/stable/user_guide/indexing.html#returning-a-view-versus-a-copy\n",
      "  df[f\"{module}_course2\"].loc[(df[\"id\"].isin(stud_list)) & (course_2_not_chosen) & (df[f\"{module}_course1\"] != course)] = course\n",
      "C:\\Users\\chizh\\AppData\\Local\\Temp\\ipykernel_7880\\1910978081.py:17: SettingWithCopyWarning: \n",
      "A value is trying to be set on a copy of a slice from a DataFrame\n",
      "\n",
      "See the caveats in the documentation: https://pandas.pydata.org/pandas-docs/stable/user_guide/indexing.html#returning-a-view-versus-a-copy\n",
      "  df[f\"{module}_course1\"].loc[(df[\"id\"].isin(stud_list)) & (course_1_not_chosen)] = course\n",
      "C:\\Users\\chizh\\AppData\\Local\\Temp\\ipykernel_7880\\1910978081.py:18: SettingWithCopyWarning: \n",
      "A value is trying to be set on a copy of a slice from a DataFrame\n",
      "\n",
      "See the caveats in the documentation: https://pandas.pydata.org/pandas-docs/stable/user_guide/indexing.html#returning-a-view-versus-a-copy\n",
      "  df[f\"{module}_course2\"].loc[(df[\"id\"].isin(stud_list)) & (course_2_not_chosen) & (df[f\"{module}_course1\"] != course)] = course\n",
      "C:\\Users\\chizh\\AppData\\Local\\Temp\\ipykernel_7880\\1910978081.py:17: SettingWithCopyWarning: \n",
      "A value is trying to be set on a copy of a slice from a DataFrame\n",
      "\n",
      "See the caveats in the documentation: https://pandas.pydata.org/pandas-docs/stable/user_guide/indexing.html#returning-a-view-versus-a-copy\n",
      "  df[f\"{module}_course1\"].loc[(df[\"id\"].isin(stud_list)) & (course_1_not_chosen)] = course\n",
      "C:\\Users\\chizh\\AppData\\Local\\Temp\\ipykernel_7880\\1910978081.py:18: SettingWithCopyWarning: \n",
      "A value is trying to be set on a copy of a slice from a DataFrame\n",
      "\n",
      "See the caveats in the documentation: https://pandas.pydata.org/pandas-docs/stable/user_guide/indexing.html#returning-a-view-versus-a-copy\n",
      "  df[f\"{module}_course2\"].loc[(df[\"id\"].isin(stud_list)) & (course_2_not_chosen) & (df[f\"{module}_course1\"] != course)] = course\n",
      "C:\\Users\\chizh\\AppData\\Local\\Temp\\ipykernel_7880\\1910978081.py:17: SettingWithCopyWarning: \n",
      "A value is trying to be set on a copy of a slice from a DataFrame\n",
      "\n",
      "See the caveats in the documentation: https://pandas.pydata.org/pandas-docs/stable/user_guide/indexing.html#returning-a-view-versus-a-copy\n",
      "  df[f\"{module}_course1\"].loc[(df[\"id\"].isin(stud_list)) & (course_1_not_chosen)] = course\n",
      "C:\\Users\\chizh\\AppData\\Local\\Temp\\ipykernel_7880\\1910978081.py:18: SettingWithCopyWarning: \n",
      "A value is trying to be set on a copy of a slice from a DataFrame\n",
      "\n",
      "See the caveats in the documentation: https://pandas.pydata.org/pandas-docs/stable/user_guide/indexing.html#returning-a-view-versus-a-copy\n",
      "  df[f\"{module}_course2\"].loc[(df[\"id\"].isin(stud_list)) & (course_2_not_chosen) & (df[f\"{module}_course1\"] != course)] = course\n",
      "C:\\Users\\chizh\\AppData\\Local\\Temp\\ipykernel_7880\\1910978081.py:17: SettingWithCopyWarning: \n",
      "A value is trying to be set on a copy of a slice from a DataFrame\n",
      "\n",
      "See the caveats in the documentation: https://pandas.pydata.org/pandas-docs/stable/user_guide/indexing.html#returning-a-view-versus-a-copy\n",
      "  df[f\"{module}_course1\"].loc[(df[\"id\"].isin(stud_list)) & (course_1_not_chosen)] = course\n",
      "C:\\Users\\chizh\\AppData\\Local\\Temp\\ipykernel_7880\\1910978081.py:18: SettingWithCopyWarning: \n",
      "A value is trying to be set on a copy of a slice from a DataFrame\n",
      "\n",
      "See the caveats in the documentation: https://pandas.pydata.org/pandas-docs/stable/user_guide/indexing.html#returning-a-view-versus-a-copy\n",
      "  df[f\"{module}_course2\"].loc[(df[\"id\"].isin(stud_list)) & (course_2_not_chosen) & (df[f\"{module}_course1\"] != course)] = course\n",
      "C:\\Users\\chizh\\AppData\\Local\\Temp\\ipykernel_7880\\1910978081.py:17: SettingWithCopyWarning: \n",
      "A value is trying to be set on a copy of a slice from a DataFrame\n",
      "\n",
      "See the caveats in the documentation: https://pandas.pydata.org/pandas-docs/stable/user_guide/indexing.html#returning-a-view-versus-a-copy\n",
      "  df[f\"{module}_course1\"].loc[(df[\"id\"].isin(stud_list)) & (course_1_not_chosen)] = course\n",
      "C:\\Users\\chizh\\AppData\\Local\\Temp\\ipykernel_7880\\1910978081.py:18: SettingWithCopyWarning: \n",
      "A value is trying to be set on a copy of a slice from a DataFrame\n",
      "\n",
      "See the caveats in the documentation: https://pandas.pydata.org/pandas-docs/stable/user_guide/indexing.html#returning-a-view-versus-a-copy\n",
      "  df[f\"{module}_course2\"].loc[(df[\"id\"].isin(stud_list)) & (course_2_not_chosen) & (df[f\"{module}_course1\"] != course)] = course\n",
      "C:\\Users\\chizh\\AppData\\Local\\Temp\\ipykernel_7880\\1910978081.py:17: SettingWithCopyWarning: \n",
      "A value is trying to be set on a copy of a slice from a DataFrame\n",
      "\n",
      "See the caveats in the documentation: https://pandas.pydata.org/pandas-docs/stable/user_guide/indexing.html#returning-a-view-versus-a-copy\n",
      "  df[f\"{module}_course1\"].loc[(df[\"id\"].isin(stud_list)) & (course_1_not_chosen)] = course\n",
      "C:\\Users\\chizh\\AppData\\Local\\Temp\\ipykernel_7880\\1910978081.py:18: SettingWithCopyWarning: \n",
      "A value is trying to be set on a copy of a slice from a DataFrame\n",
      "\n",
      "See the caveats in the documentation: https://pandas.pydata.org/pandas-docs/stable/user_guide/indexing.html#returning-a-view-versus-a-copy\n",
      "  df[f\"{module}_course2\"].loc[(df[\"id\"].isin(stud_list)) & (course_2_not_chosen) & (df[f\"{module}_course1\"] != course)] = course\n",
      "C:\\Users\\chizh\\AppData\\Local\\Temp\\ipykernel_7880\\1910978081.py:17: SettingWithCopyWarning: \n",
      "A value is trying to be set on a copy of a slice from a DataFrame\n",
      "\n",
      "See the caveats in the documentation: https://pandas.pydata.org/pandas-docs/stable/user_guide/indexing.html#returning-a-view-versus-a-copy\n",
      "  df[f\"{module}_course1\"].loc[(df[\"id\"].isin(stud_list)) & (course_1_not_chosen)] = course\n",
      "C:\\Users\\chizh\\AppData\\Local\\Temp\\ipykernel_7880\\1910978081.py:18: SettingWithCopyWarning: \n",
      "A value is trying to be set on a copy of a slice from a DataFrame\n",
      "\n",
      "See the caveats in the documentation: https://pandas.pydata.org/pandas-docs/stable/user_guide/indexing.html#returning-a-view-versus-a-copy\n",
      "  df[f\"{module}_course2\"].loc[(df[\"id\"].isin(stud_list)) & (course_2_not_chosen) & (df[f\"{module}_course1\"] != course)] = course\n",
      "C:\\Users\\chizh\\AppData\\Local\\Temp\\ipykernel_7880\\1910978081.py:17: SettingWithCopyWarning: \n",
      "A value is trying to be set on a copy of a slice from a DataFrame\n",
      "\n",
      "See the caveats in the documentation: https://pandas.pydata.org/pandas-docs/stable/user_guide/indexing.html#returning-a-view-versus-a-copy\n",
      "  df[f\"{module}_course1\"].loc[(df[\"id\"].isin(stud_list)) & (course_1_not_chosen)] = course\n",
      "C:\\Users\\chizh\\AppData\\Local\\Temp\\ipykernel_7880\\1910978081.py:18: SettingWithCopyWarning: \n",
      "A value is trying to be set on a copy of a slice from a DataFrame\n",
      "\n",
      "See the caveats in the documentation: https://pandas.pydata.org/pandas-docs/stable/user_guide/indexing.html#returning-a-view-versus-a-copy\n",
      "  df[f\"{module}_course2\"].loc[(df[\"id\"].isin(stud_list)) & (course_2_not_chosen) & (df[f\"{module}_course1\"] != course)] = course\n",
      "C:\\Users\\chizh\\AppData\\Local\\Temp\\ipykernel_7880\\1910978081.py:17: SettingWithCopyWarning: \n",
      "A value is trying to be set on a copy of a slice from a DataFrame\n",
      "\n",
      "See the caveats in the documentation: https://pandas.pydata.org/pandas-docs/stable/user_guide/indexing.html#returning-a-view-versus-a-copy\n",
      "  df[f\"{module}_course1\"].loc[(df[\"id\"].isin(stud_list)) & (course_1_not_chosen)] = course\n",
      "C:\\Users\\chizh\\AppData\\Local\\Temp\\ipykernel_7880\\1910978081.py:18: SettingWithCopyWarning: \n",
      "A value is trying to be set on a copy of a slice from a DataFrame\n",
      "\n",
      "See the caveats in the documentation: https://pandas.pydata.org/pandas-docs/stable/user_guide/indexing.html#returning-a-view-versus-a-copy\n",
      "  df[f\"{module}_course2\"].loc[(df[\"id\"].isin(stud_list)) & (course_2_not_chosen) & (df[f\"{module}_course1\"] != course)] = course\n",
      "C:\\Users\\chizh\\AppData\\Local\\Temp\\ipykernel_7880\\1910978081.py:17: SettingWithCopyWarning: \n",
      "A value is trying to be set on a copy of a slice from a DataFrame\n",
      "\n",
      "See the caveats in the documentation: https://pandas.pydata.org/pandas-docs/stable/user_guide/indexing.html#returning-a-view-versus-a-copy\n",
      "  df[f\"{module}_course1\"].loc[(df[\"id\"].isin(stud_list)) & (course_1_not_chosen)] = course\n",
      "C:\\Users\\chizh\\AppData\\Local\\Temp\\ipykernel_7880\\1910978081.py:18: SettingWithCopyWarning: \n",
      "A value is trying to be set on a copy of a slice from a DataFrame\n",
      "\n",
      "See the caveats in the documentation: https://pandas.pydata.org/pandas-docs/stable/user_guide/indexing.html#returning-a-view-versus-a-copy\n",
      "  df[f\"{module}_course2\"].loc[(df[\"id\"].isin(stud_list)) & (course_2_not_chosen) & (df[f\"{module}_course1\"] != course)] = course\n",
      "C:\\Users\\chizh\\AppData\\Local\\Temp\\ipykernel_7880\\1910978081.py:17: SettingWithCopyWarning: \n",
      "A value is trying to be set on a copy of a slice from a DataFrame\n",
      "\n",
      "See the caveats in the documentation: https://pandas.pydata.org/pandas-docs/stable/user_guide/indexing.html#returning-a-view-versus-a-copy\n",
      "  df[f\"{module}_course1\"].loc[(df[\"id\"].isin(stud_list)) & (course_1_not_chosen)] = course\n",
      "C:\\Users\\chizh\\AppData\\Local\\Temp\\ipykernel_7880\\1910978081.py:18: SettingWithCopyWarning: \n",
      "A value is trying to be set on a copy of a slice from a DataFrame\n",
      "\n",
      "See the caveats in the documentation: https://pandas.pydata.org/pandas-docs/stable/user_guide/indexing.html#returning-a-view-versus-a-copy\n",
      "  df[f\"{module}_course2\"].loc[(df[\"id\"].isin(stud_list)) & (course_2_not_chosen) & (df[f\"{module}_course1\"] != course)] = course\n",
      "C:\\Users\\chizh\\AppData\\Local\\Temp\\ipykernel_7880\\1910978081.py:17: SettingWithCopyWarning: \n",
      "A value is trying to be set on a copy of a slice from a DataFrame\n",
      "\n",
      "See the caveats in the documentation: https://pandas.pydata.org/pandas-docs/stable/user_guide/indexing.html#returning-a-view-versus-a-copy\n",
      "  df[f\"{module}_course1\"].loc[(df[\"id\"].isin(stud_list)) & (course_1_not_chosen)] = course\n",
      "C:\\Users\\chizh\\AppData\\Local\\Temp\\ipykernel_7880\\1910978081.py:18: SettingWithCopyWarning: \n",
      "A value is trying to be set on a copy of a slice from a DataFrame\n",
      "\n",
      "See the caveats in the documentation: https://pandas.pydata.org/pandas-docs/stable/user_guide/indexing.html#returning-a-view-versus-a-copy\n",
      "  df[f\"{module}_course2\"].loc[(df[\"id\"].isin(stud_list)) & (course_2_not_chosen) & (df[f\"{module}_course1\"] != course)] = course\n",
      "C:\\Users\\chizh\\AppData\\Local\\Temp\\ipykernel_7880\\1910978081.py:17: SettingWithCopyWarning: \n",
      "A value is trying to be set on a copy of a slice from a DataFrame\n",
      "\n",
      "See the caveats in the documentation: https://pandas.pydata.org/pandas-docs/stable/user_guide/indexing.html#returning-a-view-versus-a-copy\n",
      "  df[f\"{module}_course1\"].loc[(df[\"id\"].isin(stud_list)) & (course_1_not_chosen)] = course\n",
      "C:\\Users\\chizh\\AppData\\Local\\Temp\\ipykernel_7880\\1910978081.py:18: SettingWithCopyWarning: \n",
      "A value is trying to be set on a copy of a slice from a DataFrame\n",
      "\n",
      "See the caveats in the documentation: https://pandas.pydata.org/pandas-docs/stable/user_guide/indexing.html#returning-a-view-versus-a-copy\n",
      "  df[f\"{module}_course2\"].loc[(df[\"id\"].isin(stud_list)) & (course_2_not_chosen) & (df[f\"{module}_course1\"] != course)] = course\n",
      "C:\\Users\\chizh\\AppData\\Local\\Temp\\ipykernel_7880\\1910978081.py:17: SettingWithCopyWarning: \n",
      "A value is trying to be set on a copy of a slice from a DataFrame\n",
      "\n",
      "See the caveats in the documentation: https://pandas.pydata.org/pandas-docs/stable/user_guide/indexing.html#returning-a-view-versus-a-copy\n",
      "  df[f\"{module}_course1\"].loc[(df[\"id\"].isin(stud_list)) & (course_1_not_chosen)] = course\n",
      "C:\\Users\\chizh\\AppData\\Local\\Temp\\ipykernel_7880\\1910978081.py:18: SettingWithCopyWarning: \n",
      "A value is trying to be set on a copy of a slice from a DataFrame\n",
      "\n",
      "See the caveats in the documentation: https://pandas.pydata.org/pandas-docs/stable/user_guide/indexing.html#returning-a-view-versus-a-copy\n",
      "  df[f\"{module}_course2\"].loc[(df[\"id\"].isin(stud_list)) & (course_2_not_chosen) & (df[f\"{module}_course1\"] != course)] = course\n",
      "C:\\Users\\chizh\\AppData\\Local\\Temp\\ipykernel_7880\\1910978081.py:17: SettingWithCopyWarning: \n",
      "A value is trying to be set on a copy of a slice from a DataFrame\n",
      "\n",
      "See the caveats in the documentation: https://pandas.pydata.org/pandas-docs/stable/user_guide/indexing.html#returning-a-view-versus-a-copy\n",
      "  df[f\"{module}_course1\"].loc[(df[\"id\"].isin(stud_list)) & (course_1_not_chosen)] = course\n",
      "C:\\Users\\chizh\\AppData\\Local\\Temp\\ipykernel_7880\\1910978081.py:18: SettingWithCopyWarning: \n",
      "A value is trying to be set on a copy of a slice from a DataFrame\n",
      "\n",
      "See the caveats in the documentation: https://pandas.pydata.org/pandas-docs/stable/user_guide/indexing.html#returning-a-view-versus-a-copy\n",
      "  df[f\"{module}_course2\"].loc[(df[\"id\"].isin(stud_list)) & (course_2_not_chosen) & (df[f\"{module}_course1\"] != course)] = course\n",
      "C:\\Users\\chizh\\AppData\\Local\\Temp\\ipykernel_7880\\1910978081.py:17: SettingWithCopyWarning: \n",
      "A value is trying to be set on a copy of a slice from a DataFrame\n",
      "\n",
      "See the caveats in the documentation: https://pandas.pydata.org/pandas-docs/stable/user_guide/indexing.html#returning-a-view-versus-a-copy\n",
      "  df[f\"{module}_course1\"].loc[(df[\"id\"].isin(stud_list)) & (course_1_not_chosen)] = course\n",
      "C:\\Users\\chizh\\AppData\\Local\\Temp\\ipykernel_7880\\1910978081.py:18: SettingWithCopyWarning: \n",
      "A value is trying to be set on a copy of a slice from a DataFrame\n",
      "\n",
      "See the caveats in the documentation: https://pandas.pydata.org/pandas-docs/stable/user_guide/indexing.html#returning-a-view-versus-a-copy\n",
      "  df[f\"{module}_course2\"].loc[(df[\"id\"].isin(stud_list)) & (course_2_not_chosen) & (df[f\"{module}_course1\"] != course)] = course\n",
      "C:\\Users\\chizh\\AppData\\Local\\Temp\\ipykernel_7880\\1910978081.py:17: SettingWithCopyWarning: \n",
      "A value is trying to be set on a copy of a slice from a DataFrame\n",
      "\n",
      "See the caveats in the documentation: https://pandas.pydata.org/pandas-docs/stable/user_guide/indexing.html#returning-a-view-versus-a-copy\n",
      "  df[f\"{module}_course1\"].loc[(df[\"id\"].isin(stud_list)) & (course_1_not_chosen)] = course\n",
      "C:\\Users\\chizh\\AppData\\Local\\Temp\\ipykernel_7880\\1910978081.py:18: SettingWithCopyWarning: \n",
      "A value is trying to be set on a copy of a slice from a DataFrame\n",
      "\n",
      "See the caveats in the documentation: https://pandas.pydata.org/pandas-docs/stable/user_guide/indexing.html#returning-a-view-versus-a-copy\n",
      "  df[f\"{module}_course2\"].loc[(df[\"id\"].isin(stud_list)) & (course_2_not_chosen) & (df[f\"{module}_course1\"] != course)] = course\n",
      "C:\\Users\\chizh\\AppData\\Local\\Temp\\ipykernel_7880\\1910978081.py:17: SettingWithCopyWarning: \n",
      "A value is trying to be set on a copy of a slice from a DataFrame\n",
      "\n",
      "See the caveats in the documentation: https://pandas.pydata.org/pandas-docs/stable/user_guide/indexing.html#returning-a-view-versus-a-copy\n",
      "  df[f\"{module}_course1\"].loc[(df[\"id\"].isin(stud_list)) & (course_1_not_chosen)] = course\n",
      "C:\\Users\\chizh\\AppData\\Local\\Temp\\ipykernel_7880\\1910978081.py:18: SettingWithCopyWarning: \n",
      "A value is trying to be set on a copy of a slice from a DataFrame\n",
      "\n",
      "See the caveats in the documentation: https://pandas.pydata.org/pandas-docs/stable/user_guide/indexing.html#returning-a-view-versus-a-copy\n",
      "  df[f\"{module}_course2\"].loc[(df[\"id\"].isin(stud_list)) & (course_2_not_chosen) & (df[f\"{module}_course1\"] != course)] = course\n",
      "C:\\Users\\chizh\\AppData\\Local\\Temp\\ipykernel_7880\\1910978081.py:17: SettingWithCopyWarning: \n",
      "A value is trying to be set on a copy of a slice from a DataFrame\n",
      "\n",
      "See the caveats in the documentation: https://pandas.pydata.org/pandas-docs/stable/user_guide/indexing.html#returning-a-view-versus-a-copy\n",
      "  df[f\"{module}_course1\"].loc[(df[\"id\"].isin(stud_list)) & (course_1_not_chosen)] = course\n",
      "C:\\Users\\chizh\\AppData\\Local\\Temp\\ipykernel_7880\\1910978081.py:18: SettingWithCopyWarning: \n",
      "A value is trying to be set on a copy of a slice from a DataFrame\n",
      "\n",
      "See the caveats in the documentation: https://pandas.pydata.org/pandas-docs/stable/user_guide/indexing.html#returning-a-view-versus-a-copy\n",
      "  df[f\"{module}_course2\"].loc[(df[\"id\"].isin(stud_list)) & (course_2_not_chosen) & (df[f\"{module}_course1\"] != course)] = course\n",
      "C:\\Users\\chizh\\AppData\\Local\\Temp\\ipykernel_7880\\1910978081.py:17: SettingWithCopyWarning: \n",
      "A value is trying to be set on a copy of a slice from a DataFrame\n",
      "\n",
      "See the caveats in the documentation: https://pandas.pydata.org/pandas-docs/stable/user_guide/indexing.html#returning-a-view-versus-a-copy\n",
      "  df[f\"{module}_course1\"].loc[(df[\"id\"].isin(stud_list)) & (course_1_not_chosen)] = course\n",
      "C:\\Users\\chizh\\AppData\\Local\\Temp\\ipykernel_7880\\1910978081.py:18: SettingWithCopyWarning: \n",
      "A value is trying to be set on a copy of a slice from a DataFrame\n",
      "\n",
      "See the caveats in the documentation: https://pandas.pydata.org/pandas-docs/stable/user_guide/indexing.html#returning-a-view-versus-a-copy\n",
      "  df[f\"{module}_course2\"].loc[(df[\"id\"].isin(stud_list)) & (course_2_not_chosen) & (df[f\"{module}_course1\"] != course)] = course\n",
      "C:\\Users\\chizh\\AppData\\Local\\Temp\\ipykernel_7880\\1910978081.py:17: SettingWithCopyWarning: \n",
      "A value is trying to be set on a copy of a slice from a DataFrame\n",
      "\n",
      "See the caveats in the documentation: https://pandas.pydata.org/pandas-docs/stable/user_guide/indexing.html#returning-a-view-versus-a-copy\n",
      "  df[f\"{module}_course1\"].loc[(df[\"id\"].isin(stud_list)) & (course_1_not_chosen)] = course\n",
      "C:\\Users\\chizh\\AppData\\Local\\Temp\\ipykernel_7880\\1910978081.py:18: SettingWithCopyWarning: \n",
      "A value is trying to be set on a copy of a slice from a DataFrame\n",
      "\n",
      "See the caveats in the documentation: https://pandas.pydata.org/pandas-docs/stable/user_guide/indexing.html#returning-a-view-versus-a-copy\n",
      "  df[f\"{module}_course2\"].loc[(df[\"id\"].isin(stud_list)) & (course_2_not_chosen) & (df[f\"{module}_course1\"] != course)] = course\n",
      "C:\\Users\\chizh\\AppData\\Local\\Temp\\ipykernel_7880\\1910978081.py:17: SettingWithCopyWarning: \n",
      "A value is trying to be set on a copy of a slice from a DataFrame\n",
      "\n",
      "See the caveats in the documentation: https://pandas.pydata.org/pandas-docs/stable/user_guide/indexing.html#returning-a-view-versus-a-copy\n",
      "  df[f\"{module}_course1\"].loc[(df[\"id\"].isin(stud_list)) & (course_1_not_chosen)] = course\n",
      "C:\\Users\\chizh\\AppData\\Local\\Temp\\ipykernel_7880\\1910978081.py:18: SettingWithCopyWarning: \n",
      "A value is trying to be set on a copy of a slice from a DataFrame\n",
      "\n",
      "See the caveats in the documentation: https://pandas.pydata.org/pandas-docs/stable/user_guide/indexing.html#returning-a-view-versus-a-copy\n",
      "  df[f\"{module}_course2\"].loc[(df[\"id\"].isin(stud_list)) & (course_2_not_chosen) & (df[f\"{module}_course1\"] != course)] = course\n",
      "C:\\Users\\chizh\\AppData\\Local\\Temp\\ipykernel_7880\\1910978081.py:17: SettingWithCopyWarning: \n",
      "A value is trying to be set on a copy of a slice from a DataFrame\n",
      "\n",
      "See the caveats in the documentation: https://pandas.pydata.org/pandas-docs/stable/user_guide/indexing.html#returning-a-view-versus-a-copy\n",
      "  df[f\"{module}_course1\"].loc[(df[\"id\"].isin(stud_list)) & (course_1_not_chosen)] = course\n",
      "C:\\Users\\chizh\\AppData\\Local\\Temp\\ipykernel_7880\\1910978081.py:18: SettingWithCopyWarning: \n",
      "A value is trying to be set on a copy of a slice from a DataFrame\n",
      "\n",
      "See the caveats in the documentation: https://pandas.pydata.org/pandas-docs/stable/user_guide/indexing.html#returning-a-view-versus-a-copy\n",
      "  df[f\"{module}_course2\"].loc[(df[\"id\"].isin(stud_list)) & (course_2_not_chosen) & (df[f\"{module}_course1\"] != course)] = course\n",
      "C:\\Users\\chizh\\AppData\\Local\\Temp\\ipykernel_7880\\1910978081.py:17: SettingWithCopyWarning: \n",
      "A value is trying to be set on a copy of a slice from a DataFrame\n",
      "\n",
      "See the caveats in the documentation: https://pandas.pydata.org/pandas-docs/stable/user_guide/indexing.html#returning-a-view-versus-a-copy\n",
      "  df[f\"{module}_course1\"].loc[(df[\"id\"].isin(stud_list)) & (course_1_not_chosen)] = course\n",
      "C:\\Users\\chizh\\AppData\\Local\\Temp\\ipykernel_7880\\1910978081.py:18: SettingWithCopyWarning: \n",
      "A value is trying to be set on a copy of a slice from a DataFrame\n",
      "\n",
      "See the caveats in the documentation: https://pandas.pydata.org/pandas-docs/stable/user_guide/indexing.html#returning-a-view-versus-a-copy\n",
      "  df[f\"{module}_course2\"].loc[(df[\"id\"].isin(stud_list)) & (course_2_not_chosen) & (df[f\"{module}_course1\"] != course)] = course\n",
      "C:\\Users\\chizh\\AppData\\Local\\Temp\\ipykernel_7880\\1910978081.py:17: SettingWithCopyWarning: \n",
      "A value is trying to be set on a copy of a slice from a DataFrame\n",
      "\n",
      "See the caveats in the documentation: https://pandas.pydata.org/pandas-docs/stable/user_guide/indexing.html#returning-a-view-versus-a-copy\n",
      "  df[f\"{module}_course1\"].loc[(df[\"id\"].isin(stud_list)) & (course_1_not_chosen)] = course\n",
      "C:\\Users\\chizh\\AppData\\Local\\Temp\\ipykernel_7880\\1910978081.py:18: SettingWithCopyWarning: \n",
      "A value is trying to be set on a copy of a slice from a DataFrame\n",
      "\n",
      "See the caveats in the documentation: https://pandas.pydata.org/pandas-docs/stable/user_guide/indexing.html#returning-a-view-versus-a-copy\n",
      "  df[f\"{module}_course2\"].loc[(df[\"id\"].isin(stud_list)) & (course_2_not_chosen) & (df[f\"{module}_course1\"] != course)] = course\n",
      "C:\\Users\\chizh\\AppData\\Local\\Temp\\ipykernel_7880\\1910978081.py:17: SettingWithCopyWarning: \n",
      "A value is trying to be set on a copy of a slice from a DataFrame\n",
      "\n",
      "See the caveats in the documentation: https://pandas.pydata.org/pandas-docs/stable/user_guide/indexing.html#returning-a-view-versus-a-copy\n",
      "  df[f\"{module}_course1\"].loc[(df[\"id\"].isin(stud_list)) & (course_1_not_chosen)] = course\n",
      "C:\\Users\\chizh\\AppData\\Local\\Temp\\ipykernel_7880\\1910978081.py:18: SettingWithCopyWarning: \n",
      "A value is trying to be set on a copy of a slice from a DataFrame\n",
      "\n",
      "See the caveats in the documentation: https://pandas.pydata.org/pandas-docs/stable/user_guide/indexing.html#returning-a-view-versus-a-copy\n",
      "  df[f\"{module}_course2\"].loc[(df[\"id\"].isin(stud_list)) & (course_2_not_chosen) & (df[f\"{module}_course1\"] != course)] = course\n",
      "C:\\Users\\chizh\\AppData\\Local\\Temp\\ipykernel_7880\\1910978081.py:17: SettingWithCopyWarning: \n",
      "A value is trying to be set on a copy of a slice from a DataFrame\n",
      "\n",
      "See the caveats in the documentation: https://pandas.pydata.org/pandas-docs/stable/user_guide/indexing.html#returning-a-view-versus-a-copy\n",
      "  df[f\"{module}_course1\"].loc[(df[\"id\"].isin(stud_list)) & (course_1_not_chosen)] = course\n",
      "C:\\Users\\chizh\\AppData\\Local\\Temp\\ipykernel_7880\\1910978081.py:18: SettingWithCopyWarning: \n",
      "A value is trying to be set on a copy of a slice from a DataFrame\n",
      "\n",
      "See the caveats in the documentation: https://pandas.pydata.org/pandas-docs/stable/user_guide/indexing.html#returning-a-view-versus-a-copy\n",
      "  df[f\"{module}_course2\"].loc[(df[\"id\"].isin(stud_list)) & (course_2_not_chosen) & (df[f\"{module}_course1\"] != course)] = course\n",
      "C:\\Users\\chizh\\AppData\\Local\\Temp\\ipykernel_7880\\1910978081.py:17: SettingWithCopyWarning: \n",
      "A value is trying to be set on a copy of a slice from a DataFrame\n",
      "\n",
      "See the caveats in the documentation: https://pandas.pydata.org/pandas-docs/stable/user_guide/indexing.html#returning-a-view-versus-a-copy\n",
      "  df[f\"{module}_course1\"].loc[(df[\"id\"].isin(stud_list)) & (course_1_not_chosen)] = course\n",
      "C:\\Users\\chizh\\AppData\\Local\\Temp\\ipykernel_7880\\1910978081.py:18: SettingWithCopyWarning: \n",
      "A value is trying to be set on a copy of a slice from a DataFrame\n",
      "\n",
      "See the caveats in the documentation: https://pandas.pydata.org/pandas-docs/stable/user_guide/indexing.html#returning-a-view-versus-a-copy\n",
      "  df[f\"{module}_course2\"].loc[(df[\"id\"].isin(stud_list)) & (course_2_not_chosen) & (df[f\"{module}_course1\"] != course)] = course\n",
      "C:\\Users\\chizh\\AppData\\Local\\Temp\\ipykernel_7880\\1910978081.py:17: SettingWithCopyWarning: \n",
      "A value is trying to be set on a copy of a slice from a DataFrame\n",
      "\n",
      "See the caveats in the documentation: https://pandas.pydata.org/pandas-docs/stable/user_guide/indexing.html#returning-a-view-versus-a-copy\n",
      "  df[f\"{module}_course1\"].loc[(df[\"id\"].isin(stud_list)) & (course_1_not_chosen)] = course\n",
      "C:\\Users\\chizh\\AppData\\Local\\Temp\\ipykernel_7880\\1910978081.py:18: SettingWithCopyWarning: \n",
      "A value is trying to be set on a copy of a slice from a DataFrame\n",
      "\n",
      "See the caveats in the documentation: https://pandas.pydata.org/pandas-docs/stable/user_guide/indexing.html#returning-a-view-versus-a-copy\n",
      "  df[f\"{module}_course2\"].loc[(df[\"id\"].isin(stud_list)) & (course_2_not_chosen) & (df[f\"{module}_course1\"] != course)] = course\n",
      "C:\\Users\\chizh\\AppData\\Local\\Temp\\ipykernel_7880\\1910978081.py:17: SettingWithCopyWarning: \n",
      "A value is trying to be set on a copy of a slice from a DataFrame\n",
      "\n",
      "See the caveats in the documentation: https://pandas.pydata.org/pandas-docs/stable/user_guide/indexing.html#returning-a-view-versus-a-copy\n",
      "  df[f\"{module}_course1\"].loc[(df[\"id\"].isin(stud_list)) & (course_1_not_chosen)] = course\n",
      "C:\\Users\\chizh\\AppData\\Local\\Temp\\ipykernel_7880\\1910978081.py:18: SettingWithCopyWarning: \n",
      "A value is trying to be set on a copy of a slice from a DataFrame\n",
      "\n",
      "See the caveats in the documentation: https://pandas.pydata.org/pandas-docs/stable/user_guide/indexing.html#returning-a-view-versus-a-copy\n",
      "  df[f\"{module}_course2\"].loc[(df[\"id\"].isin(stud_list)) & (course_2_not_chosen) & (df[f\"{module}_course1\"] != course)] = course\n",
      "C:\\Users\\chizh\\AppData\\Local\\Temp\\ipykernel_7880\\1910978081.py:17: SettingWithCopyWarning: \n",
      "A value is trying to be set on a copy of a slice from a DataFrame\n",
      "\n",
      "See the caveats in the documentation: https://pandas.pydata.org/pandas-docs/stable/user_guide/indexing.html#returning-a-view-versus-a-copy\n",
      "  df[f\"{module}_course1\"].loc[(df[\"id\"].isin(stud_list)) & (course_1_not_chosen)] = course\n",
      "C:\\Users\\chizh\\AppData\\Local\\Temp\\ipykernel_7880\\1910978081.py:18: SettingWithCopyWarning: \n",
      "A value is trying to be set on a copy of a slice from a DataFrame\n",
      "\n",
      "See the caveats in the documentation: https://pandas.pydata.org/pandas-docs/stable/user_guide/indexing.html#returning-a-view-versus-a-copy\n",
      "  df[f\"{module}_course2\"].loc[(df[\"id\"].isin(stud_list)) & (course_2_not_chosen) & (df[f\"{module}_course1\"] != course)] = course\n",
      "C:\\Users\\chizh\\AppData\\Local\\Temp\\ipykernel_7880\\1910978081.py:17: SettingWithCopyWarning: \n",
      "A value is trying to be set on a copy of a slice from a DataFrame\n",
      "\n",
      "See the caveats in the documentation: https://pandas.pydata.org/pandas-docs/stable/user_guide/indexing.html#returning-a-view-versus-a-copy\n",
      "  df[f\"{module}_course1\"].loc[(df[\"id\"].isin(stud_list)) & (course_1_not_chosen)] = course\n",
      "C:\\Users\\chizh\\AppData\\Local\\Temp\\ipykernel_7880\\1910978081.py:18: SettingWithCopyWarning: \n",
      "A value is trying to be set on a copy of a slice from a DataFrame\n",
      "\n",
      "See the caveats in the documentation: https://pandas.pydata.org/pandas-docs/stable/user_guide/indexing.html#returning-a-view-versus-a-copy\n",
      "  df[f\"{module}_course2\"].loc[(df[\"id\"].isin(stud_list)) & (course_2_not_chosen) & (df[f\"{module}_course1\"] != course)] = course\n",
      "C:\\Users\\chizh\\AppData\\Local\\Temp\\ipykernel_7880\\1910978081.py:17: SettingWithCopyWarning: \n",
      "A value is trying to be set on a copy of a slice from a DataFrame\n",
      "\n",
      "See the caveats in the documentation: https://pandas.pydata.org/pandas-docs/stable/user_guide/indexing.html#returning-a-view-versus-a-copy\n",
      "  df[f\"{module}_course1\"].loc[(df[\"id\"].isin(stud_list)) & (course_1_not_chosen)] = course\n",
      "C:\\Users\\chizh\\AppData\\Local\\Temp\\ipykernel_7880\\1910978081.py:18: SettingWithCopyWarning: \n",
      "A value is trying to be set on a copy of a slice from a DataFrame\n",
      "\n",
      "See the caveats in the documentation: https://pandas.pydata.org/pandas-docs/stable/user_guide/indexing.html#returning-a-view-versus-a-copy\n",
      "  df[f\"{module}_course2\"].loc[(df[\"id\"].isin(stud_list)) & (course_2_not_chosen) & (df[f\"{module}_course1\"] != course)] = course\n",
      "C:\\Users\\chizh\\AppData\\Local\\Temp\\ipykernel_7880\\1910978081.py:17: SettingWithCopyWarning: \n",
      "A value is trying to be set on a copy of a slice from a DataFrame\n",
      "\n",
      "See the caveats in the documentation: https://pandas.pydata.org/pandas-docs/stable/user_guide/indexing.html#returning-a-view-versus-a-copy\n",
      "  df[f\"{module}_course1\"].loc[(df[\"id\"].isin(stud_list)) & (course_1_not_chosen)] = course\n",
      "C:\\Users\\chizh\\AppData\\Local\\Temp\\ipykernel_7880\\1910978081.py:18: SettingWithCopyWarning: \n",
      "A value is trying to be set on a copy of a slice from a DataFrame\n",
      "\n",
      "See the caveats in the documentation: https://pandas.pydata.org/pandas-docs/stable/user_guide/indexing.html#returning-a-view-versus-a-copy\n",
      "  df[f\"{module}_course2\"].loc[(df[\"id\"].isin(stud_list)) & (course_2_not_chosen) & (df[f\"{module}_course1\"] != course)] = course\n",
      "C:\\Users\\chizh\\AppData\\Local\\Temp\\ipykernel_7880\\1910978081.py:17: SettingWithCopyWarning: \n",
      "A value is trying to be set on a copy of a slice from a DataFrame\n",
      "\n",
      "See the caveats in the documentation: https://pandas.pydata.org/pandas-docs/stable/user_guide/indexing.html#returning-a-view-versus-a-copy\n",
      "  df[f\"{module}_course1\"].loc[(df[\"id\"].isin(stud_list)) & (course_1_not_chosen)] = course\n",
      "C:\\Users\\chizh\\AppData\\Local\\Temp\\ipykernel_7880\\1910978081.py:18: SettingWithCopyWarning: \n",
      "A value is trying to be set on a copy of a slice from a DataFrame\n",
      "\n",
      "See the caveats in the documentation: https://pandas.pydata.org/pandas-docs/stable/user_guide/indexing.html#returning-a-view-versus-a-copy\n",
      "  df[f\"{module}_course2\"].loc[(df[\"id\"].isin(stud_list)) & (course_2_not_chosen) & (df[f\"{module}_course1\"] != course)] = course\n",
      "C:\\Users\\chizh\\AppData\\Local\\Temp\\ipykernel_7880\\1910978081.py:17: SettingWithCopyWarning: \n",
      "A value is trying to be set on a copy of a slice from a DataFrame\n",
      "\n",
      "See the caveats in the documentation: https://pandas.pydata.org/pandas-docs/stable/user_guide/indexing.html#returning-a-view-versus-a-copy\n",
      "  df[f\"{module}_course1\"].loc[(df[\"id\"].isin(stud_list)) & (course_1_not_chosen)] = course\n",
      "C:\\Users\\chizh\\AppData\\Local\\Temp\\ipykernel_7880\\1910978081.py:18: SettingWithCopyWarning: \n",
      "A value is trying to be set on a copy of a slice from a DataFrame\n",
      "\n",
      "See the caveats in the documentation: https://pandas.pydata.org/pandas-docs/stable/user_guide/indexing.html#returning-a-view-versus-a-copy\n",
      "  df[f\"{module}_course2\"].loc[(df[\"id\"].isin(stud_list)) & (course_2_not_chosen) & (df[f\"{module}_course1\"] != course)] = course\n",
      "C:\\Users\\chizh\\AppData\\Local\\Temp\\ipykernel_7880\\1910978081.py:17: SettingWithCopyWarning: \n",
      "A value is trying to be set on a copy of a slice from a DataFrame\n",
      "\n",
      "See the caveats in the documentation: https://pandas.pydata.org/pandas-docs/stable/user_guide/indexing.html#returning-a-view-versus-a-copy\n",
      "  df[f\"{module}_course1\"].loc[(df[\"id\"].isin(stud_list)) & (course_1_not_chosen)] = course\n",
      "C:\\Users\\chizh\\AppData\\Local\\Temp\\ipykernel_7880\\1910978081.py:18: SettingWithCopyWarning: \n",
      "A value is trying to be set on a copy of a slice from a DataFrame\n",
      "\n",
      "See the caveats in the documentation: https://pandas.pydata.org/pandas-docs/stable/user_guide/indexing.html#returning-a-view-versus-a-copy\n",
      "  df[f\"{module}_course2\"].loc[(df[\"id\"].isin(stud_list)) & (course_2_not_chosen) & (df[f\"{module}_course1\"] != course)] = course\n",
      "C:\\Users\\chizh\\AppData\\Local\\Temp\\ipykernel_7880\\1910978081.py:17: SettingWithCopyWarning: \n",
      "A value is trying to be set on a copy of a slice from a DataFrame\n",
      "\n",
      "See the caveats in the documentation: https://pandas.pydata.org/pandas-docs/stable/user_guide/indexing.html#returning-a-view-versus-a-copy\n",
      "  df[f\"{module}_course1\"].loc[(df[\"id\"].isin(stud_list)) & (course_1_not_chosen)] = course\n",
      "C:\\Users\\chizh\\AppData\\Local\\Temp\\ipykernel_7880\\1910978081.py:18: SettingWithCopyWarning: \n",
      "A value is trying to be set on a copy of a slice from a DataFrame\n",
      "\n",
      "See the caveats in the documentation: https://pandas.pydata.org/pandas-docs/stable/user_guide/indexing.html#returning-a-view-versus-a-copy\n",
      "  df[f\"{module}_course2\"].loc[(df[\"id\"].isin(stud_list)) & (course_2_not_chosen) & (df[f\"{module}_course1\"] != course)] = course\n",
      "C:\\Users\\chizh\\AppData\\Local\\Temp\\ipykernel_7880\\1910978081.py:17: SettingWithCopyWarning: \n",
      "A value is trying to be set on a copy of a slice from a DataFrame\n",
      "\n",
      "See the caveats in the documentation: https://pandas.pydata.org/pandas-docs/stable/user_guide/indexing.html#returning-a-view-versus-a-copy\n",
      "  df[f\"{module}_course1\"].loc[(df[\"id\"].isin(stud_list)) & (course_1_not_chosen)] = course\n",
      "C:\\Users\\chizh\\AppData\\Local\\Temp\\ipykernel_7880\\1910978081.py:18: SettingWithCopyWarning: \n",
      "A value is trying to be set on a copy of a slice from a DataFrame\n",
      "\n",
      "See the caveats in the documentation: https://pandas.pydata.org/pandas-docs/stable/user_guide/indexing.html#returning-a-view-versus-a-copy\n",
      "  df[f\"{module}_course2\"].loc[(df[\"id\"].isin(stud_list)) & (course_2_not_chosen) & (df[f\"{module}_course1\"] != course)] = course\n",
      "C:\\Users\\chizh\\AppData\\Local\\Temp\\ipykernel_7880\\1910978081.py:17: SettingWithCopyWarning: \n",
      "A value is trying to be set on a copy of a slice from a DataFrame\n",
      "\n",
      "See the caveats in the documentation: https://pandas.pydata.org/pandas-docs/stable/user_guide/indexing.html#returning-a-view-versus-a-copy\n",
      "  df[f\"{module}_course1\"].loc[(df[\"id\"].isin(stud_list)) & (course_1_not_chosen)] = course\n",
      "C:\\Users\\chizh\\AppData\\Local\\Temp\\ipykernel_7880\\1910978081.py:18: SettingWithCopyWarning: \n",
      "A value is trying to be set on a copy of a slice from a DataFrame\n",
      "\n",
      "See the caveats in the documentation: https://pandas.pydata.org/pandas-docs/stable/user_guide/indexing.html#returning-a-view-versus-a-copy\n",
      "  df[f\"{module}_course2\"].loc[(df[\"id\"].isin(stud_list)) & (course_2_not_chosen) & (df[f\"{module}_course1\"] != course)] = course\n",
      "C:\\Users\\chizh\\AppData\\Local\\Temp\\ipykernel_7880\\1910978081.py:17: SettingWithCopyWarning: \n",
      "A value is trying to be set on a copy of a slice from a DataFrame\n",
      "\n",
      "See the caveats in the documentation: https://pandas.pydata.org/pandas-docs/stable/user_guide/indexing.html#returning-a-view-versus-a-copy\n",
      "  df[f\"{module}_course1\"].loc[(df[\"id\"].isin(stud_list)) & (course_1_not_chosen)] = course\n",
      "C:\\Users\\chizh\\AppData\\Local\\Temp\\ipykernel_7880\\1910978081.py:18: SettingWithCopyWarning: \n",
      "A value is trying to be set on a copy of a slice from a DataFrame\n",
      "\n",
      "See the caveats in the documentation: https://pandas.pydata.org/pandas-docs/stable/user_guide/indexing.html#returning-a-view-versus-a-copy\n",
      "  df[f\"{module}_course2\"].loc[(df[\"id\"].isin(stud_list)) & (course_2_not_chosen) & (df[f\"{module}_course1\"] != course)] = course\n"
     ]
    }
   ],
   "source": [
    "for i in range(1, 4):\n",
    "    course_selection_upgraded(df, \"spring\", i)"
   ]
  },
  {
   "cell_type": "code",
   "execution_count": 51,
   "metadata": {},
   "outputs": [],
   "source": [
    "tmp = df[['id', 'spring_course1', 'spring_course2']].rename(columns={'id' : 'ID', 'spring_course1' : 'course1', 'spring_course2' : 'course2'})\n",
    "tmp.to_csv('res_spring.csv', index=None)"
   ]
  },
  {
   "cell_type": "markdown",
   "metadata": {
    "id": "It7QQZLYhLu7"
   },
   "source": [
    "**Отправьте свой файл res_spring.csv в контест (будет в ближайшее время, следите за новостями) и прикрепите/укажите ниже ваш никнейм и ссылку на успешную посылку.**"
   ]
  },
  {
   "cell_type": "markdown",
   "metadata": {},
   "source": [
    "Ник: mikhailchizhmar@yandex.ru"
   ]
  },
  {
   "cell_type": "markdown",
   "metadata": {},
   "source": [
    "https://contest.yandex.ru/contest/68637/run-report/120009645/"
   ]
  },
  {
   "cell_type": "markdown",
   "metadata": {
    "id": "1YcouVTihLu7"
   },
   "source": [
    "На всякий случай просим вас сдать вместе с ноутбуком файл res_spring.csv в anytask"
   ]
  },
  {
   "cell_type": "markdown",
   "metadata": {
    "id": "uY_OY6inhLu7"
   },
   "source": [
    "Вставьте картинку, описывающую ваш опыт выполнения этого задания:"
   ]
  },
  {
   "cell_type": "code",
   "execution_count": null,
   "metadata": {
    "id": "R9_7CnSFhLu7"
   },
   "outputs": [],
   "source": []
  }
 ],
 "metadata": {
  "colab": {
   "provenance": []
  },
  "kernelspec": {
   "display_name": "Python 3 (ipykernel)",
   "language": "python",
   "name": "python3"
  },
  "language_info": {
   "codemirror_mode": {
    "name": "ipython",
    "version": 3
   },
   "file_extension": ".py",
   "mimetype": "text/x-python",
   "name": "python",
   "nbconvert_exporter": "python",
   "pygments_lexer": "ipython3",
   "version": "3.12.3"
  },
  "varInspector": {
   "cols": {
    "lenName": 16,
    "lenType": 16,
    "lenVar": 40
   },
   "kernels_config": {
    "python": {
     "delete_cmd_postfix": "",
     "delete_cmd_prefix": "del ",
     "library": "var_list.py",
     "varRefreshCmd": "print(var_dic_list())"
    },
    "r": {
     "delete_cmd_postfix": ") ",
     "delete_cmd_prefix": "rm(",
     "library": "var_list.r",
     "varRefreshCmd": "cat(var_dic_list()) "
    }
   },
   "types_to_exclude": [
    "module",
    "function",
    "builtin_function_or_method",
    "instance",
    "_Feature"
   ],
   "window_display": false
  },
  "vscode": {
   "interpreter": {
    "hash": "e7370f93d1d0cde622a1f8e1c04877d8463912d04d973331ad4851f04de6915a"
   }
  }
 },
 "nbformat": 4,
 "nbformat_minor": 4
}
